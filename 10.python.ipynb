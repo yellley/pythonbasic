{
 "cells": [
  {
   "cell_type": "markdown",
   "id": "e60900dc-8294-4fd8-aa78-d03248d44ba3",
   "metadata": {},
   "source": [
    "# 22/1/17(화요일)"
   ]
  },
  {
   "cell_type": "markdown",
   "id": "28ec1190-f70e-4881-8e35-3494e9f0cbae",
   "metadata": {},
   "source": [
    "## class"
   ]
  },
  {
   "cell_type": "code",
   "execution_count": 2,
   "id": "e4fd5d17-7df5-4b4a-84b3-cd4c251e2be2",
   "metadata": {},
   "outputs": [],
   "source": [
    "import numpy as np"
   ]
  },
  {
   "cell_type": "code",
   "execution_count": 29,
   "id": "5fc856e8-9d59-4028-b7fc-16143c180cdc",
   "metadata": {},
   "outputs": [
    {
     "name": "stdout",
     "output_type": "stream",
     "text": [
      "현재 값은 135입니다.\n"
     ]
    }
   ],
   "source": [
    "#연습\n",
    "#도움받음\n",
    "\n",
    "class Calculator: #인스턴스초기화, 여기서 괄화를 쓰게 되면 \n",
    "    def __init__(self): #__init__초기화 할때 실행\n",
    "        self.value = 0 #value는 속성\n",
    "        \n",
    "      \n",
    "        \n",
    "        \n",
    "    def add(self, *args): #*args는 튜플형식 -> *args를 받아와야하는데 루프를 돌리거나 sum험수 쓰거나(np.sum()쓰는게 더 쉽고 빠름) \n",
    "        #왜 *args가 들어가야하는지 모르겠음\n",
    "        a_sum = np.array(args) #왜 array하는지, args가 들어가는지 모르겠음\n",
    "        self.value += np.sum(a_sum) #self.value가 왜 들어가야하는지 모르겠음\n",
    "    \n",
    "\n",
    "    def minus(self, *args):\n",
    "        a_minus = np.array(args)\n",
    "        self.value -= np.sum(a_minus)\n",
    "        \n",
    "\n",
    "    def show_value(self):\n",
    "        print(f\"현재 값은 {self.value}입니다.\")\n",
    "        \n",
    "    \n",
    "        \n",
    "c = Calculator() #class로부터 인스턴스를 초기화한다\n",
    "c.add(100)\n",
    "c.minus(10)\n",
    "c.add([10, 20])\n",
    "c.add(range(1, 6))\n",
    "c.show_value()    \n",
    "\n",
    "        \n",
    "        \n",
    "        \n",
    "# Calculator.minus(20)\n",
    "\n",
    "# c.show_value() #\"현재 값은 80입니다.\"\n",
    "\n",
    "# c.add()  #숫자를 입력해줒세요\n",
    "\n",
    "# c.minus([10, 20])\n",
    "\n",
    "# c.show_value()#\"현재 값은 50입니다\"\n",
    "\n",
    "# c.add(range(1, 6))\n",
    "\n",
    "# c.show_value()# \"현재 값은 65입니다\"\n",
    "\n",
    "\n",
    "\n",
    "\n",
    "\n",
    "\n",
    "#선생님 코드\n",
    "class Calculator:\n",
    "    def __init__(self):\n",
    "        self.value = 0 #밖에 vlaue = 0으로 두고 self만 써도 됨\n",
    "    \n",
    "    def add(self, *args):\n",
    "        if len(args) > 0:\n",
    "            num = np.array(args)\n",
    "            self.value += np.sum(num)\n",
    "        else:\n",
    "            print(\"숫자를 입력해주세요\")\n",
    "    \n",
    "    def minus(self, *args):\n",
    "        if len(args) > 0:\n",
    "            num = np.array(args)\n",
    "            self.value -= np.sum(num)\n",
    "        else:\n",
    "            print(\"숫자를 입력해주세요\")\n",
    "            \n",
    "    def show_value(self):\n",
    "        print(f\"현재 값은 {self.value}입니다.\")\n",
    "        \n",
    "        \n",
    "c = Calculator() #class로부터 인스턴스를 초기화한다\n",
    "c.add(100)\n",
    "c.minus(10)\n",
    "# c.add([10, 20])\n",
    "# c.add(range(1, 6))\n",
    "c.show_value()    \n",
    "    "
   ]
  },
  {
   "cell_type": "code",
   "execution_count": 32,
   "id": "bdb213f8-d1b4-46da-9a0d-08e720920aec",
   "metadata": {},
   "outputs": [
    {
     "name": "stdout",
     "output_type": "stream",
     "text": [
      "현재 값은 90입니다.\n"
     ]
    }
   ],
   "source": [
    "class Calculator:\n",
    "    def __init__(self):\n",
    "        self.value = 0 #밖에 vlaue = 0으로 두고 self만 써도 됨\n",
    "    \n",
    "    def add(self, *args):\n",
    "        if len(args) > 0:\n",
    "            num = np.array(args)\n",
    "            self.value += np.sum(num)\n",
    "        else:\n",
    "            print(\"숫자를 입력해주세요\")\n",
    "    \n",
    "    def minus(self, *args):\n",
    "        if len(args) > 0:\n",
    "            num = np.array(args)\n",
    "            self.value -= np.sum(num)\n",
    "        else:\n",
    "            print(\"숫자를 입력해주세요\")\n",
    "            \n",
    "    def show_value(self):\n",
    "        print(f\"현재 값은 {self.value}입니다.\")\n",
    "        \n",
    "        \n",
    "c = Calculator() #class로부터 인스턴스를 초기화한다\n",
    "c.add(100)\n",
    "c.minus(10)\n",
    "# c.add([10, 20])\n",
    "# c.add(range(1, 6))\n",
    "c.show_value()    \n"
   ]
  },
  {
   "cell_type": "markdown",
   "id": "f0700c2b-2a7d-4a0f-8cd4-35dbd5c4dc9c",
   "metadata": {},
   "source": [
    "## numpy"
   ]
  },
  {
   "cell_type": "code",
   "execution_count": 38,
   "id": "01bbe2f6-ece9-46b3-830d-48d6cff925f7",
   "metadata": {},
   "outputs": [
    {
     "name": "stderr",
     "output_type": "stream",
     "text": [
      "UsageError: Line magic function `%%time` not found.\n"
     ]
    }
   ],
   "source": [
    "#벡터화 연산\n",
    "\n",
    "%%time #걸리는 시간 알려줌, 코드가 돌아가는데 걸린 시간을 알려줌\n",
    "\n",
    "\n",
    "#사칙연산 뿐만 아니라 비교연산같은 논리연산도 벡터화 연산 가능\n",
    "\n",
    "#all명령 : 일일히 비교 하는 것이 아닌 배열의 모든 원소가 다 같은지 알고 싶을 때 사용(전부같아야 True)\n",
    "\n",
    "\n"
   ]
  },
  {
   "cell_type": "code",
   "execution_count": 40,
   "id": "e3a3f0ab-378d-40ac-b644-0d88727752cc",
   "metadata": {},
   "outputs": [
    {
     "data": {
      "text/plain": [
       "array([ 4., 10., 18.])"
      ]
     },
     "execution_count": 40,
     "metadata": {},
     "output_type": "execute_result"
    }
   ],
   "source": [
    "#스칼라와 벡터/행렬의 곱셈\n",
    "\n",
    "#배열에서 스칼라와 벡터/행렬의 곱도 선형대수에서 사용하는 식과 같이 표현 가능\n",
    "x = np.arange(10)\n",
    "\n",
    "~\n",
    "\n",
    "\n",
    "#\n",
    "a = np.array([1.0 , 2.0, 3.0])\n",
    "b = np.array([4.0, 5.0, 6.0])\n",
    "a*b"
   ]
  },
  {
   "cell_type": "code",
   "execution_count": null,
   "id": "e7034fdf-2574-4ac5-9bd1-b2c7943c9911",
   "metadata": {},
   "outputs": [],
   "source": [
    "#브로드캐스팅\n",
    "\n",
    "#모양이 다른 배열간의 연산이 가능해 지도록 배열 크기를 변환시켜줌\n",
    "#작은 배열이 더 큰 배열에 호환되는 모양으로 확장장\n",
    "\n",
    "#규칙 예시 : 배열과 스칼라 값이 연산에서 결합될때\n",
    "\n",
    "\n",
    "#브로드캐스팅 불가능한 경우에서 4의 약수인 2가 있을 때는 왜 안되는지 궁금, 아까는 한가지만 충족 되면 된다했는데 예시에선 1이 있는데 왜 안되는거지?\n",
    "\n",
    "\n",
    "\n",
    "#차원축소연산 -> 행렬의 하나의 행에 있는 원소들을 하나의 데이터 집합으로 보고 그 집합의 평균을 구하면 각 행에 대해 하나의 숫자가 나옴\n",
    "            # -> 예시로 10 X 5크기의 2차원 배열에 대해 행-평균을 구하면 10개 숫자를 가진 1차원 벡터가 나오면 이것을 차원축소연산이라고함"
   ]
  },
  {
   "cell_type": "code",
   "execution_count": 6,
   "id": "fd849f06-4dd2-426a-84ce-06c5bc473bef",
   "metadata": {},
   "outputs": [
    {
     "name": "stdout",
     "output_type": "stream",
     "text": [
      "[12 15 18 21]\n",
      "[ 6 22 38]\n"
     ]
    }
   ],
   "source": [
    "#차원 축소 연산\n",
    "\n",
    "## sum() : 해당 배열의 합산 결과를 반환, 2차원 이상일 때는 axis키워드 인수 사용가능\n",
    "\n",
    "#1)\n",
    "x = np.array([1,3,2])\n",
    "np.sum(x)\n",
    "\n",
    "#2)\n",
    "x = np.arange(12).reshape(3, -1)\n",
    "print(x.sum(axis = 0))#행 간의 연산 결과를 구함.\n",
    "print(x.sum(axis = 1)) #열 간의 연산 결과를 구함"
   ]
  },
  {
   "cell_type": "code",
   "execution_count": 13,
   "id": "bacf9338-e248-4e24-8203-6ac312938928",
   "metadata": {},
   "outputs": [
    {
     "name": "stdout",
     "output_type": "stream",
     "text": [
      "<built-in method min of numpy.ndarray object at 0x0000024F9724D690>\n",
      "[[0 1]\n",
      " [2 3]\n",
      " [4 5]\n",
      " [6 7]\n",
      " [8 9]]\n",
      "[[ 0  1]\n",
      " [10 11]]\n",
      "[[ 0  2  4  6  8]\n",
      " [10 12 14 16 18]]\n"
     ]
    }
   ],
   "source": [
    "## min() : 배열의 제일 작은 값(최소값) 반환, 2차원 이상일 땐 axis키워드 인수 사용가능\n",
    "\n",
    "x = np.arange(20).reshape(2, 5, -1)\n",
    "\n",
    "print(x.min)\n",
    "\n",
    "print(x.min(axis = 0))\n",
    "\n",
    "print(np.min(x, axis = 1)) #얜 왜 np로 바로 묶었지? : np를 사용하며 구조상관없이 전부다 가져와서 더할 수 있음\n",
    "\n",
    "print(x.min(axis = 2))\n"
   ]
  },
  {
   "cell_type": "code",
   "execution_count": 10,
   "id": "83a89908-d012-4876-9cf8-a014c485a16b",
   "metadata": {},
   "outputs": [
    {
     "name": "stdout",
     "output_type": "stream",
     "text": [
      "<built-in method argmin of numpy.ndarray object at 0x0000024F9724DC30>\n",
      "[[0 0]\n",
      " [0 0]\n",
      " [0 0]\n",
      " [0 0]\n",
      " [0 0]]\n",
      "[[0 0]\n",
      " [0 0]]\n",
      "[[0 0 0 0 0]\n",
      " [0 0 0 0 0]]\n"
     ]
    }
   ],
   "source": [
    "## argmin() : 해당 배열의 제일 작은 값의 인덱스 반환, axis사용 가능\n",
    "\n",
    "x = np.arange(20).reshape(2, 5, -1)\n",
    "\n",
    "print(x.argmin)\n",
    "print(x.argmin(axis = 0))\n",
    "print(x.argmin(axis = 1))\n",
    "print(x.argmin(axis = 2))"
   ]
  },
  {
   "cell_type": "code",
   "execution_count": 12,
   "id": "71143f6c-fae6-409d-9d73-dde70f0faa39",
   "metadata": {},
   "outputs": [
    {
     "name": "stdout",
     "output_type": "stream",
     "text": [
      "<built-in method max of numpy.ndarray object at 0x0000024F9724D810>\n",
      "[[10 11]\n",
      " [12 13]\n",
      " [14 15]\n",
      " [16 17]\n",
      " [18 19]]\n",
      "[[ 8  9]\n",
      " [18 19]]\n",
      "[[ 1  3  5  7  9]\n",
      " [11 13 15 17 19]]\n"
     ]
    }
   ],
   "source": [
    "## max() : 제일 큰 값 반환(최댓값), axis사용 가능\n",
    "\n",
    "x = np.arange(20).reshape(2, 5, -1)\n",
    "\n",
    "print(x.max)\n",
    "\n",
    "print(x.max(axis = 0))\n",
    "\n",
    "print(np.max(x, axis = 1)) #얜 왜 np로 바로 묶었지? : np를 사용하며 구조상관없이 전부다 가져와서 더할 수 있음, 왜 axis가 1일때만 np를 사용하지??????????????????????\n",
    "\n",
    "print(x.max(axis = 2))\n"
   ]
  },
  {
   "cell_type": "code",
   "execution_count": 16,
   "id": "931c18e7-2d6c-4a8b-9319-617b329e8c86",
   "metadata": {},
   "outputs": [
    {
     "name": "stdout",
     "output_type": "stream",
     "text": [
      "<built-in method argmax of numpy.ndarray object at 0x0000024F9724D8D0>\n",
      "19\n",
      "[[1 1]\n",
      " [1 1]\n",
      " [1 1]\n",
      " [1 1]\n",
      " [1 1]]\n",
      "[[4 4]\n",
      " [4 4]]\n",
      "[[4 4]\n",
      " [4 4]]\n",
      "[[1 1 1 1 1]\n",
      " [1 1 1 1 1]]\n"
     ]
    }
   ],
   "source": [
    "## argmax() : 제일 큰 값의 인덱스 반환 ,axis사용가능\n",
    "\n",
    "x = np.arange(20).reshape(2, 5, -1)\n",
    "\n",
    "print(x.argmax)\n",
    "print(np.argmax(x))\n",
    "print(x.argmax(axis = 0))\n",
    "print(x.argmax(axis = 1))\n",
    "print(np.argmax(x, axis = 1))\n",
    "print(x.argmax(axis = 2))"
   ]
  },
  {
   "cell_type": "code",
   "execution_count": null,
   "id": "fea41326-d4c0-41d7-a046-645a007385bc",
   "metadata": {},
   "outputs": [],
   "source": [
    "## mena() : 평균 \n",
    "\n",
    "## median() : 중앙값\n",
    "\n",
    "## np.all() : 모든 요소 True면 True, 하나라도 False면 False\n",
    "\n",
    "## np.any() : 하나라도 True면 True, 전부 Fasle여야 False\n",
    "\n"
   ]
  },
  {
   "cell_type": "code",
   "execution_count": 31,
   "id": "741dc8b8-c1b5-4e4f-9720-547594cebe1c",
   "metadata": {},
   "outputs": [
    {
     "name": "stdout",
     "output_type": "stream",
     "text": [
      "9.0\n",
      "[20.1 27.  23.6 26.  28.2 26.5]\n",
      "[8.2 8.8 8.  9.  7.7 8.9]\n",
      "[8.  9.  8.9 8.2 8.9]\n",
      "[5.33333333 5.11666667 5.71666667 4.11666667 4.95      ]\n",
      "[1.1 2.7 0.7 0.2 2.7]\n"
     ]
    }
   ],
   "source": [
    "#연습\n",
    "\n",
    "p = np.array([[1.1, 7.1, 8.0, 2.1, 6.5, 7.2],\n",
    "              [2.7, 5.2, 3.3, 9.0, 7.7, 2.8],\n",
    "              [0.7, 8.8, 4.2, 8.9, 4.3, 7.4],\n",
    "              [8.2, 1.1, 5.4, 2.9, 6.9, 0.2],\n",
    "              [7.4, 4.8, 2.7, 3.1, 2.8, 8.9]])\n",
    "\n",
    "print(p.max())\n",
    "print(p.sum(axis = 0))\n",
    "print(p.max(axis = 0))\n",
    "print(p.max(axis = 1))\n",
    "print(p.mean(axis = 1))\n",
    "print(p.min(axis = 1))"
   ]
  },
  {
   "cell_type": "code",
   "execution_count": null,
   "id": "35b79160-958f-4e16-ab06-c5ed74bd3d0c",
   "metadata": {},
   "outputs": [],
   "source": [
    "#정렬\n",
    "\n",
    "## np.sort() : 크기에 따라 정렬해 새로운 배열을 만들 수 있음, axis 사용 가능(0이면 행따로따로, 1이면 열따로따로)\n",
    "#메서드 형태는 자체변환 [3, 6, 1, 4]이면 -> [1, 3, 4, 6]그냥 이대로만 리스트가 여러개 있어도 섞이지 않고 얘네에서만 순서만 다시 정렬해줌\n",
    "\n",
    "\n",
    "\n",
    "\n",
    "\n",
    "\n",
    "\n",
    "\n",
    "\n",
    "\n",
    "\n",
    "\n",
    "\n",
    "\n"
   ]
  },
  {
   "cell_type": "code",
   "execution_count": null,
   "id": "9450e6f2-260f-43a3-a8cd-c8e53c0076e4",
   "metadata": {},
   "outputs": [],
   "source": [
    "## np.argsort() : 정렬로 바꾸는게아니라 순서만 알고 싶을때, 값이 작은것 순서대로 인덱스 번호로 출력됨 \n",
    "\n",
    "\n",
    "\n",
    "\n",
    "\n"
   ]
  },
  {
   "cell_type": "code",
   "execution_count": 32,
   "id": "d3f3c94c-e94f-4621-9fe1-c82cf5fe604e",
   "metadata": {},
   "outputs": [],
   "source": [
    "# 고급인덱싱"
   ]
  },
  {
   "cell_type": "code",
   "execution_count": 1,
   "id": "6aca0096-b3fc-4213-88b9-b079b5b02f43",
   "metadata": {},
   "outputs": [
    {
     "ename": "NameError",
     "evalue": "name 'np' is not defined",
     "output_type": "error",
     "traceback": [
      "\u001b[1;31m---------------------------------------------------------------------------\u001b[0m",
      "\u001b[1;31mNameError\u001b[0m                                 Traceback (most recent call last)",
      "\u001b[1;32m~\\AppData\\Local\\Temp\\ipykernel_15476\\1019764172.py\u001b[0m in \u001b[0;36m<module>\u001b[1;34m\u001b[0m\n\u001b[0;32m      1\u001b[0m \u001b[1;31m#연습\u001b[0m\u001b[1;33m\u001b[0m\u001b[1;33m\u001b[0m\u001b[0m\n\u001b[0;32m      2\u001b[0m \u001b[1;33m\u001b[0m\u001b[0m\n\u001b[1;32m----> 3\u001b[1;33m score = np.array([[1, 2, 3, 4],\n\u001b[0m\u001b[0;32m      4\u001b[0m                   \u001b[1;33m[\u001b[0m\u001b[1;36m46\u001b[0m\u001b[1;33m,\u001b[0m \u001b[1;36m99\u001b[0m\u001b[1;33m,\u001b[0m \u001b[1;36m100\u001b[0m\u001b[1;33m,\u001b[0m \u001b[1;36m71\u001b[0m\u001b[1;33m]\u001b[0m\u001b[1;33m,\u001b[0m\u001b[1;33m\u001b[0m\u001b[1;33m\u001b[0m\u001b[0m\n\u001b[0;32m      5\u001b[0m                   [81, 59, 90, 100]])\n",
      "\u001b[1;31mNameError\u001b[0m: name 'np' is not defined"
     ]
    }
   ],
   "source": [
    "#연습\n",
    "\n",
    "score = np.array([[1, 2, 3, 4],\n",
    "                  [46, 99, 100, 71],\n",
    "                  [81, 59, 90, 100]])\n",
    "\n",
    "\n",
    "score2 = score.argsort()\n",
    "\n",
    "score = score[score2]\n",
    "\n",
    "\n",
    "\n",
    "# s = a.argsort()\n",
    "# a = a[s]\n",
    "# b = b[s]"
   ]
  },
  {
   "cell_type": "code",
   "execution_count": 3,
   "id": "1ebbfd04-ea73-494a-8a90-a62f40593e41",
   "metadata": {},
   "outputs": [],
   "source": [
    "#데이터의 개수\n",
    "## len() 사용하기\n",
    "\n",
    "#표본평균\n",
    "## np.mean() #평균\n",
    "\n",
    "#표본분산\n",
    "## np.var() #분산\n",
    "\n",
    "#표준편차\n",
    "## np.std(x)\n",
    "\n",
    "#최대최소\n",
    "## np.max/min()\n",
    "\n",
    "#중앙값\n",
    "## np.median(x)\n",
    "\n",
    "#사분위수 : 데이터를 가장 작은 수부터 가장 큰 수까지 크기가 커지는 순서대로 정렬했을 떄 1/4, 2/4. 3/4 위치에 있는 수\n",
    "#예시 : 100개 이면 25번쨰순서 즉 하위 25%, 2사분위수는 중앙값\n",
    "## np.percentile()\n",
    "### 1사분위(변수, 25), 2사분위(변수, 50), 3사분위(변수, 75) "
   ]
  },
  {
   "cell_type": "code",
   "execution_count": 6,
   "id": "4ea44d2f-a47a-40c9-9bd9-023656541f9e",
   "metadata": {},
   "outputs": [
    {
     "data": {
      "text/plain": [
       "array([0.0871293 , 0.0202184 , 0.83261985, 0.77815675, 0.87001215,\n",
       "       0.97861834, 0.79915856, 0.46147936, 0.78052918, 0.11827443])"
      ]
     },
     "execution_count": 6,
     "metadata": {},
     "output_type": "execute_result"
    }
   ],
   "source": [
    "#난수 발생과 카운팅\n",
    "## random number -> 전에 배운 random하고 다름(이름만 같고 다른아이임)\n",
    "\n",
    "#시드설정하기\n",
    "## 특정한 시작 숫자(기준이 되는 시작 숫자)\n",
    "## np.random.seed()사용\n",
    "## 인수로는 0과 같거나 큰 정수 넣기\n",
    "\n",
    "np.random.seed(0)\n",
    "\n",
    "np.random.rand(5)\n",
    "\n",
    "np.random.rand(10)\n",
    "\n",
    "np.random.rand(10)"
   ]
  },
  {
   "cell_type": "code",
   "execution_count": 7,
   "id": "938f82cd-b8c2-4849-a5a1-5922cd9f6414",
   "metadata": {},
   "outputs": [],
   "source": [
    "#데이터의 순서 바꾸기\n",
    "\n",
    "# np.random.shuffle() : 한 번 사용하면 변수의 값이 바뀜 -> 자체 변환(in-place)"
   ]
  },
  {
   "cell_type": "code",
   "execution_count": 8,
   "id": "684b14e3-584f-4ab4-a831-9ead54ba6683",
   "metadata": {},
   "outputs": [
    {
     "data": {
      "text/plain": [
       "array([2, 3, 3, 3, 3, 0, 3, 3, 2, 2])"
      ]
     },
     "execution_count": 8,
     "metadata": {},
     "output_type": "execute_result"
    }
   ],
   "source": [
    "#데이터 샘플링\n",
    "#이미 있는 데이터 집합에서 일부를 무작위로 선택하는 것(표본선택, 샘플링)\n",
    "\n",
    "#np.random.choice(a size = None, replace = True, p = None)\n",
    "\n",
    "## a : 배열이면 원래의 데이터, 정수이면 arange(a)명령으로 데이터 생성\n",
    "## size : 정수. 샘플숫자\n",
    "## replace : 불리언, True이면 한번 선택한 데이터를 다시 선택 가능\n",
    "## p : 배열, 각 데이터가 선택될 수 있는 확률\n",
    "\n",
    "\n",
    "### 첫 인수를 정수 5로 전달하여 np.arange(5)의 결과들\n",
    "\n",
    "np.random.choice(5, 5, replace = False) #shuffle명령과 같음, 처음5-1까지, 다음5 5개\n",
    "np.random.choice(5, 3, replace = False) #3개만 선택\n",
    "np.random.choice(5, 10) #반복해서 10개 선택\n",
    "np.random.choice(5, 10, p=[0.1, 0, 0.3, 0.6, 0]) #선택 확률을 다르게 해서 10개 선택"
   ]
  },
  {
   "cell_type": "code",
   "execution_count": 9,
   "id": "1067aa8f-f87c-4d60-8475-49212d3daa0f",
   "metadata": {},
   "outputs": [
    {
     "data": {
      "text/plain": [
       "array([0.75068614, 0.60783067, 0.32504723, 0.03842543, 0.63427406,\n",
       "       0.95894927, 0.65279032, 0.63505887, 0.99529957, 0.58185033])"
      ]
     },
     "execution_count": 9,
     "metadata": {},
     "output_type": "execute_result"
    }
   ],
   "source": [
    "#난수 생성\n",
    "\n",
    "#대표적인 3가지 \n",
    "\n",
    "#rand : 0부터 1사이의 균일 분포, 균일한 확률 분포로 실수 난수 생성\n",
    "##숫자인수는 생성할 난수의 크기, shape을 가진행렬 생성\n",
    "np.random.rand(10)\n",
    "\n",
    "#randn:표준정규분포 : 기댓값(mean)이 0이고 표준편차가 1인 표준 정규 분포를 따르는 난수 생성\n",
    "##인수 사용법은 rand와 동일\n",
    "np.random.randn(10)\n",
    "np.random.randn(3, 5) # 5개씩 3줄\n",
    "\n",
    "#randint:균일 분포의 정수 난수, 얜 마지막(몇~몇까지 숫자 지정했을때) 숫자 포함이 안됨, 전에 로또할 때 배운 randint때는 포함됨\n",
    "## np.random.randint(low, high = None, size = None)\n",
    "##만약 high를 입력하지 않으면 ~~~~~~~~~~~~~~~~~~~~\n",
    "np.random.randint(10, size = 10)\n",
    "np.random.randint(10 ,20 , size = 10)\n",
    "np.random.randint(10, 20, size = (3, 5)"
   ]
  },
  {
   "cell_type": "code",
   "execution_count": 18,
   "id": "7763e7c6-9997-47d8-9af2-2b2770d8d818",
   "metadata": {},
   "outputs": [
    {
     "name": "stdout",
     "output_type": "stream",
     "text": [
      "0.56\n"
     ]
    }
   ],
   "source": [
    "#연습\n",
    "\n",
    "\n",
    "np.random.seed(0)\n",
    "\n",
    "a = np.random.randint(0, 2, 100) #최대숫자 미포함\n",
    "\n",
    "count = 0\n",
    "for i in range(100):#0~99를 하면 100개, 0부터 시작한 이유는 배열인덱스가 0부터 시작해서 그리고 위에 a변수 길이를 100로 해둬서 \n",
    "                    #100자리에 len(a)로 쓰면 더 효율적임, rnage안에 0부터 시작하면 이 0은 생략가능(써도 상관은 없음)\n",
    "    if a[i] == 1:\n",
    "        count += 1 #count상자 만든 곳에 1이 나올 때마다 1더해주기\n",
    "        \n",
    "print(count/100) #100번 던진 확률을 구하는 거니까 100나눠주기\n",
    "# 1개수 세기(강직님은 conut nonzero쓰심)"
   ]
  },
  {
   "cell_type": "code",
   "execution_count": 23,
   "id": "9cd37b28-6bd7-4307-92a6-0b9d8eccdd56",
   "metadata": {},
   "outputs": [
    {
     "data": {
      "text/plain": [
       "3.42"
      ]
     },
     "execution_count": 23,
     "metadata": {},
     "output_type": "execute_result"
    }
   ],
   "source": [
    "#연습\n",
    "np.random.seed(0)\n",
    "\n",
    "j = np.random.randint(1, 7, 100) #최대숫자 미포함, 100번 반복\n",
    "6\n",
    "np.mean(j) # = j.mean()"
   ]
  },
  {
   "cell_type": "code",
   "execution_count": 26,
   "id": "b5d3a48a-9943-4491-97a5-4d3919ee3c1a",
   "metadata": {},
   "outputs": [
    {
     "data": {
      "text/plain": [
       "array([0, 2, 3, 1, 0, 0], dtype=int64)"
      ]
     },
     "execution_count": 26,
     "metadata": {},
     "output_type": "execute_result"
    }
   ],
   "source": [
    "#정수 데이터 카운팅\n",
    "\n",
    "## unique() : \n",
    "###데이터에서 중복된 값을 제거, 중복되지 않는 값의 리스트를 출력, 인수를 True로 설정하면 각 값의 데이터 개수도 출력\n",
    "###데이터가 존재하는 값에 대해서만 개수를 셈 -> 주사위를 10번 던졌을 때 6이 한번도 나오지 않으면 이 값을 0으로 세주지 않음(이땐 bincount써주는게 좋음)\n",
    "\n",
    "\n",
    "\n",
    "## bincount() : \n",
    "###주사위를 던졌을 때 나오는 수처럼 특정 범위의 수인 경우 bincount함수에 minlength인수를 설정해 쓰는 것이 좋음\n",
    "###0부터 minlenth -1까지의 숫자에 대해 각각 카운트 함, 데이터가 없을 경우 카운트 값으 0이 됨\n",
    "np.bincount([1, 1, 2, 2, 2, 3], minlength = 6)"
   ]
  },
  {
   "cell_type": "code",
   "execution_count": null,
   "id": "f5011dcf-028b-4f28-bd2d-cff79eac0065",
   "metadata": {},
   "outputs": [],
   "source": []
  }
 ],
 "metadata": {
  "kernelspec": {
   "display_name": "Python 3 (ipykernel)",
   "language": "python",
   "name": "python3"
  },
  "language_info": {
   "codemirror_mode": {
    "name": "ipython",
    "version": 3
   },
   "file_extension": ".py",
   "mimetype": "text/x-python",
   "name": "python",
   "nbconvert_exporter": "python",
   "pygments_lexer": "ipython3",
   "version": "3.9.13"
  }
 },
 "nbformat": 4,
 "nbformat_minor": 5
}
