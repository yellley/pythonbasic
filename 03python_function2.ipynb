{
 "cells": [
  {
   "cell_type": "code",
   "execution_count": null,
   "id": "87d2b255-5109-4c13-97f3-93fd7b5c4457",
   "metadata": {},
   "outputs": [],
   "source": []
  },
  {
   "cell_type": "markdown",
   "id": "6ab534cb-9f5a-4a99-bbd1-56699a15cd90",
   "metadata": {},
   "source": [
    "# 23/1/6(금요일)-06"
   ]
  },
  {
   "cell_type": "markdown",
   "id": "f5619d9c-6bea-4bbd-b2c1-456c84422aff",
   "metadata": {},
   "source": [
    "##### if"
   ]
  },
  {
   "cell_type": "code",
   "execution_count": 13,
   "id": "291d0433-1b0f-4272-9fa2-d44c97db60c2",
   "metadata": {},
   "outputs": [
    {
     "name": "stdin",
     "output_type": "stream",
     "text": [
      "자연수 입력 :  55\n"
     ]
    },
    {
     "name": "stdout",
     "output_type": "stream",
     "text": [
      "5\n"
     ]
    }
   ],
   "source": [
    "#연습\n",
    "a = int(input(\"자연수 입력 : \"))\n",
    "b = a-50\n",
    "\n",
    "if b <= 0:\n",
    "    print(0)\n",
    "else:\n",
    "    print(b)\n",
    "    \n",
    "#elif 0 > b:\n",
    "#    print(0)"
   ]
  },
  {
   "cell_type": "code",
   "execution_count": 15,
   "id": "6281403c-5c2e-4830-8d0d-f950edeee681",
   "metadata": {},
   "outputs": [
    {
     "name": "stdout",
     "output_type": "stream",
     "text": [
      "0\n"
     ]
    }
   ],
   "source": [
    "if True:\n",
    "    print(0)"
   ]
  },
  {
   "cell_type": "code",
   "execution_count": 14,
   "id": "d6cb0494-896b-474b-95e9-4e93e35c988a",
   "metadata": {},
   "outputs": [
    {
     "name": "stdin",
     "output_type": "stream",
     "text": [
      "나이 입력 :  30\n"
     ]
    },
    {
     "name": "stdout",
     "output_type": "stream",
     "text": [
      "10이상\n",
      "20이상\n",
      "30이상\n",
      "age >= 30구간\n",
      "age >= 20구간\n",
      "age >= 10구간\n",
      "늘 출력되는 구문\n"
     ]
    }
   ],
   "source": [
    "#if 중첩 연습\n",
    "##########################이것도 다시\n",
    "age = int(input(\"나이 입력 : \"))\n",
    "          \n",
    "if age >= 10:\n",
    "    print(\"10이상\")\n",
    "    if age >= 20:\n",
    "        print(\"20이상\")\n",
    "        if age >= 30:\n",
    "            print(\"30이상\")\n",
    "            if age >= 40:\n",
    "                print(\"40이상\")\n",
    "            print(\"age >= 30구간\")\n",
    "        print(\"age >= 20구간\")\n",
    "    print(\"age >= 10구간\")\n",
    "        \n",
    "print(\"늘 출력되는 구문\")"
   ]
  },
  {
   "cell_type": "code",
   "execution_count": 3,
   "id": "8a6d88fe-27c9-4338-9e9f-7b5f51e94c36",
   "metadata": {},
   "outputs": [
    {
     "name": "stdin",
     "output_type": "stream",
     "text": [
      "자연수 1개 입력 3\n"
     ]
    },
    {
     "name": "stdout",
     "output_type": "stream",
     "text": [
      "홀수\n"
     ]
    }
   ],
   "source": [
    "#연습\n",
    "a = int(input(\"자연수 1개 입력\"))\n",
    "b = a % 2 \n",
    "if b == 0:\n",
    "    print(\"짝수\")\n",
    "else:\n",
    "    print(\"홀수\")\n",
    "\n",
    "#다른사람\n",
    "number = int(input(\"\"))"
   ]
  },
  {
   "cell_type": "code",
   "execution_count": 57,
   "id": "11aba86b-286a-4f36-8327-fe3d6fb5f16b",
   "metadata": {},
   "outputs": [
    {
     "name": "stdin",
     "output_type": "stream",
     "text": [
      "소프트웨어 설계 점수 입력 11\n",
      "소프트개발 설계 점수 입력 11\n",
      "데이터베이스 구축 점수 입력 11\n",
      "프로그래밍 언어 활용 점수 입력 1\n",
      "정보시스템 구축관리 점수 입력 1\n"
     ]
    },
    {
     "name": "stdout",
     "output_type": "stream",
     "text": [
      "불합격\n"
     ]
    }
   ],
   "source": [
    "#연습 (오류났던 이유가 else에는 조건문이 들어가지 않음)\n",
    "a = int(input(\"소프트웨어 설계 점수 입력\"))\n",
    "b = int(input(\"소프트개발 설계 점수 입력\"))\n",
    "c = int(input(\"데이터베이스 구축 점수 입력\"))\n",
    "d = int(input(\"프로그래밍 언어 활용 점수 입력\"))\n",
    "e = int(input(\"정보시스템 구축관리 점수 입력\"))\n",
    "\n",
    "\n",
    "\n",
    "if 0 <= a <= 100 and 0 <= b <= 100 and 0 <= c <= 100 and 0 <= d <= 100 and 0 <= e <= 100:\n",
    "    t = a+b+c+d+e/5\n",
    "    if t >= 60:\n",
    "        print(\"합격\")\n",
    "    else:\n",
    "        print(\"불합격\")\n",
    "else:\n",
    "    print(\"잘못입력\")\n",
    "    \n",
    " "
   ]
  },
  {
   "cell_type": "markdown",
   "id": "0cb3b3e4-8496-4982-8aef-1174d1ef5842",
   "metadata": {},
   "source": [
    "##### if-elif-else"
   ]
  },
  {
   "cell_type": "code",
   "execution_count": 49,
   "id": "6bc5cf0f-2281-42aa-85c4-cf916f04d96c",
   "metadata": {},
   "outputs": [
    {
     "name": "stdin",
     "output_type": "stream",
     "text": [
      "점수를 입력해주세요: 9\n"
     ]
    },
    {
     "name": "stdout",
     "output_type": "stream",
     "text": [
      "성적을 알려드립니다.\n",
      "F입니다\n",
      "종료합니다\n"
     ]
    }
   ],
   "source": [
    "#연습\n",
    "\n",
    "score = int(input(\"점수를 입력해주세요:\"))\n",
    "\n",
    "print(\"성적을 알려드립니다.\")\n",
    "\n",
    "if score >= 90:\n",
    "    print(\"A입니다\")\n",
    "elif score >= 80:\n",
    "    print(\"B입니다\")\n",
    "elif score >= 70:\n",
    "    print(\"C입니다\")\n",
    "elif score >= 60:\n",
    "    print(\"D입니다\")\n",
    "else:\n",
    "    print(\"F입니다\")\n",
    "    \n",
    "print(\"종료합니다\")\n",
    "\n"
   ]
  },
  {
   "cell_type": "code",
   "execution_count": 15,
   "id": "122cba5a-257a-46e9-80c8-e6ef90f79697",
   "metadata": {},
   "outputs": [
    {
     "name": "stdin",
     "output_type": "stream",
     "text": [
      "현재 물 온도 :  100\n"
     ]
    },
    {
     "name": "stdout",
     "output_type": "stream",
     "text": [
      "기체로 예상됩니다.\n"
     ]
    }
   ],
   "source": [
    "#연습\n",
    "a = int(input(\"현재 물 온도 : \"))\n",
    "\n",
    "if 100 >= a:\n",
    "    print(\"기체로 예상됩니다.\")\n",
    "elif 100 > a >= 0:\n",
    "    print(\"액체로 예상됩니다.\")\n",
    "else:\n",
    "    print(\"고체로 예상됩니다.\")"
   ]
  },
  {
   "cell_type": "code",
   "execution_count": 19,
   "id": "8a4d3d34-0840-4b1c-af70-710006638bd7",
   "metadata": {},
   "outputs": [
    {
     "name": "stdin",
     "output_type": "stream",
     "text": [
      "나이 입력 :  20\n"
     ]
    },
    {
     "name": "stdout",
     "output_type": "stream",
     "text": [
      "1500원\n"
     ]
    }
   ],
   "source": [
    "#연습\n",
    "a = int(input(\"나이 입력 : \"))\n",
    "\n",
    "if 19 <= a:\n",
    "    print(\"1500원\")\n",
    "elif 12 <= a < 19:\n",
    "    print(\"800원\")\n",
    "else:\n",
    "    print(\"무임승차입니다.\")"
   ]
  },
  {
   "cell_type": "code",
   "execution_count": 79,
   "id": "06d76d11-3a0e-42dd-bd0b-a3205e922b7f",
   "metadata": {},
   "outputs": [
    {
     "name": "stdin",
     "output_type": "stream",
     "text": [
      "발주 수량 입력 :  2001\n"
     ]
    },
    {
     "name": "stdout",
     "output_type": "stream",
     "text": [
      "2001 개 주문하셨습니다.\n",
      "적용 할인율은 20%입니다.\n",
      "총 발주 금액은 $ 16008 입니다.\n"
     ]
    }
   ],
   "source": [
    "#연습 if-elif-else에서 마지막 else에는 조건문이 들어가면 오류가남\n",
    "#이거 계산식 퍼센트 구할 땐 5프로면 100-0.05 = 0.95를 곱해야 함 \n",
    "\n",
    "a = int(input(\"발주 수량 입력 : \"))\n",
    "print(a,\"개 주문하셨습니다.\")\n",
    "b = 10\n",
    "c = a*b\n",
    "\n",
    "if a < 1000:\n",
    "    print(\"할인 적용X\")\n",
    "    print(\"총 발주 금액은\", \"$\", c,\"입니다.\")\n",
    "elif 1000 <= a < 1500:\n",
    "    print(\"적용 할인율은 5%입니다.\")\n",
    "    print(\"총 발주 금액은\", \"$\",int(c*0.95),\"입니다.\")\n",
    "elif 1500 <= a < 2000:\n",
    "    print(\"적용 할인율은 10%입니다.\")\n",
    "    print(\"총 발주 금액은\", \"$\",int(c*0.9),\"입니다.\")\n",
    "else:\n",
    "    print(\"적용 할인율은 20%입니다.\")\n",
    "    print(\"총 발주 금액은\", \"$\", int(c*0.8),\"입니다.\")\n",
    "    "
   ]
  },
  {
   "cell_type": "code",
   "execution_count": 125,
   "id": "77d07c61-82d9-41a1-b0e3-2e1840c5344c",
   "metadata": {},
   "outputs": [
    {
     "name": "stdin",
     "output_type": "stream",
     "text": [
      "주민번호 뒷자리 입력: 555\n"
     ]
    },
    {
     "name": "stdout",
     "output_type": "stream",
     "text": [
      "잘못입력\n"
     ]
    }
   ],
   "source": [
    "#연습\n",
    "#\n",
    "\n",
    "a = input(\"주민번호 뒷자리 입력:\")\n",
    "\n",
    "#<조건>\n",
    "#1/3,2/4앞자리 아니면 잘못\n",
    "#7자리 아니면 잘못\n",
    "\n",
    "#if  len(a) == 1:\n",
    "#    print('d')\n",
    "\n",
    "if len(a) == 7:\n",
    "    if a[0] == \"1\": #여기서 오류뜬게 int라고 했으니 \"\"씌워서 문자로 만들어줘야 함.\n",
    "        print(\"남자\")\n",
    "    elif a[0] ==\"3\":\n",
    "        print(\"남자\")\n",
    "    elif a[0] == \"2\":\n",
    "        print(\"여자\")\n",
    "    elif a[0] == \"4\":\n",
    "        print(\"여자\")\n",
    "    else:\n",
    "        print(\"잘못입력\")\n",
    "else:\n",
    "    print(\"잘못입력\")\n",
    "\n"
   ]
  },
  {
   "cell_type": "code",
   "execution_count": 158,
   "id": "196a2fb6-1c58-425d-a01f-30b4dfb190b4",
   "metadata": {},
   "outputs": [
    {
     "name": "stdin",
     "output_type": "stream",
     "text": [
      "확인할 연도를 입력하세요 : 1100\n"
     ]
    },
    {
     "name": "stdout",
     "output_type": "stream",
     "text": [
      "평년\n"
     ]
    },
    {
     "name": "stdin",
     "output_type": "stream",
     "text": [
      "확인할 연도를 입력하세요 : 1100\n"
     ]
    },
    {
     "name": "stdout",
     "output_type": "stream",
     "text": [
      "평년\n"
     ]
    }
   ],
   "source": [
    "#연습\n",
    "\n",
    "#내가푼거\n",
    "a = int(input(\"확인할 연도를 입력하세요 :\"))\n",
    "        \n",
    "if a % 4 == 0 and a % 400 == 0: #4로 나누어떨어질때, 400으로 나누어떨어질떄\n",
    "        print(\"윤년\")\n",
    "elif a % 100 == 0 and a % 400 != 0:#4로 안나뉘고 100으로 나뉘고, 400으로 안나뉠때\n",
    "    print(\"평년\")\n",
    "else:\n",
    "    print(\"평년\")\n",
    "    \n",
    "    \n",
    "#조금 바꾼거\n",
    "a = int(input(\"확인할 연도를 입력하세요 :\"))\n",
    "        \n",
    "if a % 4 == 0 and (a % 400 == 0 and a % 100 != 0): #윤년기준이니까 평년 예외 조건을 반대로 넣어서 조건 걸어줘야함\n",
    "        print(\"윤년\")\n",
    "else:\n",
    "    print(\"평년\")\n"
   ]
  },
  {
   "cell_type": "markdown",
   "id": "3d423848-b5f5-41cf-b595-8f40b577d52b",
   "metadata": {},
   "source": [
    "## for"
   ]
  },
  {
   "cell_type": "code",
   "execution_count": 160,
   "id": "e0c8740f-378b-42f0-9106-721609125416",
   "metadata": {},
   "outputs": [
    {
     "name": "stdout",
     "output_type": "stream",
     "text": [
      "hello world\n",
      "hello world\n",
      "hello world\n",
      "hello world\n",
      "hello world\n",
      "hello world\n",
      "hello world\n",
      "hello world\n",
      "hello world\n",
      "hello world\n"
     ]
    }
   ],
   "source": [
    "for n in range(10): #0부터 9까지 10개 생성\n",
    "    print(\"hello world\")"
   ]
  },
  {
   "cell_type": "markdown",
   "id": "01fd38e6-f1be-44f0-af59-8f771ef66986",
   "metadata": {},
   "source": [
    "##### range"
   ]
  },
  {
   "cell_type": "code",
   "execution_count": 167,
   "id": "56d92465-dea1-43a8-96b9-5952ff4c626a",
   "metadata": {},
   "outputs": [
    {
     "name": "stdout",
     "output_type": "stream",
     "text": [
      "[2, 4, 6, 8, 10, 12, 14, 16, 18, 20, 22, 24, 26, 28, 30, 32, 34, 36, 38, 40, 42, 44, 46, 48, 50, 52, 54, 56, 58, 60, 62, 64, 66, 68, 70, 72, 74, 76, 78, 80, 82, 84, 86, 88, 90, 92, 94, 96, 98]\n",
      "range(2, 100, 2)\n"
     ]
    }
   ],
   "source": [
    "#range(시작, 끝, 증감크기) /숫자들의 시퀀스로 이터레이트 할 때 사용하면 편리, 슬라이싱은[시작:끝:증감]\n",
    "num = list(range(2,100,2))\n",
    "print(num)\n",
    "\n",
    "print(range(2,100,2))#range는 range이기 떄문에 위에 list형태로 지정해 줘야함,range는 필요할 떄 마다 만들어서 줌(만들어 놓고 꺼내주는 메모리랑은 다름)"
   ]
  },
  {
   "cell_type": "code",
   "execution_count": 169,
   "id": "b6fb9da0-9313-466f-8813-3f64e8f2931c",
   "metadata": {},
   "outputs": [
    {
     "name": "stdout",
     "output_type": "stream",
     "text": [
      "Hello 1\n",
      "Hello 2\n",
      "Hello 3\n",
      "Hello 4\n",
      "Hello 5\n",
      "Hello 6\n",
      "Hello 7\n",
      "Hello 8\n",
      "Hello 9\n",
      "Hello 10\n"
     ]
    }
   ],
   "source": [
    "for i in range(1,11):\n",
    "    print(\"Hello\",i)"
   ]
  },
  {
   "cell_type": "code",
   "execution_count": 174,
   "id": "1508dc39-7bdb-4ec6-bcb1-c0a729dfaf32",
   "metadata": {},
   "outputs": [
    {
     "name": "stdin",
     "output_type": "stream",
     "text": [
      "인사 몇번? 3\n"
     ]
    },
    {
     "name": "stdout",
     "output_type": "stream",
     "text": [
      "Hello\n",
      "Hello\n",
      "Hello\n"
     ]
    }
   ],
   "source": [
    "#연습\n",
    "a = int(input(\"인사 몇번?\"))\n",
    "\n",
    "for i in range(a):\n",
    "    print(\"Hello\")"
   ]
  },
  {
   "cell_type": "code",
   "execution_count": 183,
   "id": "d7546b99-7adf-4199-895b-58443990f04c",
   "metadata": {},
   "outputs": [
    {
     "name": "stdout",
     "output_type": "stream",
     "text": [
      "[5, 6, 7, 8, 9]\n",
      "[0, 3, 6, 9]\n",
      "[-10, -40, -70]\n"
     ]
    }
   ],
   "source": [
    "#연습\n",
    "#1\n",
    "a = list(range(5,10))\n",
    "print(a)\n",
    "#for i in range(5,10)\n",
    "\n",
    "#2\n",
    "b = list(range(0,10,3))\n",
    "print(b)\n",
    "\n",
    "#3\n",
    "c = list(range(-10,-71,-30))\n",
    "print(c)"
   ]
  },
  {
   "cell_type": "code",
   "execution_count": 287,
   "id": "80a53b10-db74-4b9e-b2e9-82e6ff3e2033",
   "metadata": {},
   "outputs": [
    {
     "name": "stdin",
     "output_type": "stream",
     "text": [
      "자연수 하나 입력하기 :  6\n"
     ]
    },
    {
     "name": "stdout",
     "output_type": "stream",
     "text": [
      "6\t6\t6\t6\t6\t6\t\n",
      "5\t5\t5\t5\t5\t\n",
      "4\t4\t4\t4\t\n",
      "3\t3\t3\t\n",
      "2\t2\t\n",
      "1\t\n",
      "6\t6\t6\t6\t6\t6\t\n",
      "5\t5\t5\t5\t5\t\n",
      "4\t4\t4\t4\t\n",
      "3\t3\t3\t\n",
      "2\t2\t\n",
      "1\t\n"
     ]
    }
   ],
   "source": [
    "#연습\n",
    "a = int(input(\"자연수 하나 입력하기 : \"))\n",
    "\n",
    "\n",
    "\n",
    "#for n1 in range(1,a):\n",
    "#    for n2 in range(1, n1+!):\n",
    "#        print(n1)\n",
    "\n",
    "    \n",
    "for n1 in range(a, 0, -1):\n",
    "    #print(n1)\n",
    "    for n2 in range(n1):\n",
    "        print(n1 , end = \"\\t\")\n",
    "    print()\n",
    "    \n",
    "    \n",
    "   # for j in range(1, i-1):\n",
    "    #    print(i)\n",
    "\n",
    "#다른방법\n",
    "for i in range(a, 0, -1):\n",
    "    print((str(i)+\"\\t\")*i)\n",
    "    "
   ]
  },
  {
   "cell_type": "code",
   "execution_count": null,
   "id": "ef6728fd-7c13-484e-a98c-7888c4677f9e",
   "metadata": {},
   "outputs": [
    {
     "name": "stdout",
     "output_type": "stream",
     "text": [
      "6\t6\t6\t6\t6\t6\t"
     ]
    }
   ],
   "source": []
  },
  {
   "cell_type": "code",
   "execution_count": 292,
   "id": "1615ca0f-9a02-4387-95bb-a10d2e94369a",
   "metadata": {},
   "outputs": [
    {
     "name": "stdout",
     "output_type": "stream",
     "text": [
      "* * * * * * * * * * \n",
      "*                 *\n",
      "*                 *\n",
      "*                 *\n",
      "*                 *\n",
      "*                 *\n",
      "*                 *\n",
      "*                 *\n",
      "*                 *\n",
      "* * * * * * * * * * \n"
     ]
    }
   ],
   "source": [
    "#별로 네모그리기\n",
    "for i in range(10):\n",
    "    if i == 0 or i == 9:\n",
    "        print('* ' * 10)\n",
    "    else:\n",
    "        print('*                 *')"
   ]
  },
  {
   "cell_type": "code",
   "execution_count": 327,
   "id": "f17a59a4-a8fc-4a8e-8522-30a9a5200f3d",
   "metadata": {},
   "outputs": [
    {
     "name": "stdin",
     "output_type": "stream",
     "text": [
      "1부터 a까지 홀수의 합(a지정) :  100\n"
     ]
    },
    {
     "name": "stdout",
     "output_type": "stream",
     "text": [
      "1 + 3 + 5 + 7 + 9 + 11 + 13 + 15 + 17 + 19 + 21 + 23 + 25 + 27 + 29 + 31 + 33 + 35 + 37 + 39 + 41 + 43 + 45 + 47 + 49 + 51 + 53 + 55 + 57 + 59 + 61 + 63 + 65 + 67 + 69 + 71 + 73 + 75 + 77 + 79 + 81 + 83 + 85 + 87 + 89 + 91 + 93 + 95 + 97 + 99 = 2500\n"
     ]
    }
   ],
   "source": [
    "#홀수 합 구하기\n",
    "\n",
    "\n",
    "#내가한거\n",
    "#a = int(input(\"1부터 a까지 홀수의 합(a지정) : \"))\n",
    "\n",
    "#for i in range(1, a, 2):\n",
    "    #print()\n",
    " \n",
    "\n",
    "\n",
    "#같이한거\n",
    "\n",
    "a = int(input(\"1부터 a까지 홀수의 합(a지정) : \")) \n",
    "\n",
    "sum = 0\n",
    "\n",
    "print(1, end = \"\")\n",
    "\n",
    "for i in range(3, a+1, 2):\n",
    "    sum = sum+i\n",
    "    print(\" +\", i, end=\"\")\n",
    "print(\" =\", sum+1)"
   ]
  },
  {
   "cell_type": "code",
   "execution_count": 328,
   "id": "da57b3ad-34e3-4d3d-80e5-56d839a7997f",
   "metadata": {},
   "outputs": [
    {
     "name": "stdin",
     "output_type": "stream",
     "text": [
      "계승을 구할 숫자 입력 :  7\n"
     ]
    },
    {
     "name": "stdout",
     "output_type": "stream",
     "text": [
      "5040\n"
     ]
    }
   ],
   "source": [
    "#계승\n",
    "a = int(input(\"계승을 구할 숫자 입력 : \"))\n",
    "\n",
    "v = 1\n",
    "for i in range(1, a+1):\n",
    "    v = v * i\n",
    "    #print(v)이렇게 하면 뭐 이상하게 나옴\n",
    "    \n",
    "print(v) #얘도 마찬가지 for문 밖으로 뺴야 일일히 숫자 다 나오지 않음\n",
    "    \n",
    "    \n",
    "    \n",
    "    "
   ]
  },
  {
   "cell_type": "code",
   "execution_count": 300,
   "id": "4ef31e87-440e-42a3-b8ab-d175260c4a5b",
   "metadata": {},
   "outputs": [
    {
     "name": "stdout",
     "output_type": "stream",
     "text": [
      "파솔라"
     ]
    }
   ],
   "source": [
    "for i in (\"파\",\"솔\",\"라\"):\n",
    "    print(i, end=\"\")"
   ]
  },
  {
   "cell_type": "code",
   "execution_count": 304,
   "id": "5ca8e8df-1636-4027-9afa-1570040f15ff",
   "metadata": {},
   "outputs": [
    {
     "name": "stdout",
     "output_type": "stream",
     "text": [
      "54321"
     ]
    }
   ],
   "source": [
    "for i in reversed(\"12345\"):\n",
    "    print(i, end=\"\") #list변수.reverse()랑 다름"
   ]
  },
  {
   "cell_type": "code",
   "execution_count": 306,
   "id": "da5b308b-e627-46df-abbf-b21b6ccafdfe",
   "metadata": {},
   "outputs": [
    {
     "name": "stdout",
     "output_type": "stream",
     "text": [
      "100 -420 250 1030 210 770 240 "
     ]
    }
   ],
   "source": [
    "x = [10, -42, 25, 103, 21, 77, 24]\n",
    "\n",
    "for i in (x):\n",
    "    print(i * 10, end = \" \")"
   ]
  },
  {
   "cell_type": "code",
   "execution_count": 323,
   "id": "ac71fcf9-b73d-4164-88f8-3e36d8f2c659",
   "metadata": {},
   "outputs": [
    {
     "name": "stdin",
     "output_type": "stream",
     "text": [
      "구구단, 숫자 입력 :  9\n"
     ]
    },
    {
     "name": "stdout",
     "output_type": "stream",
     "text": [
      "9 * 1 = 9\n",
      "9 * 2 = 18\n",
      "9 * 3 = 27\n",
      "9 * 4 = 36\n",
      "9 * 5 = 45\n",
      "9 * 6 = 54\n",
      "9 * 7 = 63\n",
      "9 * 8 = 72\n",
      "9 * 9 = 81\n"
     ]
    }
   ],
   "source": [
    "#연습\n",
    "a = int(input(\"구구단, 숫자 입력 : \"))\n",
    "\n",
    "for i in range(1, a+1):\n",
    "    print( a, \"*\", i, \"=\", a*i)"
   ]
  },
  {
   "cell_type": "code",
   "execution_count": 326,
   "id": "a605fa1f-d899-4862-b427-2febd55b2196",
   "metadata": {},
   "outputs": [
    {
     "name": "stdin",
     "output_type": "stream",
     "text": [
      "자연수 입력:  100\n"
     ]
    },
    {
     "name": "stdout",
     "output_type": "stream",
     "text": [
      "5050\n"
     ]
    }
   ],
   "source": [
    "#연습\n",
    "\n",
    "a = int(input(\"자연수 입력: \"))\n",
    "\n",
    "b = 0\n",
    "\n",
    "for i in range(1, a+1):\n",
    "    b = b + i\n",
    "\n",
    "print(b)#프린트를 for문 밖으로 뺴야 답만나옴, 안에 들어가면 1~100까지 더해지는 값들 다 나옴\n",
    "      "
   ]
  },
  {
   "cell_type": "code",
   "execution_count": null,
   "id": "e4bbb298-df6b-4b49-b60b-91902dc07014",
   "metadata": {},
   "outputs": [],
   "source": [
    "\n"
   ]
  }
 ],
 "metadata": {
  "kernelspec": {
   "display_name": "Python 3 (ipykernel)",
   "language": "python",
   "name": "python3"
  },
  "language_info": {
   "codemirror_mode": {
    "name": "ipython",
    "version": 3
   },
   "file_extension": ".py",
   "mimetype": "text/x-python",
   "name": "python",
   "nbconvert_exporter": "python",
   "pygments_lexer": "ipython3",
   "version": "3.9.13"
  }
 },
 "nbformat": 4,
 "nbformat_minor": 5
}
