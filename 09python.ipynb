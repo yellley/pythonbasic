{
 "cells": [
  {
   "cell_type": "markdown",
   "id": "c95947fa-fd30-42c6-a27d-d7b30272e8d0",
   "metadata": {},
   "source": [
    "# 22/1/16 (월요일)"
   ]
  },
  {
   "cell_type": "markdown",
   "id": "9a593185-27f4-429b-a7cf-a0a5c78f1fde",
   "metadata": {},
   "source": [
    "## class"
   ]
  },
  {
   "cell_type": "code",
   "execution_count": 1,
   "id": "9e168604-ef62-4fff-a121-0f45cedd18b9",
   "metadata": {},
   "outputs": [
    {
     "ename": "NameError",
     "evalue": "name 'class_body' is not defined",
     "output_type": "error",
     "traceback": [
      "\u001b[1;31m---------------------------------------------------------------------------\u001b[0m",
      "\u001b[1;31mNameError\u001b[0m                                 Traceback (most recent call last)",
      "\u001b[1;32m~\\AppData\\Local\\Temp\\ipykernel_4148\\2933924274.py\u001b[0m in \u001b[0;36m<module>\u001b[1;34m\u001b[0m\n\u001b[0;32m      3\u001b[0m \u001b[1;31m#정의는 보통 클래스 인스턴스를 대상으로 연산하는 메서드 정의 포함\u001b[0m\u001b[1;33m\u001b[0m\u001b[1;33m\u001b[0m\u001b[0m\n\u001b[0;32m      4\u001b[0m \u001b[1;33m\u001b[0m\u001b[0m\n\u001b[1;32m----> 5\u001b[1;33m \u001b[1;32mclass\u001b[0m \u001b[0mClass_Name\u001b[0m\u001b[1;33m:\u001b[0m\u001b[1;33m\u001b[0m\u001b[1;33m\u001b[0m\u001b[0m\n\u001b[0m\u001b[0;32m      6\u001b[0m     \u001b[1;32mdef\u001b[0m \u001b[0mmethod_name\u001b[0m\u001b[1;33m(\u001b[0m\u001b[0mself\u001b[0m\u001b[1;33m)\u001b[0m\u001b[1;33m:\u001b[0m\u001b[1;33m\u001b[0m\u001b[1;33m\u001b[0m\u001b[0m\n\u001b[0;32m      7\u001b[0m         \u001b[0mmethod_body\u001b[0m\u001b[1;33m\u001b[0m\u001b[1;33m\u001b[0m\u001b[0m\n",
      "\u001b[1;32m~\\AppData\\Local\\Temp\\ipykernel_4148\\2933924274.py\u001b[0m in \u001b[0;36mClass_Name\u001b[1;34m()\u001b[0m\n\u001b[0;32m      7\u001b[0m         \u001b[0mmethod_body\u001b[0m\u001b[1;33m\u001b[0m\u001b[1;33m\u001b[0m\u001b[0m\n\u001b[0;32m      8\u001b[0m \u001b[1;33m\u001b[0m\u001b[0m\n\u001b[1;32m----> 9\u001b[1;33m     \u001b[0mclass_body\u001b[0m\u001b[1;33m\u001b[0m\u001b[1;33m\u001b[0m\u001b[0m\n\u001b[0m\u001b[0;32m     10\u001b[0m     \u001b[1;33m...\u001b[0m\u001b[1;33m\u001b[0m\u001b[1;33m\u001b[0m\u001b[0m\n",
      "\u001b[1;31mNameError\u001b[0m: name 'class_body' is not defined"
     ]
    }
   ],
   "source": [
    "#class\n",
    "#사용자 정의 객체를 만들기 위한 주형\n",
    "#정의는 보통 클래스 인스턴스를 대상으로 연산하는 메서드 정의 포함\n",
    "\n",
    "class Class_Name:\n",
    "    def method_name(self):\n",
    "        method_body\n",
    "    \n",
    "    class_body\n",
    "    ..."
   ]
  },
  {
   "cell_type": "code",
   "execution_count": 2,
   "id": "7f11acfe-c3ba-4598-9cb3-380c0dcdfd85",
   "metadata": {},
   "outputs": [
    {
     "name": "stdout",
     "output_type": "stream",
     "text": [
      "<class 'int'>\n"
     ]
    }
   ],
   "source": [
    "number = int(10)\n",
    "print(type(number))\n",
    "\n",
    "~~~\n",
    "\n"
   ]
  },
  {
   "cell_type": "code",
   "execution_count": 3,
   "id": "cac23634-88f4-4a4c-8b8d-4b2ddaea10b2",
   "metadata": {},
   "outputs": [
    {
     "ename": "SyntaxError",
     "evalue": "invalid syntax (3436596626.py, line 2)",
     "output_type": "error",
     "traceback": [
      "\u001b[1;36m  File \u001b[1;32m\"C:\\Users\\playdata\\AppData\\Local\\Temp\\ipykernel_4148\\3436596626.py\"\u001b[1;36m, line \u001b[1;32m2\u001b[0m\n\u001b[1;33m    __init__메서드는 인스턴스를 만들 때 호출되는 특별한 메서드\u001b[0m\n\u001b[1;37m                 ^\u001b[0m\n\u001b[1;31mSyntaxError\u001b[0m\u001b[1;31m:\u001b[0m invalid syntax\n"
     ]
    }
   ],
   "source": [
    "#클래스 속성\n",
    "__init__메서드는 인스턴스를 만들 때 호출되는 특별한 메서드\n",
    "__init__은 initalize의 줄임말로 인스턴스(객체)를 초기화(메모리에 공간을 할당하고 값을 부여함)\n",
    "\n",
    "class Persson:\n",
    "    def __init__(self):\n",
    "        ~~~~~~~~"
   ]
  },
  {
   "cell_type": "code",
   "execution_count": 9,
   "id": "df9913e2-3341-4ade-bd57-c4aec83e2e60",
   "metadata": {},
   "outputs": [
    {
     "name": "stdout",
     "output_type": "stream",
     "text": [
      "안녕\n"
     ]
    },
    {
     "ename": "AttributeError",
     "evalue": "'Student' object has no attribute 'hello'",
     "output_type": "error",
     "traceback": [
      "\u001b[1;31m---------------------------------------------------------------------------\u001b[0m",
      "\u001b[1;31mAttributeError\u001b[0m                            Traceback (most recent call last)",
      "\u001b[1;32m~\\AppData\\Local\\Temp\\ipykernel_4148\\2284170676.py\u001b[0m in \u001b[0;36m<module>\u001b[1;34m\u001b[0m\n\u001b[0;32m     11\u001b[0m \u001b[0mprint\u001b[0m\u001b[1;33m(\u001b[0m\u001b[0mstu_a\u001b[0m\u001b[1;33m.\u001b[0m\u001b[0mhello\u001b[0m\u001b[1;33m)\u001b[0m\u001b[1;33m\u001b[0m\u001b[1;33m\u001b[0m\u001b[0m\n\u001b[0;32m     12\u001b[0m \u001b[1;33m\u001b[0m\u001b[0m\n\u001b[1;32m---> 13\u001b[1;33m \u001b[0mprint\u001b[0m\u001b[1;33m(\u001b[0m\u001b[0mstu_b\u001b[0m\u001b[1;33m.\u001b[0m\u001b[0mhello\u001b[0m\u001b[1;33m)\u001b[0m \u001b[1;31m#아무것도 할당되지 않아 오류날거임\u001b[0m\u001b[1;33m\u001b[0m\u001b[1;33m\u001b[0m\u001b[0m\n\u001b[0m",
      "\u001b[1;31mAttributeError\u001b[0m: 'Student' object has no attribute 'hello'"
     ]
    }
   ],
   "source": [
    "#속성을 접근할 때 self.\n",
    "#지금은 class에 형태가 없다고 생각하기\n",
    "class Student:\n",
    "    pass\n",
    "\n",
    "#stu_a와 b는 독립적으로 존재함\n",
    "stu_a = Student() #class로 부터 인스턴스 초기화\n",
    "stu_b = Student() #class로 부터 인스턴스 초기화\n",
    "\n",
    "stu_a.hello = \"안녕\" #.hello는 속성을 추가해준거임\n",
    "print(stu_a.hello)\n",
    "\n",
    "print(stu_b.hello) #아무것도 할당되지 않아 오류날거임\n"
   ]
  },
  {
   "cell_type": "code",
   "execution_count": 10,
   "id": "d848c2cb-d106-47aa-a50f-f04dab77cbab",
   "metadata": {},
   "outputs": [],
   "source": [
    "#예제\n",
    "\n",
    "class Student:\n",
    "    def __init__(self):\n",
    "        self.hello = \"안녕하세요\"\n"
   ]
  },
  {
   "cell_type": "code",
   "execution_count": 13,
   "id": "4427de37-d097-4ae6-9b24-9ce352996373",
   "metadata": {},
   "outputs": [
    {
     "ename": "AttributeError",
     "evalue": "'Student' object has no attribute 'greeting'",
     "output_type": "error",
     "traceback": [
      "\u001b[1;31m---------------------------------------------------------------------------\u001b[0m",
      "\u001b[1;31mAttributeError\u001b[0m                            Traceback (most recent call last)",
      "\u001b[1;32m~\\AppData\\Local\\Temp\\ipykernel_4148\\2889958915.py\u001b[0m in \u001b[0;36m<module>\u001b[1;34m\u001b[0m\n\u001b[0;32m      6\u001b[0m         \u001b[0mprint\u001b[0m\u001b[1;33m(\u001b[0m\u001b[0mself\u001b[0m\u001b[1;33m.\u001b[0m\u001b[0mhello\u001b[0m\u001b[1;33m)\u001b[0m\u001b[1;33m\u001b[0m\u001b[1;33m\u001b[0m\u001b[0m\n\u001b[0;32m      7\u001b[0m \u001b[1;33m\u001b[0m\u001b[0m\n\u001b[1;32m----> 8\u001b[1;33m \u001b[0mstu_a\u001b[0m\u001b[1;33m.\u001b[0m\u001b[0mgreeting\u001b[0m\u001b[1;33m(\u001b[0m\u001b[1;33m)\u001b[0m\u001b[1;33m\u001b[0m\u001b[1;33m\u001b[0m\u001b[0m\n\u001b[0m\u001b[0;32m      9\u001b[0m \u001b[0mstu_b\u001b[0m\u001b[1;33m.\u001b[0m\u001b[0mgreeting\u001b[0m\u001b[1;33m(\u001b[0m\u001b[1;33m)\u001b[0m\u001b[1;33m\u001b[0m\u001b[1;33m\u001b[0m\u001b[0m\n",
      "\u001b[1;31mAttributeError\u001b[0m: 'Student' object has no attribute 'greeting'"
     ]
    }
   ],
   "source": [
    "\n",
    "class Student:\n",
    "    def __init__(self):\n",
    "        self.hello = \"안녕하세요\"\n",
    "    \n",
    "    def greeclting(self):\n",
    "        print(self.hello)\n",
    "\n",
    "stu_a.greeting()\n",
    "stu_b.greeting()"
   ]
  },
  {
   "cell_type": "code",
   "execution_count": 15,
   "id": "7141651b-a5e1-4eb8-a58c-f4ada4686b7f",
   "metadata": {},
   "outputs": [
    {
     "ename": "AttributeError",
     "evalue": "'Person' object has no attribute 'name'",
     "output_type": "error",
     "traceback": [
      "\u001b[1;31m---------------------------------------------------------------------------\u001b[0m",
      "\u001b[1;31mAttributeError\u001b[0m                            Traceback (most recent call last)",
      "\u001b[1;32m~\\AppData\\Local\\Temp\\ipykernel_4148\\4070332537.py\u001b[0m in \u001b[0;36m<module>\u001b[1;34m\u001b[0m\n\u001b[0;32m     11\u001b[0m         \u001b[0mself\u001b[0m\u001b[1;33m.\u001b[0m\u001b[0mage\u001b[0m \u001b[1;33m=\u001b[0m \u001b[0mage\u001b[0m\u001b[1;33m\u001b[0m\u001b[1;33m\u001b[0m\u001b[0m\n\u001b[0;32m     12\u001b[0m \u001b[1;33m\u001b[0m\u001b[0m\n\u001b[1;32m---> 13\u001b[1;33m \u001b[0mp1\u001b[0m \u001b[1;33m=\u001b[0m \u001b[0mPerson\u001b[0m\u001b[1;33m(\u001b[0m\u001b[1;34m\"name1\"\u001b[0m\u001b[1;33m,\u001b[0m \u001b[1;36m40\u001b[0m\u001b[1;33m)\u001b[0m\u001b[1;33m\u001b[0m\u001b[1;33m\u001b[0m\u001b[0m\n\u001b[0m\u001b[0;32m     14\u001b[0m \u001b[0mp2\u001b[0m \u001b[1;33m=\u001b[0m \u001b[0mPerson\u001b[0m\u001b[1;33m(\u001b[0m\u001b[1;34m\"name2\"\u001b[0m\u001b[1;33m,\u001b[0m \u001b[1;36m32\u001b[0m\u001b[1;33m)\u001b[0m\u001b[1;33m\u001b[0m\u001b[1;33m\u001b[0m\u001b[0m\n",
      "\u001b[1;32m~\\AppData\\Local\\Temp\\ipykernel_4148\\4070332537.py\u001b[0m in \u001b[0;36m__init__\u001b[1;34m(self, name, age)\u001b[0m\n\u001b[0;32m      8\u001b[0m     \u001b[1;32mdef\u001b[0m \u001b[0m__init__\u001b[0m\u001b[1;33m(\u001b[0m\u001b[0mself\u001b[0m\u001b[1;33m,\u001b[0m \u001b[0mname\u001b[0m\u001b[1;33m,\u001b[0m \u001b[0mage\u001b[0m\u001b[1;33m)\u001b[0m\u001b[1;33m:\u001b[0m\u001b[1;33m\u001b[0m\u001b[1;33m\u001b[0m\u001b[0m\n\u001b[0;32m      9\u001b[0m         \u001b[1;36m3\u001b[0m\u001b[1;31m#self.hello = \"안녕하세요\"\u001b[0m\u001b[1;33m\u001b[0m\u001b[1;33m\u001b[0m\u001b[0m\n\u001b[1;32m---> 10\u001b[1;33m         \u001b[0mself\u001b[0m\u001b[1;33m.\u001b[0m\u001b[0mname\u001b[0m\u001b[1;33m(\u001b[0m\u001b[1;36m40\u001b[0m\u001b[1;33m)\u001b[0m\u001b[1;33m\u001b[0m\u001b[1;33m\u001b[0m\u001b[0m\n\u001b[0m\u001b[0;32m     11\u001b[0m         \u001b[0mself\u001b[0m\u001b[1;33m.\u001b[0m\u001b[0mage\u001b[0m \u001b[1;33m=\u001b[0m \u001b[0mage\u001b[0m\u001b[1;33m\u001b[0m\u001b[1;33m\u001b[0m\u001b[0m\n\u001b[0;32m     12\u001b[0m \u001b[1;33m\u001b[0m\u001b[0m\n",
      "\u001b[1;31mAttributeError\u001b[0m: 'Person' object has no attribute 'name'"
     ]
    }
   ],
   "source": [
    "class Person:\n",
    "    def __init__(self, param, param2):\n",
    "        self.hello = \"안녕하세요\"\n",
    "\n",
    "        \n",
    "        \n",
    "class Person:\n",
    "    def __init__(self, name, age):\n",
    "        #self.hello = \"안녕하세요\"\n",
    "        self.name(40)\n",
    "        self.age = age\n",
    "        \n",
    "p1 = Person(\"name1\", 40)\n",
    "p2 = Person(\"name2\", 32)"
   ]
  },
  {
   "cell_type": "code",
   "execution_count": null,
   "id": "4c7bac7e-be0b-4ebb-a889-fad7c88f980c",
   "metadata": {},
   "outputs": [],
   "source": [
    "p1 = Person = \"name1\"\n",
    "p1.age = 40\n",
    "\n",
    "p2 = Person = \"name2\"\n",
    "p2.age = 32"
   ]
  },
  {
   "cell_type": "code",
   "execution_count": 20,
   "id": "04a1281f-f35d-4781-bb24-b30ad78239d5",
   "metadata": {},
   "outputs": [
    {
     "name": "stdout",
     "output_type": "stream",
     "text": [
      "안녕 제 이름은 마리아입니다.\n",
      "이름 :  마리아\n",
      "나이 :  20\n",
      "주소 :  서울시 서초구 반포동\n",
      "{'hello': '안녕', 'name': '마리아', 'age': 20, 'adress': '서울시 서초구 반포동'}\n"
     ]
    }
   ],
   "source": [
    "class Person:\n",
    "    def __init__(self, name, age, address):\n",
    "        self.hello = \"안녕\"\n",
    "        self.name = name\n",
    "        self.age = age\n",
    "        self.adress = address\n",
    "        \n",
    "    def greeting(self):\n",
    "        print(f\"{self.hello} 제 이름은 {self.name}입니다.\")\n",
    "        \n",
    "maria = Person(\"마리아\", 20, \"서울시 서초구 반포동\")\n",
    "maria.greeting()\n",
    "\n",
    "print(\"이름 : \", maria.name)\n",
    "print(\"나이 : \", maria.age)\n",
    "print(\"주소 : \", maria.adress)\n",
    "print(maria.__dict__)"
   ]
  },
  {
   "cell_type": "code",
   "execution_count": 28,
   "id": "87abdb7d-2c7e-40ce-b75f-c3c2f6ca657a",
   "metadata": {},
   "outputs": [
    {
     "name": "stdout",
     "output_type": "stream",
     "text": [
      "이름 :  마리아\n",
      "나이 :  20\n",
      "주소 :  서울시 강남구\n",
      "이름 :  제임스\n",
      "나이 :  21\n",
      "주소 :  서울시 구로구\n",
      "첫번째 이름 :  마리아\n",
      "첫번째 나이 :  20\n",
      "첫번째 주소 :  서울시 강남구\n",
      "두번째 이름 :  제임스\n",
      "두번째 나이 :  21\n",
      "두번째주소 :  서울시 구로구\n",
      "이름은 무엇인가요? : 마리아\n",
      "나이는 무엇인가요? : 20\n",
      "주소는 무엇인가요? : 서울시 강남구\n",
      "이름은 무엇인가요? : 제임스\n",
      "나이는 무엇인가요? : 21\n",
      "주소는 무엇인가요? : 서울시 구로구\n",
      "첫번째 이름 :  마리아\n",
      "첫번째 나이 :  20\n",
      "첫번째 주소 :  서울시 강남구\n",
      "두번째 이름 :  제임스\n",
      "두번째 나이 :  21\n",
      "두번째주소 :  서울시 구로구\n"
     ]
    }
   ],
   "source": [
    "#연습\n",
    "#내가한거 1)\n",
    "class Person:\n",
    "    def __init__(self, name, age, address):\n",
    "        self.name = name\n",
    "        self.age = age\n",
    "        self.address = address\n",
    "        \n",
    "    # def greeting(self):\n",
    "    #     print(f\"{self.hello} 제 이름은 {self.name}입니다.\")\n",
    "    \n",
    "maria = Person(\"마리아\", 20, \"서울시 강남구\")\n",
    "james = Person(\"제임스\", 21, \"서울시 구로구\")\n",
    "\n",
    "print(\"이름 : \", maria.name)\n",
    "print(\"나이 : \", maria.age)\n",
    "print(\"주소 : \", maria.address)\n",
    "print(\"이름 : \", james.name)\n",
    "print(\"나이 : \", james.age)\n",
    "print(\"주소 : \", james.address)\n",
    "# print(maria.__dict__)\n",
    "print(\"첫번째 이름 : \", maria.name)\n",
    "print(\"첫번째 나이 : \", maria.age)\n",
    "print(\"첫번째 주소 : \", maria.address)\n",
    "print(\"두번째 이름 : \", james.name)\n",
    "print(\"두번째 나이 : \", james.age)\n",
    "print(\"두번째주소 : \", james.address)\n",
    "\n",
    "\n",
    "\n",
    "#내가한거 2)\n",
    "class Person:\n",
    "    def __init__(self, name, age, address):\n",
    "        self.name = name\n",
    "        self.age = age\n",
    "        self.address = address\n",
    "        \n",
    "    def greeting(self):\n",
    "        print(f\"이름은 무엇인가요? : {self.name}\")\n",
    "        print(f\"나이는 무엇인가요? : {self.age}\")\n",
    "        print(f\"주소는 무엇인가요? : {self.address}\")\n",
    "        \n",
    "\n",
    "maria = Person(\"마리아\", 20, \"서울시 강남구\")\n",
    "james = Person(\"제임스\", 21, \"서울시 구로구\")\n",
    "\n",
    "maria.greeting()\n",
    "james.greeting()\n",
    "\n",
    "print(\"첫번째 이름 : \", maria.name)\n",
    "print(\"첫번째 나이 : \", maria.age)\n",
    "print(\"첫번째 주소 : \", maria.address)\n",
    "print(\"두번째 이름 : \", james.name)\n",
    "print(\"두번째 나이 : \", james.age)\n",
    "print(\"두번째주소 : \", james.address)\n",
    "\n",
    "\n",
    "\n",
    "\n",
    "\n",
    "\n",
    "\n",
    "#선생님코드\n",
    "class Person():\n",
    "    abc = \"abc\"\n",
    "    def __init__(self, name, age, address): #생성자\n",
    "        self.hello = \"안녕하세요. 저는 사람입니다\"\n",
    "        self.name = name\n",
    "        self.age = age\n",
    "        self.address = address\n",
    "    \n",
    "    def greeting(self):\n",
    "        print(\"{0} 저는 {1}입니다.\".format(self.hello, self.name))\n",
    "        \n",
    "name = input(\"이름은 무엇인가요?\")\n",
    "age = input(\"나이는 무엇인가요?\")\n",
    "address = input(\"주소는 무엇인가요?\")\n",
    "maria = Person(name, age, address)\n",
    "\n",
    "name = input(\"이름은 무엇인가요?\")\n",
    "age = input(\"나이는 무엇인가요?\")\n",
    "address = input(\"주소는 무엇인가요?\")\n",
    "james = Person(name, age, address)\n",
    "\n",
    "\n",
    "print(f\"첫번째 이름: {maria.name}\")\n",
    "print(f\"첫번째 나이: {maria.age}\")\n",
    "print(f\"첫번째 주소: {maria.address}\")\n",
    "\n",
    "print(f\"두번째 이름: {james.name}\")\n",
    "print(f\"두번째 나이: {james.age}\")\n",
    "print(f\"두번째 주소: {james.address}\")"
   ]
  },
  {
   "cell_type": "code",
   "execution_count": 34,
   "id": "ce553be3-a4de-4b40-8cfd-bcc3e088891b",
   "metadata": {},
   "outputs": [
    {
     "name": "stdout",
     "output_type": "stream",
     "text": [
      "엘\n",
      "1\n",
      "서울\n"
     ]
    }
   ],
   "source": [
    "#비공개 속성 사용하기\n",
    "#인스턴스.속성 = 값 \n",
    "#속성앞에 던더 붙이면 비공개 속성이 됨\n",
    "\n",
    "#예제\n",
    "class Person3:\n",
    "    def __init__(self, name, age, address, wallet):\n",
    "        self.hello = \"안녕하세요.\"\n",
    "        self.name = name\n",
    "        self.age = age\n",
    "        self.address = address\n",
    "        self.__wallet = wallet #던더 여기에 쓰임, 얘는 class안에서만 사용할 수 있게 함\n",
    "        \n",
    "    def greeting(self): # __GREETING으로 해도 밖에서 못쓰게 만들어버림(비공개로 만들어버림), 메소드에도 적용 가능 \n",
    "        print(f\"{self.hello} 제 이름은 {self.name}입니다.\")\n",
    "        \n",
    "    def amount(self):\n",
    "        print(self.__wallet)#비공개 속성은 클래스 안의 매서드에서만 접근 가능\n",
    "        \n",
    "        \n",
    "a = Person3(\"엘\", 1, \"서울\", 0)\n",
    "print(a.name)\n",
    "print(a.age)\n",
    "print(a.address)\n",
    "print()\n",
    "# print(a.wallet) #월렛은 안나옴(던더 써서 비공개로 만들어서 없다고 나옴)"
   ]
  },
  {
   "cell_type": "code",
   "execution_count": 40,
   "id": "d90679d6-a0c7-4452-b692-3fd7a3bb144a",
   "metadata": {},
   "outputs": [
    {
     "name": "stdout",
     "output_type": "stream",
     "text": [
      "0\n",
      "None\n",
      "돈이 모자랍니다\n",
      "None\n"
     ]
    }
   ],
   "source": [
    "#예제\n",
    "class Person3:\n",
    "    def __init__(self, name, age, address, wallet):\n",
    "        self.hello = \"안녕하세요.\"\n",
    "        self.name = name\n",
    "        self.age = age\n",
    "        self.address = address\n",
    "        self.__wallet = wallet \n",
    "        \n",
    "    def greeting(self): \n",
    "        print(f\"{self.hello} 제 이름은 {self.name}입니다.\")\n",
    "        \n",
    "    def amount(self):\n",
    "        print(self.__wallet)\n",
    "        \n",
    "    def pay(self, amount):\n",
    "        if self.__wallet < amount:\n",
    "            print(\"돈이 모자랍니다\")\n",
    "            return\n",
    "        self.__wallet -= amount\n",
    "        \n",
    "        \n",
    "a = Person3(\"엘\", 1, \"서울\", 0)\n"
   ]
  },
  {
   "cell_type": "code",
   "execution_count": 49,
   "id": "909411e6-0539-4c4a-828a-0c9048443086",
   "metadata": {},
   "outputs": [
    {
     "name": "stdin",
     "output_type": "stream",
     "text": [
      "체력, 마나, AP를 입력하세요: 511.68 334.0 298\n"
     ]
    },
    {
     "name": "stdout",
     "output_type": "stream",
     "text": [
      "티버 : 피해량 593.7\n"
     ]
    }
   ],
   "source": [
    "#연습\n",
    "#도움받은거\n",
    "\n",
    "class Annie:\n",
    "    def __init__(self, ch, ma, ap): #생성자\n",
    "        self.ch = ch\n",
    "        self.ma = ma\n",
    "        self.ap = ap\n",
    "    \n",
    "    def tibbers(self):\n",
    "        return ap * 0.65 + 400\n",
    "        \n",
    "ch, ma, ap = map(float, input(\"체력, 마나, AP를 입력하세요:\").split()) #난 int로 잘못해줬었음, 꼭 맵으로 해줘야함 바로 list로 하니까 오류남\n",
    "# list(int(input(\"체력, 마나, AP를 입력하세요\")).split())   \n",
    "annie = Annie(ch, ma, ap)\n",
    "\n",
    "print(f\"티버 : 피해량 {annie.tibbers()}\")  # james.greeting() 메소드로 불러올떄는 소괄호 꼭 만들어 줘야함\n"
   ]
  },
  {
   "cell_type": "markdown",
   "id": "23d52e85-622f-47ec-bd54-52c9cb3487e8",
   "metadata": {},
   "source": [
    "# numpy"
   ]
  },
  {
   "cell_type": "code",
   "execution_count": null,
   "id": "e62f2432-e2a0-4131-b63f-6fd81f062098",
   "metadata": {},
   "outputs": [],
   "source": [
    "#숫자 데이터를 효과적으로 다룰 수 ㅇ\n",
    "#데이터과학, 데이터분석에 많이 사용\n",
    "#다차원 배열 자료구조 클래스인 ndarray클래스를 지원\n",
    "#헹렬과 벡터"
   ]
  },
  {
   "cell_type": "code",
   "execution_count": null,
   "id": "462b78d1-2e80-46e1-8447-d847d005bd7e",
   "metadata": {},
   "outputs": [],
   "source": [
    "#넘파이 배열\n",
    "\n",
    "#배열 : 순서가 있는 같은 종류(타입)의 데이터가 저장되는 자료형\n",
    "#리스트에 비해 적은 메모리로 많은 데이터를 빠르게 처리 가능\n",
    "\n",
    "#리스트와 차이점 \n",
    "##모든 요소(아이템)가 \"자료형\"이여야함(리스트는 다양한 자료형 섞어도 됨)\n",
    "##요소의 개수를 바꿀 수 없음(리스트는 바꿀 수정, 삭제 가능)\n",
    "\n",
    "#c로 구현된 내부 반복문 사용 \n",
    "#벡터화 연산을 통해 복잡한 연산 수행 가능\n",
    "#배열 인덱싱을 사용한 질의 기능 이용 -> 복잡한 수식 계산 가능"
   ]
  },
  {
   "cell_type": "code",
   "execution_count": 50,
   "id": "937c699e-94d3-4b91-a24f-bf32e3b43647",
   "metadata": {},
   "outputs": [],
   "source": [
    "import numpy as np"
   ]
  },
  {
   "cell_type": "code",
   "execution_count": 61,
   "id": "691ad8a5-6bd9-4a10-b654-b50b01a39720",
   "metadata": {},
   "outputs": [
    {
     "name": "stdout",
     "output_type": "stream",
     "text": [
      "[0 1 2 3 4 5 6 7 8 9]\n",
      "(10,)\n",
      "[ 0.1  5.   4.  12.   0.5]\n",
      "int32\n"
     ]
    }
   ],
   "source": [
    "#1차원 배열 만들기\n",
    "## ndarry는 N-dimensional Array의 약자\n",
    "## 다차원 배열 구조 지원\n",
    "\n",
    "#넘파이 array메서드 인수로 시퀀스 자료형을 넣으면 ndarray클랙스 객체 즉, 넘파이 배열로 변환\n",
    "#시퀀스자료형은 튜플보단 주로 리스트를 많이 활용\n",
    "#밑 식은 리스트와 동일한 구조처럼 보임\n",
    "#shape을 사용하면 넘파이 배열 모양 확인 가능\n",
    "#~~~~~~~~~~~~~~~~~~~~~~~~~~~~~~~`\n",
    "ar = np.array([i for i in range(10)])\n",
    "print(ar)\n",
    "print(ar.shape)\n",
    "ar\n",
    "type(ar)\n",
    "\n",
    "\n",
    "\n"
   ]
  },
  {
   "cell_type": "code",
   "execution_count": 57,
   "id": "8e0d7c8a-457f-4720-baae-2fc9cfcad09f",
   "metadata": {},
   "outputs": [],
   "source": [
    "# !conda list \n",
    "#라이브러리 목록 확인하는 코드"
   ]
  },
  {
   "cell_type": "code",
   "execution_count": 64,
   "id": "abd55e7c-648a-41de-a6c4-4d896ee2aecc",
   "metadata": {},
   "outputs": [
    {
     "name": "stdout",
     "output_type": "stream",
     "text": [
      "[ 0.1  5.  12.   0.5]\n",
      "int32\n",
      "float64\n"
     ]
    }
   ],
   "source": [
    "#예제2\n",
    "#정수와 실수가 혼합된리스트\n",
    "#표현범위가 더 큰 자료형으로 변환\n",
    "ar2 = np.array([0.1, 5, 12, 0.5])\n",
    "print(ar2)\n",
    "\n",
    "\n",
    "x = np.array([1, 2, 3])\n",
    "y = np.array([1, 2, 3.0])\n",
    "print(x.dtype)\n",
    "print(y.dtype)"
   ]
  },
  {
   "cell_type": "code",
   "execution_count": null,
   "id": "ad63b8f9-c737-4d63-9b48-81166f56dd90",
   "metadata": {},
   "outputs": [],
   "source": [
    "#책 p122의 boolean타입이 틀림 -> \"?\"이거임, 교안에 있는게 맞는거"
   ]
  },
  {
   "cell_type": "code",
   "execution_count": 71,
   "id": "d1eec08a-769d-48c7-9d2c-6b7f93ec2df6",
   "metadata": {},
   "outputs": [
    {
     "name": "stdout",
     "output_type": "stream",
     "text": [
      "[3 6 9]\n",
      "int64\n",
      "[2. 4. 6. 8.]\n",
      "float64\n",
      "['가나다라마' '가나다라마' '가나다라마' '가나다라마' '가나다라마']\n",
      "<U5\n"
     ]
    }
   ],
   "source": [
    "ar3 = np.array([i for i in range(3, 10, 3)], 'i8') # int8 byte * 8bit\n",
    "print(ar3)\n",
    "print(ar3.dtype)\n",
    "\n",
    "\n",
    "ar4 = np.array([i for i in range(2, 10 ,2)], 'f8')\n",
    "print(ar4)\n",
    "print(ar4.dtype)\n",
    "\n",
    "\n",
    "#'U8' 유니코드 8글자 자료형을 명시적으로 선언\n",
    "#그래서 U5 U8\n",
    "ar5 = np.array([\"가나다라마\" for i in range(5)], 'U5')\n",
    "print(ar5)\n",
    "print(ar5.dtype) #< U 5는 최대 5글자다라는걸 나타내주는애 , 숫자는 더 크게도 작게도 됨"
   ]
  },
  {
   "cell_type": "code",
   "execution_count": 66,
   "id": "9e7d3976-0747-42ff-b162-1ae314cfa365",
   "metadata": {},
   "outputs": [
    {
     "data": {
      "text/plain": [
       "array([2., 4., 6., 8.])"
      ]
     },
     "execution_count": 66,
     "metadata": {},
     "output_type": "execute_result"
    }
   ],
   "source": [
    "ar4 = np.array([i for i in range(2, 10 ,2)], 'f8')\n",
    "ar4"
   ]
  },
  {
   "cell_type": "code",
   "execution_count": 72,
   "id": "ec7cf25d-8dfe-414b-8471-26f6516d9125",
   "metadata": {},
   "outputs": [],
   "source": [
    "#무한대 표현 -> np.inf  : 1을 0으로 나누려 할 때\n",
    "#정의할 수 없는 숫자 -> np.nan : 0을 0으로 나누려할 떄"
   ]
  },
  {
   "cell_type": "code",
   "execution_count": 74,
   "id": "151c0298-1ba2-4f8e-a6ec-ef1824ef5683",
   "metadata": {},
   "outputs": [
    {
     "name": "stdout",
     "output_type": "stream",
     "text": [
      "[1 2 3 4 5 6 7 8 9]\n",
      "[ 2  4  6  8 10 12 14 16 18]\n"
     ]
    }
   ],
   "source": [
    "#벡터화 연산\n",
    "#넘파이 배열 객체는-> 배열의 각 요소에 대한 반복 연산을 하나의 명령어로 처리하는 벡터화 연산 지원\n",
    "#벡터화 연산 사용 시 -> for반복문 없이 단 한번의 연산식으로 표현 가능\n",
    "#예시\n",
    "data = [1, 2, 3, 4, 5, 6, 7, 8, 9]\n",
    "x = np.array(data)\n",
    "print(x)\n",
    "print(2 * x)"
   ]
  },
  {
   "cell_type": "code",
   "execution_count": 76,
   "id": "4e3b53a4-7537-467a-979b-60648206091c",
   "metadata": {},
   "outputs": [
    {
     "name": "stdout",
     "output_type": "stream",
     "text": [
      "[0, 1, 2, 0, 1, 2, 0, 1, 2, 0, 1, 2, 0, 1, 2]\n"
     ]
    }
   ],
   "source": [
    "#list와 비교\n",
    "#list\n",
    "list_a = [i for i in range(3)]\n",
    "print(list_a * 5)"
   ]
  },
  {
   "cell_type": "code",
   "execution_count": 81,
   "id": "af545cfd-a525-483e-8a05-d79144ebd9a4",
   "metadata": {},
   "outputs": [
    {
     "name": "stdout",
     "output_type": "stream",
     "text": [
      "[12 24 36]\n",
      "[False  True False]\n",
      "[False  True  True]\n",
      "[False  True False]\n"
     ]
    }
   ],
   "source": [
    "#논리/비교연산자도 가능\n",
    "a = np.array([1, 2, 3])\n",
    "b = np.array([10, 20, 30])\n",
    "\n",
    "print(2 * a + b)\n",
    "print(a == 2)\n",
    "print(b > 10)\n",
    "print((a == 2) & (b > 10)) #& = and"
   ]
  },
  {
   "cell_type": "code",
   "execution_count": 86,
   "id": "b02c25b2-0e9b-4462-bcb8-b479f52afa6b",
   "metadata": {},
   "outputs": [
    {
     "name": "stdout",
     "output_type": "stream",
     "text": [
      "[[0 1 2]\n",
      " [3 4 5]]\n",
      "(2, 3)\n",
      "2\n",
      "3\n"
     ]
    }
   ],
   "source": [
    "#2차원 배열 만들기\n",
    "#행 먼저 보고 열 -> shape2,3 이면 2행 3열이라는 뜻\n",
    "c = np.array([[0,1,2], [3,4,5]]) #2 * 3 array\n",
    "print(c)\n",
    "print(c.shape)\n",
    "print(len(c)) #행\n",
    "print(len(c[0])) #열"
   ]
  },
  {
   "cell_type": "code",
   "execution_count": 88,
   "id": "12736f07-843e-4eea-8cc2-ddac5df78443",
   "metadata": {},
   "outputs": [
    {
     "name": "stdout",
     "output_type": "stream",
     "text": [
      "[[10 20 30 40]\n",
      " [50 60 70 80]]\n",
      "(2, 4)\n",
      "2\n",
      "4\n"
     ]
    }
   ],
   "source": [
    "#연습\n",
    "d = np.array([[10,20,30,40], [50, 60, 70, 80]]) #2 * 4 array\n",
    "print(d)\n",
    "print(d.shape)\n",
    "print(len(d)) #행\n",
    "print(len(d[0])) #열"
   ]
  },
  {
   "cell_type": "code",
   "execution_count": 97,
   "id": "95e87263-b0ea-4294-bb36-a11432c8a90e",
   "metadata": {},
   "outputs": [
    {
     "name": "stdout",
     "output_type": "stream",
     "text": [
      "[[[ 1  2  3  4]\n",
      "  [ 5  6  7  8]\n",
      "  [ 9 10 11 12]]\n",
      "\n",
      " [[11 12 13 14]\n",
      "  [15 16 17 18]\n",
      "  [19 20 21 22]]]\n",
      "(2, 3, 4)\n",
      "2\n",
      "3\n",
      "4\n"
     ]
    }
   ],
   "source": [
    "#3차원배열\n",
    "#깊이 * 행 * 열\n",
    "#shape  4 , 3, 2면 깊이>행>열 순서 \n",
    "\n",
    "#예제\n",
    "#2 X 3 X 4\n",
    "e = np.array([[[1, 2, 3, 4],\n",
    "               [5, 6, 7, 8],\n",
    "               [9, 10, 11, 12]],\n",
    "              \n",
    "              [[11, 12, 13, 14],\n",
    "               [15, 16, 17, 18],\n",
    "               [19, 20, 21, 22]]])\n",
    "print(e)\n",
    "print(e.shape)\n",
    "print(len(e))\n",
    "print(len(e[0]))\n",
    "print(len(e[0][0]))\n"
   ]
  },
  {
   "cell_type": "code",
   "execution_count": 119,
   "id": "0640016f-fe8d-4d3b-84e7-6047c05de173",
   "metadata": {},
   "outputs": [
    {
     "name": "stdout",
     "output_type": "stream",
     "text": [
      "5\n",
      "[[0, 1, 2], [3, 4, 5]]\n",
      "0\n",
      "1\n",
      "5\n",
      "[0 1 2 3]\n",
      "[1 5]\n",
      "[5 6 7]\n",
      "[[0 1]\n",
      " [4 5]]\n"
     ]
    }
   ],
   "source": [
    "#배열의 인덱싱\n",
    "\n",
    "#1)1차원\n",
    "a = np.array([0, 1, 2, 3, 4, 5])\n",
    "#a = np.array([i for i in range(5)])로 해도 됨\n",
    "print(a[-1])\n",
    "\n",
    "\n",
    "\n",
    "#2차원\n",
    "b = ([[0, 1, 2], [3, 4, 5]])\n",
    "\n",
    "print(b)\n",
    "\n",
    "print(b[0][0])\n",
    "print(b[0][1])\n",
    "print(b[-1][-1])\n",
    "\n",
    "\n",
    "\n",
    "#2차원, 슬라이싱과 콤마를 같이 사용하면 됨\n",
    "b = np.array([[0, 1, 2, 3], [4, 5, 6, 7]]) \n",
    "#다른방법 -> np.array([i for i in range(8)]).reshape(2, 4)\n",
    "\n",
    "print(b[0, :])\n",
    "print(b[:, 1]) \n",
    "print(b[1, 1:])\n",
    "print(b[:2, :2])\n",
    "\n",
    "\n"
   ]
  },
  {
   "cell_type": "code",
   "execution_count": 162,
   "id": "e37c89d9-7a52-40b5-aaba-56da4ce1478d",
   "metadata": {},
   "outputs": [
    {
     "name": "stdout",
     "output_type": "stream",
     "text": [
      "7\n",
      "14\n",
      "[6 7]\n",
      "[ 7 12]\n",
      "[[3 4]\n",
      " [8 9]]\n"
     ]
    }
   ],
   "source": [
    "#연습\n",
    "c = np.array([i for i in range(15)]).reshape(3, 5)\n",
    "\n",
    "print(c[1, 2]) #7\n",
    "\n",
    "print(c[-1, -1]) #14 \n",
    "\n",
    "print(c[1, 1:3]) # [6 7]\n",
    "\n",
    "print(c[1:3, 2]) #[7 12] -> 작은 리스트들도 단위로 슬라이싱 가능함. 그 안에 요소만 가능한게 아님\n",
    "\n",
    "print(c[:2, -2:]) # [3 4] [8 9] ->시작:끝+1해야 내가 원하는 리스트까지 볼 수 있음"
   ]
  },
  {
   "cell_type": "code",
   "execution_count": 175,
   "id": "58ee801b-8fd0-4aff-9398-4b1545d71a81",
   "metadata": {},
   "outputs": [
    {
     "name": "stdout",
     "output_type": "stream",
     "text": [
      "[0. 0. 0. 0. 0.]\n",
      "[[ 0  1  2  3  4]\n",
      " [ 5  6  7  8  9]\n",
      " [10 11 12 13 14]]\n"
     ]
    },
    {
     "data": {
      "text/plain": [
       "array([[1., 1.],\n",
       "       [1., 1.],\n",
       "       [1., 1.],\n",
       "       [1., 1.],\n",
       "       [1., 1.]], dtype=float32)"
      ]
     },
     "execution_count": 175,
     "metadata": {},
     "output_type": "execute_result"
    }
   ],
   "source": [
    "#배열생성\n",
    "#넘파이는 몇가지 단순한 배열을 생성하는 메서드를 제공\n",
    "\n",
    "#zeros, ones\n",
    "#zeros_likem ones_like\n",
    "#empty\n",
    "#arange\n",
    "#....\n",
    "a = np.zeros(5)\n",
    "print(a)\n",
    "\n",
    "b = np.zeros((5, 2), dtype='i')\n",
    "print(c)\n",
    "\n",
    "\n",
    "# #문자열 배열도 가능하지만 모든 원소의 문자열 크기가 같아야함\n",
    "# c = np.zeros(5), dtype = \"U4\".....다시\n",
    "\n",
    "\n",
    "d = np.ones((2,3,4), dtype = \"i8\") #깊이 행 열 순서\n",
    "d\n",
    "\n",
    "e = np.ones_like(b, dtype = \"f\")\n",
    "e\n",
    "\n",
    "f = np.empty((4, 3))\n",
    "f"
   ]
  },
  {
   "cell_type": "code",
   "execution_count": 180,
   "id": "f3287e4e-56e4-45e4-aa31-f70d2cf39060",
   "metadata": {},
   "outputs": [
    {
     "data": {
      "text/plain": [
       "array([ 3,  5,  7,  9, 11, 13, 15, 17, 19])"
      ]
     },
     "execution_count": 180,
     "metadata": {},
     "output_type": "execute_result"
    }
   ],
   "source": [
    "#arange\n",
    "np.arange(10)# 0...n-1\n",
    "\n",
    "np.arange(3, 21, 2) #시작, 끝(포함안함), 단계"
   ]
  },
  {
   "cell_type": "code",
   "execution_count": 181,
   "id": "5d22cfe5-cdc2-44f5-8061-e5e133b22d2e",
   "metadata": {},
   "outputs": [
    {
     "data": {
      "text/plain": [
       "array([[1, 2, 3],\n",
       "       [4, 5, 6]])"
      ]
     },
     "execution_count": 181,
     "metadata": {},
     "output_type": "execute_result"
    }
   ],
   "source": [
    "#전치연산\n",
    "#2차원 배열의 전치 연산은 행과 열을 바꾸는 작업입니다. 이는 배열의 T속성으로 구할 수 있음, 메서드X\n",
    "a = np.array([[1,2,3], [4,5,6]])\n",
    "a....다시\n"
   ]
  },
  {
   "cell_type": "code",
   "execution_count": 185,
   "id": "ff220225-afb0-4493-820b-44303638dd4f",
   "metadata": {},
   "outputs": [
    {
     "data": {
      "text/plain": [
       "array([ 0,  1,  2,  3,  4,  5,  6,  7,  8,  9, 10, 11])"
      ]
     },
     "execution_count": 185,
     "metadata": {},
     "output_type": "execute_result"
    }
   ],
   "source": [
    "#배열의 크기 변형 -> reshape()\n",
    "ex = np.arange(12)\n",
    "ex.reshape(3,4) #(2,2,-1)도 됨\n",
    "\n",
    "#다차원의 배열을 1차원으로 -> .flatten(), .ravel()\n",
    "ex.flatten()\n",
    "ex.ravel()"
   ]
  },
  {
   "cell_type": "code",
   "execution_count": 197,
   "id": "8ef35f62-0416-4ee1-9278-99e7b96e17ff",
   "metadata": {},
   "outputs": [
    {
     "name": "stdout",
     "output_type": "stream",
     "text": [
      "[[1. 1. 1.]\n",
      " [1. 1. 1.]]\n",
      "[[0. 0. 0.]\n",
      " [0. 0. 0.]\n",
      " [0. 0. 0.]]\n",
      "[[1. 1. 1. 1.]\n",
      " [1. 1. 1. 1.]\n",
      " [1. 1. 1. 1.]]\n",
      "[[0. 0. 0. 0.]\n",
      " [0. 0. 0. 0.]\n",
      " [0. 0. 0. 0.]]\n"
     ]
    },
    {
     "data": {
      "text/plain": [
       "array([[0, 1, 2, 0, 1, 2],\n",
       "       [3, 4, 5, 3, 4, 5],\n",
       "       [0, 1, 2, 0, 1, 2],\n",
       "       [3, 4, 5, 3, 4, 5],\n",
       "       [0, 1, 2, 0, 1, 2],\n",
       "       [3, 4, 5, 3, 4, 5]])"
      ]
     },
     "execution_count": 197,
     "metadata": {},
     "output_type": "execute_result"
    }
   ],
   "source": [
    "#배열연결\n",
    "#행의 수나 열의 수가 같은 두 개 이상의 배열을 연결해 더 큰 배열을 만들 때\n",
    "\n",
    "#hstack, vstack, dstack, r_, c_, tile, hstack\n",
    "#hstack은 행의 수가 같은 두 개 이상의 배열을 옆으로 연결, 연결할 배열은 하나의 리스트에 담아야 함.\n",
    "\n",
    "\n",
    "\n",
    "#vstack(열)합치기 : \n",
    "b1 = np.ones((2,3))\n",
    "b2 = np.zeros((3,3))\n",
    "\n",
    "print(b1)\n",
    "print(b2)\n",
    "\n",
    "np.vstack([b1, b2])\n",
    "\n",
    "\n",
    "\n",
    "#dstack(깊이)합치기:\n",
    "c1 = np.ones((3,4))\n",
    "c2 = np.zeros((3, 4,))\n",
    "\n",
    "print(c1)\n",
    "print(c2)\n",
    "\n",
    "np.dstack([c1,c2]) # 3 X 4 X 2배열\n",
    "\n",
    "\n",
    "\n",
    "#배열연결 다시 정리해야함\n",
    "\n",
    "\n",
    "\n",
    "# r_메서드\n",
    "#hstack과 비슷하게 배열을 좌우로 연결\n",
    "#인덱서라고도 부름(특수메서드)\n",
    "\n",
    "\n",
    "\n",
    "\n",
    "#c_메서드\n",
    "#배열ㅇ의 차원을 증가시킨 후 좌우로 연결\n",
    "#1차원 배열을 연결하면 2차원 배열이 됨\n",
    "np.c_[np.array([1,2,3]),np.array([4,5,6])]\n",
    "\n",
    "\n",
    "\n",
    "\n",
    "#tile명령\n",
    "#동일한 배열을 반복해 연결\n",
    "a = np.array([[0,1,2], [3,4,5]])\n",
    "np.tile(a,2)\n",
    "\n",
    "np.tile(a, (3,2))\n",
    "\n",
    "\n",
    "\n",
    "#"
   ]
  },
  {
   "cell_type": "code",
   "execution_count": 220,
   "id": "82ba294b-33f4-4a5d-972a-3a13f728e10c",
   "metadata": {},
   "outputs": [
    {
     "name": "stdout",
     "output_type": "stream",
     "text": [
      "[[0. 0. 0.]\n",
      " [0. 0. 0.]\n",
      " [0. 0. 0.]]\n",
      "[[1. 1.]\n",
      " [1. 1.]\n",
      " [1. 1.]]\n",
      "[ 10  20  30  40  50  60  70  80  90 100 110 120 130 140 150]\n"
     ]
    }
   ],
   "source": [
    "#연습\n",
    "#내가한거\n",
    "b1 = np.zeros((3,3)) #b1+b2\n",
    "b2 = np.ones((3,2))\n",
    "c = np.arange(10, 151, 10) #5개씩 자르기\n",
    "print(b1)\n",
    "print(b2)\n",
    "print(c)\n",
    "\n",
    "# np.vstack([b1, b2])\n",
    "\n",
    "\n",
    "\n",
    "#선생님코드\n",
    "zeros = np.zeros([3, 3])\n",
    "ones = np.ones([3,2] )\n",
    "numbers = np.reshape(np.arange(10 ,160, 10), (-3, -1))\n",
    "res = np.tile(np.vstack([np.hstack~~~~]))"
   ]
  },
  {
   "cell_type": "code",
   "execution_count": 213,
   "id": "2e864a03-1249-4594-882c-415941866f8c",
   "metadata": {},
   "outputs": [
    {
     "data": {
      "text/plain": [
       "array([ 10,  20,  30,  40,  50,  60,  70,  80,  90, 100, 110, 120, 130,\n",
       "       140, 150])"
      ]
     },
     "execution_count": 213,
     "metadata": {},
     "output_type": "execute_result"
    }
   ],
   "source": [
    "ex = np.arange(10, 151, 10)\n",
    "ex"
   ]
  },
  {
   "cell_type": "code",
   "execution_count": null,
   "id": "977935de-3d7e-481d-8dc7-748f1083b4ae",
   "metadata": {},
   "outputs": [],
   "source": [
    "#정답\n",
    "a1 = np.zeros((3, 3))\n",
    "a2 = np.ones((3, 2))\n",
    "a3 = np.hstack([a1, a2])\n",
    "a4 = np.arange(10, 160, 10)\n",
    "a5 = a4.reshape(3, 5)\n",
    "a6 = np.vstack([a3, a5])\n",
    "a7 = np.vstack([a6, a6])\n",
    "a7"
   ]
  }
 ],
 "metadata": {
  "kernelspec": {
   "display_name": "Python 3 (ipykernel)",
   "language": "python",
   "name": "python3"
  },
  "language_info": {
   "codemirror_mode": {
    "name": "ipython",
    "version": 3
   },
   "file_extension": ".py",
   "mimetype": "text/x-python",
   "name": "python",
   "nbconvert_exporter": "python",
   "pygments_lexer": "ipython3",
   "version": "3.9.13"
  }
 },
 "nbformat": 4,
 "nbformat_minor": 5
}
