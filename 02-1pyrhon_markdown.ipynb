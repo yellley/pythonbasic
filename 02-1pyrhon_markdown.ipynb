{
 "cells": [
  {
   "cell_type": "markdown",
   "id": "bd0419ef-873c-4b5c-8c37-780eb2a5e3f2",
   "metadata": {},
   "source": [
    "# 23/1/5(목요일)"
   ]
  },
  {
   "cell_type": "markdown",
   "id": "acbc6649-3c10-498d-9cf0-dbf950a0282d",
   "metadata": {},
   "source": [
    "## 1. 마크다운"
   ]
  },
  {
   "cell_type": "markdown",
   "id": "e40c52da-4127-466b-916a-157c7161ec87",
   "metadata": {},
   "source": [
    "# H1\n",
    "## H2\n",
    "### H3\n",
    "#### H4\n",
    "##### H5\n",
    "###### H6"
   ]
  },
  {
   "cell_type": "markdown",
   "id": "a8c7e1c3-ac11-4cc6-b70a-389a9f06389a",
   "metadata": {},
   "source": [
    "# 1. 마크다운 실습\n",
    "\n",
    "## 1-1 ~"
   ]
  },
  {
   "cell_type": "code",
   "execution_count": 2,
   "id": "5b8e3328-9318-47ee-ade0-e03838f94a87",
   "metadata": {},
   "outputs": [],
   "source": [
    "#**굵은글씨**, *기울인글씨*, ~~취소선~~"
   ]
  },
  {
   "cell_type": "markdown",
   "id": "1cc26fdd-228b-4192-8d0c-b87c663cb9f5",
   "metadata": {},
   "source": [
    "\n",
    "일반 텍스트는 그냥 입력하면 됨.\n",
    "**굵은** 글씨는 이렇게 사용(사용할 구간 앞뒤에)\n",
    "*기울인 글씨*는 이렇게 사용\n",
    "~~취소선~~"
   ]
  },
  {
   "cell_type": "markdown",
   "id": "4a64aeb6-7bf8-4728-a141-b4f870fb2e5f",
   "metadata": {},
   "source": [
    "> 구획이\n",
    "> 잡힌\n",
    "> 글"
   ]
  },
  {
   "cell_type": "markdown",
   "id": "7073e98a-7e25-44eb-ad28-d26aec31f9ca",
   "metadata": {},
   "source": [
    "- 목록1\n",
    "- 목록2\n",
    "- 목록3"
   ]
  },
  {
   "cell_type": "markdown",
   "id": "488bf616-bf62-4f63-ab26-a8a92efd7bb6",
   "metadata": {},
   "source": [
    "[Goggel](www.goggle.com)"
   ]
  },
  {
   "cell_type": "markdown",
   "id": "09d44acd-e294-4f3d-b543-0a020740f3d6",
   "metadata": {},
   "source": [
    "[이미지설명칸](https://imgnews.pstatic.net/image/029/2023/01/05/0002776812_001_20230105082901070.jpg?type=w647)"
   ]
  },
  {
   "cell_type": "markdown",
   "id": "6f0c8f01-43a1-4f94-bc12-565e8574196f",
   "metadata": {},
   "source": [
    "![이미지설명칸](https://imgnews.pstatic.net/image/029/2023/01/05/0002776812_001_20230105082901070.jpg?type=w647) #그림 바로 보이게"
   ]
  },
  {
   "cell_type": "markdown",
   "id": "6ebf6693-3392-4da5-ba95-5d036dd45bb1",
   "metadata": {},
   "source": [
    "1. 목록1\n",
    "2. 목록2\n",
    "3. 목록3"
   ]
  },
  {
   "cell_type": "markdown",
   "id": "29fac14e-832a-4c6a-903d-1ebf4dc7fcd8",
   "metadata": {},
   "source": [
    "|제목 셀|제목 셀|제목 셀|\n",
    "|:--|--:|:--:|\n",
    "|값1|값2|값3|"
   ]
  },
  {
   "cell_type": "code",
   "execution_count": 8,
   "id": "bfd0d630-021d-4559-8888-c01edcde7507",
   "metadata": {},
   "outputs": [
    {
     "data": {
      "text/plain": [
       "' python\\npy코드~~\\n~~~~~~~~\\n'"
      ]
     },
     "execution_count": 8,
     "metadata": {},
     "output_type": "execute_result"
    }
   ],
   "source": [
    "''' python\n",
    "py코드~~\n",
    "~~~~~~~~\n",
    "'''"
   ]
  },
  {
   "cell_type": "code",
   "execution_count": 9,
   "id": "19100505-56f6-4c9e-90a0-e7e9bca7b061",
   "metadata": {},
   "outputs": [
    {
     "ename": "SyntaxError",
     "evalue": "invalid syntax (3272045060.py, line 1)",
     "output_type": "error",
     "traceback": [
      "\u001b[1;36m  File \u001b[1;32m\"C:\\Users\\playdata\\AppData\\Local\\Temp\\ipykernel_15940\\3272045060.py\"\u001b[1;36m, line \u001b[1;32m1\u001b[0m\n\u001b[1;33m    ``` python\u001b[0m\n\u001b[1;37m    ^\u001b[0m\n\u001b[1;31mSyntaxError\u001b[0m\u001b[1;31m:\u001b[0m invalid syntax\n"
     ]
    }
   ],
   "source": [
    "``` python\n",
    "py코드~~\n",
    "~~~~~~~~\n",
    "```"
   ]
  },
  {
   "cell_type": "code",
   "execution_count": null,
   "id": "92a74606-6edd-42e6-9fa6-5cc08a7bbcad",
   "metadata": {},
   "outputs": [],
   "source": []
  },
  {
   "cell_type": "code",
   "execution_count": 16,
   "id": "fe92e8d1-43bb-42d5-a1c6-215aee9fae0d",
   "metadata": {},
   "outputs": [
    {
     "name": "stdout",
     "output_type": "stream",
     "text": [
      "False\n"
     ]
    }
   ],
   "source": [
    "#[국어, 영어, 한국사, 선택교과1, 선택교과2], 어느 한 과목이라도 60점 미만이면 과락\n",
    "scores = [88, 73, 89, 59, 77]\n",
    "\n",
    "print(scores[0] >= 60 and scores[1] >=60 and scores[2] >=60  and scores[3] >=60  and scores[4] >=60)"
   ]
  },
  {
   "cell_type": "code",
   "execution_count": null,
   "id": "f1bc529f-75b2-4340-88d7-b2cb5bd468b4",
   "metadata": {},
   "outputs": [],
   "source": []
  },
  {
   "cell_type": "code",
   "execution_count": null,
   "id": "29c9d432-14f1-4b29-9e0f-b2b089e1b330",
   "metadata": {},
   "outputs": [],
   "source": []
  }
 ],
 "metadata": {
  "kernelspec": {
   "display_name": "Python 3 (ipykernel)",
   "language": "python",
   "name": "python3"
  },
  "language_info": {
   "codemirror_mode": {
    "name": "ipython",
    "version": 3
   },
   "file_extension": ".py",
   "mimetype": "text/x-python",
   "name": "python",
   "nbconvert_exporter": "python",
   "pygments_lexer": "ipython3",
   "version": "3.9.13"
  }
 },
 "nbformat": 4,
 "nbformat_minor": 5
}
