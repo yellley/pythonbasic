{
 "cells": [
  {
   "cell_type": "markdown",
   "id": "fd2a59a9-4550-4285-b95a-c8e04a1336d0",
   "metadata": {},
   "source": [
    "# 23/1/12(목요일)"
   ]
  },
  {
   "cell_type": "markdown",
   "id": "63716f7a-c3f0-40aa-9a84-8b57cfe5bfd3",
   "metadata": {},
   "source": [
    "### random "
   ]
  },
  {
   "cell_type": "code",
   "execution_count": 3,
   "id": "06fca2b4-ff99-422b-8664-74126ec39c2f",
   "metadata": {},
   "outputs": [
    {
     "name": "stdout",
     "output_type": "stream",
     "text": [
      "[2, 1, 1, 2, 1, 1, 1, 2, 1, 1]\n"
     ]
    }
   ],
   "source": [
    "#임이의 수를 생성할 때 사용\n",
    "#random.randint(시작정수, 끝정수) -> 시작/끝정수 모두 포함해줌\n",
    "\n",
    "import random\n",
    "random_list = [random.randint(1, 2) for i in range(10)]\n",
    "print(random_list)"
   ]
  },
  {
   "cell_type": "code",
   "execution_count": 98,
   "id": "7b006fbc-f492-48ad-8c3d-b34f9dc91087",
   "metadata": {},
   "outputs": [
    {
     "name": "stdin",
     "output_type": "stream",
     "text": [
      "로또 번호 몇개 드릴까요? 1\n"
     ]
    },
    {
     "name": "stdout",
     "output_type": "stream",
     "text": [
      "[3, 8, 10, 14, 36, 37]\n"
     ]
    }
   ],
   "source": [
    "#연습\n",
    "\n",
    "# #내가한거\n",
    "# box = int(input(\"로또 번호 몇개 드릴까요?\"))\n",
    "\n",
    "# lot = [random.randint(1, 45) for i in range(1, 7)]\n",
    "# #if조건은 한 리스트안에 중복X, continue도 사용하기 \n",
    "# # line = [j for j in lot]\n",
    "# if \n",
    "\n",
    "\n",
    "# # print(lot)\n",
    "\n",
    "# for j in range(box):\n",
    "#     print(lot)\n",
    "    \n",
    "# # print(lot)\n",
    "\n",
    "\n",
    "# # a = [lot for lot in range(5)]\n",
    "\n",
    "# # print(a.sort)\n",
    "    \n",
    "# # print(lot)\n",
    "\n",
    "# ##조건 : 번호 중복 안됨, 오름차순 변수.sort()\n",
    "\n",
    "\n",
    "\n",
    "\n",
    "#도움받은거\n",
    "a = int(input(\"로또 번호 몇개 드릴까요?\"))\n",
    "\n",
    "for i in range(a):\n",
    "    list_b = [] #로또 번호 담을 리스트 만들어서 새롭게 받아야해서 추가\n",
    "    # j = 0  -> 길이를 이용하는 거라서 j를 사용 할 필요 없음\n",
    "    while len(list_b) < 6: #여기서 위에 만들어준 list_b의 길이를 정해줌(여기선 길이가 6이하로)\n",
    "        num = random.randint(1, 45)\n",
    "        if num in list_b:#list_b에 num과 같은 요소가 있는지 알려줘\n",
    "            continue #continue를 사용해서 num(랜덤숫자)이조건에 부합하면 다시 num으로 돌아갈 수 있게 해주기\n",
    "        else:\n",
    "            list_b.append(num)#num이(로또 숫자가)조건에 부합하면 list_b에 추가해줘\n",
    "    list_b.sort()\n",
    "    #while문 안에 존재하면 하나가 들어올 떄 마다 정렬이 됨(틀린건 아니지만 시간면에서도 효율면에서도 별로임)        \n",
    "    #그래서 while문 밖으로 뺴서 sort()를 해줘야 숫자를 다 뽑아낸 후 한번에 정렬할 수 있음\n",
    "    print(list_b)#print가 for밖으로 나가버리면 제일 마지막 결과값만 출력이됨\n",
    "\n",
    "    \n",
    "#선생님코드\n",
    "#1)for + while\n",
    "\n",
    "#2)for + for(이게 더 번거로움)"
   ]
  },
  {
   "cell_type": "markdown",
   "id": "8f7f0bd7-c9b1-4897-a98f-505b024590a9",
   "metadata": {},
   "source": [
    "### set"
   ]
  },
  {
   "cell_type": "code",
   "execution_count": 99,
   "id": "4d4a6631-371e-4d6c-9438-360743e2a627",
   "metadata": {},
   "outputs": [
    {
     "name": "stdout",
     "output_type": "stream",
     "text": [
      "<class 'dict'>\n"
     ]
    }
   ],
   "source": [
    "#set_variable = {키1, 키2, 키3}\n",
    "\n",
    "#set()는 빈 딕셔너리 객체를 만듬\n",
    "print(type({}))\n",
    "\n",
    "#순서가 의미가 없다\n",
    "#중복되는 것이 없게 만들어줌\n",
    "\n",
    "#set_variable = {expression for 변수 in iterable if 조건식}"
   ]
  },
  {
   "cell_type": "code",
   "execution_count": 110,
   "id": "dd4bb49b-6aaa-44a0-bd65-0b97011a1006",
   "metadata": {},
   "outputs": [
    {
     "name": "stdout",
     "output_type": "stream",
     "text": [
      "set() <class 'set'>\n"
     ]
    }
   ],
   "source": [
    "#set에 값 넣는 방법\n",
    "\n",
    "set_variable = set()\n",
    "print(set_variable, type(set_variable))\n",
    "\n",
    "#정수 1 값을 set_variable에 5차례 넣습니다.\n",
    "set_variable = [set_variable.add(1) for i in range(5)]\n",
    "print(set_variable)"
   ]
  },
  {
   "cell_type": "code",
   "execution_count": 113,
   "id": "96f74594-b5e6-41bc-aeb1-09379c703127",
   "metadata": {},
   "outputs": [
    {
     "name": "stdout",
     "output_type": "stream",
     "text": [
      "{1}\n",
      "{1}\n"
     ]
    }
   ],
   "source": [
    "#set요소 삭제하기 \n",
    "#discard()\n",
    "\n",
    "print(set_variable)\n",
    "\n",
    "set_variable.discard(8)\n",
    "print(set_variable)\n",
    "\n",
    ".....\n",
    "# | : 버티컬 or 파이프"
   ]
  },
  {
   "cell_type": "code",
   "execution_count": 114,
   "id": "5f1c4ba7-1c0d-45b4-a2c8-6d6c6579e61b",
   "metadata": {},
   "outputs": [
    {
     "data": {
      "text/plain": [
       "1"
      ]
     },
     "execution_count": 114,
     "metadata": {},
     "output_type": "execute_result"
    }
   ],
   "source": [
    "#len\n",
    "\n",
    "len(set_variable)\n",
    "\n",
    "#set.intersection() -> 교집합\n",
    "#set.difference() -> 차집합\n",
    "#set.symmetric_difference() -> 대칭차집합(교집합 제외), 또는 '^'사용\n",
    "#세트자료형1.update(세트자료형2) -> '|=' 사용\n",
    "#intersection_update(세트자료형2) ->'-=' 사용\n",
    "#symmetric_difference_update() ->'^=' 사용\n",
    "#issubset() -> 부분집합\n",
    "#issuperset() -> 상위집합\n",
    "#진부분집합/진상위집합  >, < -> 이걸로 비교가능\n",
    "#isdisjoint() -> 세트가 겹치지 않는지 확인"
   ]
  },
  {
   "cell_type": "code",
   "execution_count": 1,
   "id": "ab1588cc-8a96-4227-9ca0-34cdb82f5ec6",
   "metadata": {},
   "outputs": [],
   "source": [
    "#연습 set써서 로또\n"
   ]
  },
  {
   "cell_type": "code",
   "execution_count": 11,
   "id": "d3438a0f-8640-4607-b460-bbda488c74ac",
   "metadata": {},
   "outputs": [
    {
     "name": "stdout",
     "output_type": "stream",
     "text": [
      "{75, 45, 15, 90, 60, 30}\n"
     ]
    }
   ],
   "source": [
    "#연습\n",
    "#내가한거\n",
    "\n",
    "# list_sample = [1, 2, 2, 3, 3, 3, 4, 4, 4, 4]\n",
    "# print(set(list_sample))\n",
    "\n",
    "# set_3 = []\n",
    "# set_5 = []\n",
    "# result_set = []\n",
    "\n",
    "# for i in range(1, 101):\n",
    "#     set_3 = []\n",
    "#     set_5 = []\n",
    "#     if i % set_3 == 0:\n",
    "#         print(\"\")\n",
    "#     elif i % set_5 == 0:\n",
    "#         print(\"a\")\n",
    "        \n",
    "        \n",
    "        \n",
    "#선생님코드\n",
    "set_3 = {i for i in range(1, 101) if i % 3 == 0 }\n",
    "set_5 = {i for i in range(1, 101) if i % 5 == 0 }\n",
    "result_set = set.intersection(set_3, set_5)\n",
    "print(result_set)"
   ]
  },
  {
   "cell_type": "code",
   "execution_count": 36,
   "id": "88c6afbe-ea77-4816-98c9-67e52d0d7352",
   "metadata": {},
   "outputs": [
    {
     "name": "stdout",
     "output_type": "stream",
     "text": [
      "\n",
      "회계 관리\n"
     ]
    }
   ],
   "source": [
    "#연습\n",
    "role_admin = (\"회계 관리\", \"인사 관리\", \"구매관리\", \"시스템관리\")\n",
    "role_hr = (\"인사 관리\", \"개인정보 조회\", \"회계 관리\", \"근태관리\")\n",
    "role_user = (\"개인정보 조회\", \"근태관리\")\n",
    "\n",
    "a = (role_admin + role_hr + role_user)\n",
    "a = sorted(list(set(a)))\n",
    "print() #sort는 정렬하는 동작이라 none출력, sorted는 정렬 된걸 반환되는애라 list로 출력가능\n",
    "\n",
    "for i in range(len(a)):\n",
    "    if i == len(a) - 1:\n",
    "        print(a[i])\n",
    "        \n",
    "        \n",
    "#도와준코드\n",
    "for i in range(len(a)):\n",
    "    if i == len(a) - 1: #그냥 len(a)로 해주면 6이되서 -1을 해줘야함(여기선 list길이가 5이기 때문), \n",
    "        print(a[i])\n",
    "    else:\n",
    "        print(a[i], end = ' , ') #a의 인덱스를 사용하고 ' , '를 기준으로 끊어줄거\n",
    "   \n",
    "\n",
    "\n",
    "\n",
    "#선생님코드\n",
    "menus = list(set(role_admin + role_hr + role_user))\n",
    "menus.sort()\n",
    "end_char = \", \"\n",
    "for menu in menus:\n",
    "    if menus[-1] == menu:\n",
    "        end_char = \"\"\n",
    "    print(menu, end=end_char)"
   ]
  },
  {
   "cell_type": "code",
   "execution_count": 87,
   "id": "77773592-5ad8-444e-b4c1-d9eef6757ab4",
   "metadata": {},
   "outputs": [
    {
     "ename": "SyntaxError",
     "evalue": "invalid syntax (1220833927.py, line 56)",
     "output_type": "error",
     "traceback": [
      "\u001b[1;36m  File \u001b[1;32m\"C:\\Users\\playdata\\AppData\\Local\\Temp\\ipykernel_14184\\1220833927.py\"\u001b[1;36m, line \u001b[1;32m56\u001b[0m\n\u001b[1;33m    lst = [_ for _ in range(2, get) if isPrime(_)]\u001b[0m\n\u001b[1;37m    ^\u001b[0m\n\u001b[1;31mSyntaxError\u001b[0m\u001b[1;31m:\u001b[0m invalid syntax\n"
     ]
    }
   ],
   "source": [
    "#연습\n",
    "a = int(input(\"2부터 입력하신 수까지의 모든 소수를 찾는 프로그램입니다.:\"))\n",
    "\n",
    "\n",
    "for i in range(1, a + 1):\n",
    "    # for j in range(1, i):\n",
    "        #y = []\n",
    "        if a % i == 0:\n",
    "            print(i, end =\" \")\n",
    "        \n",
    "#약수 - 0\n",
    "#약수식쓰고 길이가 2개인것만 뽑기\n",
    "#한줄에 7개씩\n",
    "\n",
    "#반복 1 : 1~100\n",
    "#반복 2 : 1\n",
    "\n",
    "\n",
    "\n",
    "#도와준코드\n",
    "for i in range(1,101): # 1~100까지 반복\n",
    "    for j in range(2, i+1):#2부터 \n",
    "        if i == j:\n",
    "            print(i, end=\" \")\n",
    "        elif (i % j == 0):\n",
    "                break\n",
    "        \n",
    "  \n",
    "\n",
    "#선생님코드\n",
    "inData = int(input(\"수입력\"))\n",
    "i = 2\n",
    "line = 0\n",
    "while i <= inData:\n",
    "    j =2\n",
    "    while j <= i:\n",
    "        if i % j == 0:\n",
    "            break\n",
    "        j += 1\n",
    "    if i == j:\n",
    "        print(i, end=\" \")\n",
    "        line = line+1\n",
    "        if line == 7:\n",
    "            line = 0\n",
    "            print()\n",
    "    i += 1\n",
    "    \n",
    "#다른사람코드\n",
    "def isPrime(num):\n",
    "    primes = [False, False] + [True]*(num-1)\n",
    "    for i in range(2, num+1):\n",
    "        if primes[i]:\n",
    "            for _ in range(i * 2, num+1, i):\n",
    "                primes[_] = False\n",
    "    return primes[num]\n",
    "get = int(input(\"찾는 범위: \")\n",
    "lst = [_ for _ in range(2, get) if isPrime(_)]\n",
    "count = 0\n",
    "for _ in lst:\n",
    "    count+=1\n",
    "    print(_,end=” “)\n",
    "    if count%7 == 0:\n",
    "        print()"
   ]
  },
  {
   "cell_type": "markdown",
   "id": "80dc6557-e1ca-46c4-8dff-fd2a31588a90",
   "metadata": {},
   "source": [
    "### 함수def"
   ]
  },
  {
   "cell_type": "code",
   "execution_count": 92,
   "id": "44065870-bb4f-4e22-ae64-7d86d6b69336",
   "metadata": {},
   "outputs": [
    {
     "name": "stdout",
     "output_type": "stream",
     "text": [
      "<function function_name at 0x000001E015979430>\n"
     ]
    }
   ],
   "source": [
    "##메인코드(호출부)\n",
    "#x = 함수명(인수(argument),인수...)\n",
    "#print(\"결과값:\", x)\n",
    "\n",
    "##함수 정의부\n",
    "#  def 함수명-snake_case로 지음(인자(parameter), 인자...)\n",
    "#      함수코드...\n",
    "#      return 반환값\n",
    "\n",
    "#순서(정의 -> 호출\n",
    "#정의된 부분이 먼저 실행 된 후 메인코드로 넘어감 \n",
    "#인수값을 인자값에 넣어주면 함수를 호출하고 호출 후 정의부 반환값(return)을 메인코드 x가 받는거임 (인수는 주는거 인자는 받는거)\n",
    "\n",
    "def function_name(message):\n",
    "    x = input(message)\n",
    "    print(x)\n",
    "    \n",
    "print(function_name)"
   ]
  },
  {
   "cell_type": "code",
   "execution_count": 94,
   "id": "c67e9973-12f6-48f4-864a-e6e524bbefc2",
   "metadata": {},
   "outputs": [
    {
     "name": "stdout",
     "output_type": "stream",
     "text": [
      "\n",
      "    Docs String 부분임\n",
      "    이곳에 함수의 설명에 대해 적으면 좋음.\n",
      "    \n"
     ]
    }
   ],
   "source": [
    "#Doc String출력력\n",
    "def function2():\n",
    "    \"\"\"\n",
    "    Docs String 부분임\n",
    "    이곳에 함수의 설명에 대해 적으면 좋음.\n",
    "    \"\"\"\n",
    "    pass\n",
    "print(function2.__doc__)"
   ]
  },
  {
   "cell_type": "code",
   "execution_count": 95,
   "id": "60f701d3-5d7d-424f-bb31-4c777e89e6ad",
   "metadata": {},
   "outputs": [
    {
     "name": "stdout",
     "output_type": "stream",
     "text": [
      "Built-in mutable sequence.\n",
      "\n",
      "If no argument is given, the constructor creates a new empty list.\n",
      "The argument must be an iterable if specified.\n"
     ]
    }
   ],
   "source": [
    "print(list.__doc__)"
   ]
  },
  {
   "cell_type": "code",
   "execution_count": 97,
   "id": "e23cc83c-214a-4e18-90fc-c995fe39e23f",
   "metadata": {},
   "outputs": [],
   "source": [
    "#함수정의절\n",
    "def function_name(positional, positional2, *args, keyword = 1, **kargs):# *args는 print(\"1\", \"2\", \"3\")을 출력하는 것처럼\n",
    "    pass # body 내용 적는 칸\n"
   ]
  },
  {
   "cell_type": "code",
   "execution_count": 106,
   "id": "5ca1cf2b-7159-475a-88ba-c7be4ace0df6",
   "metadata": {},
   "outputs": [
    {
     "name": "stdout",
     "output_type": "stream",
     "text": [
      "A\n",
      "\n",
      "    숫자로된 점수를 넣으시면 \n",
      "    학점의 결과가 반환됩니다.\n",
      "    \n"
     ]
    }
   ],
   "source": [
    "def get_grade(score): #score = x(미지수)의 x에 값을 부여하면 밑에 100처럼 점수를 부여할 수 있음\n",
    "    \"\"\"\n",
    "    숫자로된 점수를 넣으시면 \n",
    "    학점의 결과가 반환됩니다.\n",
    "    \"\"\"\n",
    "    if 85 <= score <= 100:\n",
    "        return \"A\"\n",
    "    elif 70 <= score <= 84:\n",
    "        return \"B\"\n",
    "    elif 55 <= score <= 69:\n",
    "        return \"C\"\n",
    "    elif 40 <= score <= 54:\n",
    "        return \"D\"\n",
    "    elif 0 <= score <= 39:\n",
    "        return \"E\"\n",
    "\n",
    "\n",
    "result = get_grade(100)#()안에는 값을 넣어주면 출력됨, get_grade를 해주면 함수를 찾기 시작\n",
    "print(result)\n",
    "print(get_grade.__doc__)"
   ]
  },
  {
   "cell_type": "code",
   "execution_count": 102,
   "id": "56f274dd-241b-48e3-81d1-0bfa4c5a93fd",
   "metadata": {},
   "outputs": [
    {
     "name": "stdout",
     "output_type": "stream",
     "text": [
      "[62, 58, 40, 51, 44, 86, 73, 27, 41, 70, 27, 70, 76, 57, 35, 68, 59, 49, 50, 75]\n"
     ]
    }
   ],
   "source": [
    "import random\n",
    "#20명의 점수를 시스템에 입력했다.라고 가정\n",
    "scores = [random.randint(1, 100) for i in range(20)]#값을 스코어스에 할당\n",
    "print(scores)\n",
    "\n",
    "\n",
    "#함수를 시퀀스 안에 \n",
    "#list(map(int, [\"1\", \"2\"]))\n",
    "\n",
    "\n",
    "grades = list(map(get_grade, scores))\n",
    "print(grades)"
   ]
  },
  {
   "cell_type": "code",
   "execution_count": 112,
   "id": "13c7beec-08b2-45c7-bc78-1210f3a4a295",
   "metadata": {},
   "outputs": [
    {
     "name": "stdout",
     "output_type": "stream",
     "text": [
      "18,엘의 성적을 확인합니다.\n"
     ]
    },
    {
     "data": {
      "text/plain": [
       "'A'"
      ]
     },
     "execution_count": 112,
     "metadata": {},
     "output_type": "execute_result"
    }
   ],
   "source": [
    "#위 예제에서 또 추가할 내용이 생겼어요!! 할때\n",
    "def get_grade(score, name, stu_num): #score = x(미지수)의 x에 값을 부여하면 밑에 100처럼 점수를 부여할 수 있음\n",
    "    \"\"\"\n",
    "    숫자로된 점수를 넣으시면 \n",
    "    학점의 결과가 반환됩니다.\n",
    "    \"\"\"\n",
    "    print(f\"{stu_num},{name}의 성적을 확인합니다.\")\n",
    "    if 85 <= score <= 100:\n",
    "        return \"A\"\n",
    "    elif 70 <= score <= 84:\n",
    "        return \"B\"\n",
    "    elif 55 <= score <= 69:\n",
    "        return \"C\"\n",
    "    elif 40 <= score <= 54:\n",
    "        return \"D\"\n",
    "    elif 0 <= score <= 39:\n",
    "        return \"E\"\n",
    "    \n",
    "get_grade(100, \"엘\", \"18\")"
   ]
  },
  {
   "cell_type": "code",
   "execution_count": 114,
   "id": "08726e98-b992-4907-9637-c89da21b7372",
   "metadata": {},
   "outputs": [
    {
     "ename": "SyntaxError",
     "evalue": "non-default argument follows default argument (2480673684.py, line 1)",
     "output_type": "error",
     "traceback": [
      "\u001b[1;36m  File \u001b[1;32m\"C:\\Users\\playdata\\AppData\\Local\\Temp\\ipykernel_14184\\2480673684.py\"\u001b[1;36m, line \u001b[1;32m1\u001b[0m\n\u001b[1;33m    def get_grade(score, nam = \"홍길동\", stu_num): #score = x(미지수)의 x에 값을 부여하면 밑에 100처럼 점수를 부여할 수 있음\u001b[0m\n\u001b[1;37m                                             ^\u001b[0m\n\u001b[1;31mSyntaxError\u001b[0m\u001b[1;31m:\u001b[0m non-default argument follows default argument\n"
     ]
    }
   ],
   "source": [
    "def get_grade(score, name = \"홍길동\", stu_num): #score = x(미지수)의 x에 값을 부여하면 밑에 100처럼 점수를 부여할 수 있음\n",
    "    \"\"\"\n",
    "    숫자로된 점수를 넣으시면 \n",
    "    학점의 결과가 반환됩니다.\n",
    "    \"\"\"\n",
    "    print(f\"{stu_num},{name}의 성적을 확인합니다.\")\n",
    "    if 85 <= score <= 100:\n",
    "        return \"A\"\n",
    "    elif 70 <= score <= 84:\n",
    "        return \"B\"\n",
    "    elif 55 <= score <= 69:\n",
    "        return \"C\"\n",
    "    elif 40 <= score <= 54:\n",
    "        return \"D\"\n",
    "    elif 0 <= score <= 39:\n",
    "        return \"E\"\n",
    "    \n",
    "#get_grade(\"엘\", 100, \"18\")"
   ]
  },
  {
   "cell_type": "code",
   "execution_count": 121,
   "id": "8d0711fe-cffd-4409-8773-3010c8377e3b",
   "metadata": {},
   "outputs": [
    {
     "name": "stdout",
     "output_type": "stream",
     "text": [
      "18,ㅇ의 성적을 확인합니다.\n",
      "16,r의 성적을 확인합니다.\n"
     ]
    },
    {
     "data": {
      "text/plain": [
       "'A'"
      ]
     },
     "execution_count": 121,
     "metadata": {},
     "output_type": "execute_result"
    }
   ],
   "source": [
    "def get_grade(score, stu_num,  name = \"홍길동\"): #이렇게 여러 변수 중 값이 하나만 들어갈땐 맨뒤로 옮겨줘야함\n",
    "    \"\"\"\n",
    "    숫자로된 점수를 넣으시면 \n",
    "    학점의 결과가 반환됩니다.\n",
    "    \"\"\"\n",
    "    print(f\"{stu_num},{name}의 성적을 확인합니다.\")\n",
    "    if 85 <= score <= 100:\n",
    "        return \"A\"\n",
    "    elif 70 <= score <= 84:\n",
    "        return \"B\"\n",
    "    elif 55 <= score <= 69:\n",
    "        return \"C\"\n",
    "    elif 40 <= score <= 54:\n",
    "        return \"D\"\n",
    "    elif 0 <= score <= 39:\n",
    "        return \"E\"\n",
    "    \n",
    "\n",
    "#함수호출\n",
    "#인수(arg)\n",
    "get_grade( 100, \"18\", \"ㅇ\") #위에 이름 지정해서 밑에 출력할 떈 안써도됨, 이름 바꾸고 싶으면 위에 순서대로 변수 다시 배열해주기\n",
    "get_grade(score = 100, stu_num = \"16\", name = \"r\") #키워드같은 애들이 뒤로 와야함"
   ]
  },
  {
   "cell_type": "code",
   "execution_count": 124,
   "id": "d2c177f5-2c35-47dc-9744-a4d556ec43e2",
   "metadata": {},
   "outputs": [
    {
     "name": "stdout",
     "output_type": "stream",
     "text": [
      "\n",
      "    숫자 num1과 숫자 num2를 전달 받아 더한 결과를 반환\n",
      "    \n",
      "5\n"
     ]
    }
   ],
   "source": [
    "#함수 정의절\n",
    "#인자(매개변수, parameter) - non-default, default 종류\n",
    "#positional-only : /문자를 기준으로 왼편에 온다.\n",
    "def add_num(num1, /, num2):\n",
    "    \"\"\"\n",
    "    숫자 num1과 숫자 num2를 전달 받아 더한 결과를 반환\n",
    "    \"\"\"\n",
    "    return num1 + num2\n",
    "\n",
    "print(add_num.__doc__)\n",
    "#인수(arg) - positional argument, keyword argument\n",
    "result = add_num(2, 3)#소괄호 -> call\n",
    "print(result)\n",
    "\n",
    "#이게 다른게 위에서 값을 지정해주냐 아니면 맨 끝에 지정해주냐의 차이라고 봐도됨"
   ]
  },
  {
   "cell_type": "code",
   "execution_count": 127,
   "id": "bfb71dd9-3bed-48b4-9f55-978213ae0bd5",
   "metadata": {},
   "outputs": [
    {
     "ename": "NameError",
     "evalue": "name 'multi_num' is not defined",
     "output_type": "error",
     "traceback": [
      "\u001b[1;31m---------------------------------------------------------------------------\u001b[0m",
      "\u001b[1;31mNameError\u001b[0m                                 Traceback (most recent call last)",
      "\u001b[1;32m~\\AppData\\Local\\Temp\\ipykernel_14184\\1369920444.py\u001b[0m in \u001b[0;36m<module>\u001b[1;34m\u001b[0m\n\u001b[0;32m      1\u001b[0m \u001b[1;31m#함수호출(call)\u001b[0m\u001b[1;33m\u001b[0m\u001b[1;33m\u001b[0m\u001b[0m\n\u001b[0;32m      2\u001b[0m \u001b[1;31m#인수(arg) -positional argument, keywork argument\u001b[0m\u001b[1;33m\u001b[0m\u001b[1;33m\u001b[0m\u001b[0m\n\u001b[1;32m----> 3\u001b[1;33m \u001b[0mmulti_num\u001b[0m\u001b[1;33m(\u001b[0m\u001b[0mnum1\u001b[0m \u001b[1;33m=\u001b[0m\u001b[1;36m20\u001b[0m\u001b[1;33m,\u001b[0m \u001b[0mnum2\u001b[0m \u001b[1;33m=\u001b[0m \u001b[1;36m5\u001b[0m\u001b[1;33m)\u001b[0m\u001b[1;33m\u001b[0m\u001b[1;33m\u001b[0m\u001b[0m\n\u001b[0m\u001b[0;32m      4\u001b[0m \u001b[1;33m\u001b[0m\u001b[0m\n\u001b[0;32m      5\u001b[0m \u001b[1;31m#함수 정의절\u001b[0m\u001b[1;33m\u001b[0m\u001b[1;33m\u001b[0m\u001b[0m\n",
      "\u001b[1;31mNameError\u001b[0m: name 'multi_num' is not defined"
     ]
    }
   ],
   "source": [
    "#함수호출(call)\n",
    "#인수(arg) -positional argument, keywork argument\n",
    "multi_num(num1 =20, num2 = 5)\n",
    "\n",
    "#함수 정의절\n",
    "#인자(매개변수, parameter) - non-default, default 종류\n",
    "#positional-only : /문자를 기준으로 왼편에 온다.\n",
    "#keyword-only: *문자를 기준으로 왼편에 온다.\n",
    "\n",
    "def multi_num(num1,  /, *, number2):\n",
    "    \"\"\"\n",
    "       숫자 num1과 숫자 num2를 전달 받아 더한 결과를 반환\n",
    "       \n",
    "    \"\"\"\n",
    "    return num1 * num2\n",
    "\n",
    "multi_num(3, num2 = 10)\n",
    "\n",
    "\n",
    "\n",
    "#앤 다시해봐야하는데 이미 예제가 없음"
   ]
  },
  {
   "cell_type": "code",
   "execution_count": 130,
   "id": "fceb0a92-5246-48be-a4bf-0eaee8ffa20c",
   "metadata": {},
   "outputs": [
    {
     "name": "stdout",
     "output_type": "stream",
     "text": [
      "************************구분************************\n"
     ]
    }
   ],
   "source": [
    "def string_line(str_value, / , str_len, *, sep = \"#\"):\n",
    "    \"\"\"\n",
    "    str_value는 가운데 오는 텍스트\n",
    "    str_len은 텍스트의 설정할 길이\n",
    "    sep는 구분선을 그을 때 쓰는 문자\n",
    "    \"\"\"\n",
    "    print(str_value.center(str_len, sep))\n",
    "    \n",
    "string_line(\"구분\", 50, sep = \"*\")"
   ]
  },
  {
   "cell_type": "code",
   "execution_count": 131,
   "id": "4088edd9-593e-4acc-b898-6bd61dafe165",
   "metadata": {},
   "outputs": [
    {
     "data": {
      "text/plain": [
       "50"
      ]
     },
     "execution_count": 131,
     "metadata": {},
     "output_type": "execute_result"
    }
   ],
   "source": [
    "len(\"************************구분************************\")"
   ]
  },
  {
   "cell_type": "code",
   "execution_count": 133,
   "id": "7aeb35cb-1ca9-4a68-aa27-f43aa7c7df25",
   "metadata": {},
   "outputs": [
    {
     "name": "stdout",
     "output_type": "stream",
     "text": [
      "------------------------------------------------절취선-------------------------------------------------\n"
     ]
    }
   ],
   "source": [
    "string_line(\"절취선\", str_len = 100, sep = \"-\")"
   ]
  },
  {
   "cell_type": "code",
   "execution_count": 136,
   "id": "e2ba59fd-de55-45ae-86fc-2f1314af993d",
   "metadata": {},
   "outputs": [
    {
     "name": "stdout",
     "output_type": "stream",
     "text": [
      "1 1 1 1\n",
      "a:a 위치입니다., b:b위치입니다., c:c위치입니다,\n",
      "<class 'tuple'>\n",
      "('여기는', '어딜까요')\n"
     ]
    }
   ],
   "source": [
    "print(\"1\", \"1\", \"1\", \"1\") #프린트문에선 잘 출력이 되고있음\n",
    "\n",
    "\n",
    "#*args : var positional 가변위치\n",
    "def test_f(a, b, c, *args): #args위치는 맨뒤\n",
    "    print(f\"a:{a}, b:{b}, c:{c}\")\n",
    "    print(type(args))\n",
    "    print(args) #초과해서 준 가변위치 인수들을 튜플로 받게 해줌 밑에 꺼랑 같이보기\n",
    "\n",
    "test_f(\"a 위치입니다.\", \"b위치입니다.\", \"c위치입니다,\", \"여기는\", \"어딜까요\")"
   ]
  },
  {
   "cell_type": "code",
   "execution_count": 140,
   "id": "885c32ac-d4bf-4533-b45a-cb2ee7a0bad6",
   "metadata": {},
   "outputs": [
    {
     "name": "stdout",
     "output_type": "stream",
     "text": [
      "ab bc\n",
      "<class 'dict'>\n",
      "{'key': 'value', 'key2': 'value2'}\n"
     ]
    }
   ],
   "source": [
    "#**kargs : var keyword 가변 키워드\n",
    "\n",
    "def test_f2(a = \"a\", b = \"b\", c = \"c\", **kargs): #args위치는 맨뒤\n",
    "    print(a, b)\n",
    "    print(type(kargs))\n",
    "    print(kargs) #초과해서 준 가변위치 인수들을 튜플로 받게 해줌 밑에 꺼랑 같이보기\n",
    "\n",
    "    \n",
    "test_f2(a=\"ab\", b = \"bc\", key = \"value\", key2 = \"value2\") #key, key2가 초과되서 받고있음 -> **kargs가, 키들이 스트링으로 바뀌어서 출력됨"
   ]
  },
  {
   "cell_type": "code",
   "execution_count": 144,
   "id": "679528ac-06b2-4252-bb6f-b2ea179b1012",
   "metadata": {},
   "outputs": [
    {
     "name": "stdout",
     "output_type": "stream",
     "text": [
      "파이썬씨 안녕하세요, 약 12053.25일 되었습니다.\n"
     ]
    }
   ],
   "source": [
    "#Paramenters는 함수 정의절에서 사용하는 이름\n",
    "#Argumentns는 함수 호출 시 함수에 전달하는 실제값\n",
    "# = Parameters는 어떤 종류의 Arguments를 받을 지 정의함\n",
    "\n",
    "#함수정의 \n",
    "def greeting(name, age):\n",
    "    print(f\"{name}씨 안녕하세요, 약 {age*365.25}일 되었습니다.\")\n",
    "\n",
    "#함수호출\n",
    "greeting(\"파이썬\", 33) #위 name, age순서에 맞게 써줘야함(여가선 계산식이 있어서 에러가 남)"
   ]
  },
  {
   "cell_type": "markdown",
   "id": "91ca8d23-921f-4e51-87e5-7063cd0307a5",
   "metadata": {},
   "source": [
    "###  ########이거 전부다 다시 정리하고 이해해야함#########"
   ]
  },
  {
   "cell_type": "code",
   "execution_count": 147,
   "id": "fd418d89-37fd-433f-b5fd-1f457da0028c",
   "metadata": {},
   "outputs": [
    {
     "data": {
      "text/plain": [
       "80"
      ]
     },
     "execution_count": 147,
     "metadata": {},
     "output_type": "execute_result"
    }
   ],
   "source": [
    "def plus_ten(a):\n",
    "    return a + 10\n",
    "\n",
    "plus_ten(70)\n",
    "    \n",
    "    "
   ]
  },
  {
   "cell_type": "code",
   "execution_count": null,
   "id": "b3b3e309-6d50-4cc7-8a4d-9e2d79fd5e8a",
   "metadata": {},
   "outputs": [],
   "source": []
  }
 ],
 "metadata": {
  "kernelspec": {
   "display_name": "Python 3 (ipykernel)",
   "language": "python",
   "name": "python3"
  },
  "language_info": {
   "codemirror_mode": {
    "name": "ipython",
    "version": 3
   },
   "file_extension": ".py",
   "mimetype": "text/x-python",
   "name": "python",
   "nbconvert_exporter": "python",
   "pygments_lexer": "ipython3",
   "version": "3.9.13"
  }
 },
 "nbformat": 4,
 "nbformat_minor": 5
}
