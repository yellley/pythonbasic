{
 "cells": [
  {
   "cell_type": "code",
   "execution_count": 1,
   "id": "f65110e3-92d5-4306-a437-c4a60b0308b0",
   "metadata": {},
   "outputs": [
    {
     "name": "stdout",
     "output_type": "stream",
     "text": [
      "3.9.13 (main, Aug 25 2022, 23:51:50) [MSC v.1916 64 bit (AMD64)]\n"
     ]
    }
   ],
   "source": [
    "import sys\n",
    "print(sys.version)"
   ]
  },
  {
   "cell_type": "code",
   "execution_count": 2,
   "id": "5f63d819-ae49-43a9-9811-30d77f7bce97",
   "metadata": {},
   "outputs": [
    {
     "name": "stdout",
     "output_type": "stream",
     "text": [
      " C 드라이브의 볼륨에는 이름이 없습니다.\n",
      " 볼륨 일련 번호: 7687-AB5B\n",
      "\n",
      " C:\\python 디렉터리\n",
      "\n",
      "2023-01-04  오전 10:15    <DIR>          .\n",
      "2023-01-04  오전 10:15    <DIR>          ..\n",
      "2023-01-04  오전 10:15    <DIR>          .ipynb_checkpoints\n",
      "2023-01-04  오전 10:14                72 01python.ipynb\n",
      "               1개 파일                  72 바이트\n",
      "               3개 디렉터리  176,548,872,192 바이트 남음\n"
     ]
    }
   ],
   "source": [
    "!dir"
   ]
  },
  {
   "cell_type": "code",
   "execution_count": null,
   "id": "0f7adcb2-a87c-425c-abcc-cb9084d450c0",
   "metadata": {},
   "outputs": [],
   "source": []
  }
 ],
 "metadata": {
  "kernelspec": {
   "display_name": "Python 3 (ipykernel)",
   "language": "python",
   "name": "python3"
  },
  "language_info": {
   "codemirror_mode": {
    "name": "ipython",
    "version": 3
   },
   "file_extension": ".py",
   "mimetype": "text/x-python",
   "name": "python",
   "nbconvert_exporter": "python",
   "pygments_lexer": "ipython3",
   "version": "3.9.13"
  }
 },
 "nbformat": 4,
 "nbformat_minor": 5
}
