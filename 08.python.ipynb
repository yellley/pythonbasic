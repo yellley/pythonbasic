{
 "cells": [
  {
   "cell_type": "code",
   "execution_count": 1,
   "id": "29760a0c-0c60-493f-85d3-913a57feda0d",
   "metadata": {},
   "outputs": [
    {
     "name": "stdout",
     "output_type": "stream",
     "text": [
      "list_strs = ['a', 'b', 'c', 'd', 'e', 'f', 'g', 'h', 'i', 'j', 'k', 'l', 'm', 'n', 'o', 'p', 'q', 'r', 's', 't', 'u', 'v', 'w', 'x', 'y', 'z']\n",
      "\n",
      "whole_str = a*b*c*d*e*f*g*h*i*j*k*l*m*n*o*p*q*r*s*t*u*v*w*x*y*z\n"
     ]
    }
   ],
   "source": [
    "list_strs = [i for i in \"abcdefghijklmnopqrstuvwxyz\"]\n",
    "print(f\"list_strs = {list_strs}\")\n",
    "\n",
    "#str.goin(list)\n",
    "#str 요소들로 이뤄진 list를 합려 하나의 문자열로 만듭니다.\n",
    "whole_str = \"*\".join(list_strs)\n",
    "print(f\"\\nwhole_str = {whole_str}\")"
   ]
  },
  {
   "cell_type": "code",
   "execution_count": 12,
   "id": "74591518-e101-4d48-b528-48d77d9a5b64",
   "metadata": {},
   "outputs": [
    {
     "name": "stdout",
     "output_type": "stream",
     "text": [
      "[52]\n"
     ]
    },
    {
     "name": "stdin",
     "output_type": "stream",
     "text": [
      "숫자맞추기: 55\n"
     ]
    },
    {
     "ename": "TypeError",
     "evalue": "'>' not supported between instances of 'list' and 'int'",
     "output_type": "error",
     "traceback": [
      "\u001b[1;31m---------------------------------------------------------------------------\u001b[0m",
      "\u001b[1;31mTypeError\u001b[0m                                 Traceback (most recent call last)",
      "\u001b[1;32m~\\AppData\\Local\\Temp\\ipykernel_1096\\404610367.py\u001b[0m in \u001b[0;36m<module>\u001b[1;34m\u001b[0m\n\u001b[0;32m     13\u001b[0m         \u001b[0mprint\u001b[0m\u001b[1;33m(\u001b[0m\u001b[1;34m\"맞췄습니다.\"\u001b[0m\u001b[1;33m)\u001b[0m\u001b[1;33m\u001b[0m\u001b[1;33m\u001b[0m\u001b[0m\n\u001b[0;32m     14\u001b[0m         \u001b[1;32mbreak\u001b[0m\u001b[1;33m\u001b[0m\u001b[1;33m\u001b[0m\u001b[0m\n\u001b[1;32m---> 15\u001b[1;33m     \u001b[1;32melif\u001b[0m \u001b[0ma\u001b[0m \u001b[1;33m>\u001b[0m \u001b[0mb\u001b[0m\u001b[1;33m:\u001b[0m\u001b[1;33m\u001b[0m\u001b[1;33m\u001b[0m\u001b[0m\n\u001b[0m\u001b[0;32m     16\u001b[0m         \u001b[0mprint\u001b[0m\u001b[1;33m(\u001b[0m\u001b[1;34m\"그보다 크다.\"\u001b[0m\u001b[1;33m)\u001b[0m\u001b[1;33m\u001b[0m\u001b[1;33m\u001b[0m\u001b[0m\n\u001b[0;32m     17\u001b[0m     \u001b[1;32melif\u001b[0m \u001b[0ma\u001b[0m \u001b[1;33m<\u001b[0m \u001b[0mb\u001b[0m\u001b[1;33m:\u001b[0m\u001b[1;33m\u001b[0m\u001b[1;33m\u001b[0m\u001b[0m\n",
      "\u001b[1;31mTypeError\u001b[0m: '>' not supported between instances of 'list' and 'int'"
     ]
    }
   ],
   "source": [
    "#2- 무한루프\n",
    "import random\n",
    "a = [random.randint(1, 100)]\n",
    "print(a)\n",
    "#continue는 조건이 참이면 다시 돌아감\n",
    "\n",
    "list_box = []\n",
    "\n",
    "while True: # continue, break 사용하기 #True면 무한반복\n",
    "    b = int(input(\"숫자맞추기:\"))\n",
    "    list_box.append(b)\n",
    "    if a == b:\n",
    "        print(\"맞췄습니다.\")\n",
    "        break\n",
    "    elif a > b:\n",
    "        print(\"그보다 크다.\")\n",
    "    elif a < b:\n",
    "        print(\"그보다 작다.\")\n",
    "    elif a > 100 or a < 0:\n",
    "        print(\"1 ~ 100사이 숫자를 입력하세요.\")\n",
    "        \n",
    "        \n",
    "\n",
    "#################################################마무리해야함#####################################################\n",
    "    \n",
    "    \n",
    "        \n",
    "# 1. 틀리면 다시 돌아가게\n",
    "# 2. 몇번에 맞췄는지 출력->인덱스로 접근(+1)?\n",
    "# 3. \"입력한 숫자 :\"전부  str.join(list)활용해서 \n",
    "# 4. 입력한 숫자 하나씩 저장해 두려면 리스트 새로 하나 만들고 list.append()사용, list.insert(자리번호, 숫자)사용        \n"
   ]
  },
  {
   "cell_type": "code",
   "execution_count": 22,
   "id": "dfafc40b-7df4-4ebf-b928-997ace742cd6",
   "metadata": {},
   "outputs": [
    {
     "ename": "SyntaxError",
     "evalue": "invalid syntax (4243601987.py, line 54)",
     "output_type": "error",
     "traceback": [
      "\u001b[1;36m  File \u001b[1;32m\"C:\\Users\\playdata\\AppData\\Local\\Temp\\ipykernel_1096\\4243601987.py\"\u001b[1;36m, line \u001b[1;32m54\u001b[0m\n\u001b[1;33m    function_name5(key1 = \"value1\", key2 = \"value2\", key3 = \"value3\")\u001b[0m\n\u001b[1;37m    ^\u001b[0m\n\u001b[1;31mSyntaxError\u001b[0m\u001b[1;31m:\u001b[0m invalid syntax\n"
     ]
    }
   ],
   "source": [
    "#함수정의절\n",
    "\n",
    "# def function_name(param1, param2 ->포지션전용, / , poskey1, poskey2->둘다가능, * , keyonly1, keyonly2 -> 키워드전용):\n",
    "#     \"\"\"\n",
    "#     DOCS\n",
    "#     \"\"\"\n",
    "#     pass#오류안나게\n",
    "\n",
    "# function_name(\" \", param2)\n",
    "\n",
    "\n",
    "\n",
    "#ARGument\n",
    "#1)\n",
    "def function_name2(*args):\n",
    "    print(type(args))\n",
    "    for arg in args:\n",
    "        print(arg)\n",
    "        \n",
    "function_name2(\"args\",\"는\", \"가변 위치\", \"인수입니다.\") #이 문자열이 튜플로 *args에 들어간다고 보기\n",
    "\n",
    "\n",
    "\n",
    "#2)\n",
    "def function_name3(param1, param2, *args): #*args에 값이 없어도 오류는 나지 않음\n",
    "    print(param1)\n",
    "    print(param2)\n",
    "    \n",
    "    print(type(args))\n",
    "    for arg in args:\n",
    "        print(arg)\n",
    "        \n",
    "function_name3(\"args\",\"는\", \"가변 위치\", \"인수입니다.\")#앞에 두개의 문자열은 param1,2에 들어가고 나머지 두개는 *args에 들어감\n",
    "\n",
    "\n",
    "\n",
    "#가변 키워드 인자 Keyword ARGument\n",
    "#1)\n",
    "def function_name4(**kargs): #딕셔너리로 받음\n",
    "    print(type(kargs))\n",
    "    print(kargs) #다른방법 : print(kargs[\"key\"])\n",
    "\n",
    "function_name4(key1 = \"value1\", key2 = \"value2\", key3 = \"value3\")\n",
    "\n",
    "\n",
    "#1)-1\n",
    "def function_name5(key, key2, **kargs): #딕셔너리로 받음\n",
    "    print(key)\n",
    "    print(key2)\n",
    "    print(type(kargs))\n",
    "    print(kargs) #다른방법 : print(kargs[\"key\"])\n",
    "    print(kargs[\"key3\"]\n",
    "          \n",
    "          \n",
    "function_name5(key1 = \"value1\", key2 = \"value2\", key3 = \"value3\")"
   ]
  },
  {
   "cell_type": "code",
   "execution_count": 13,
   "id": "ad450bbd-19db-4c11-aa2c-1578484ca588",
   "metadata": {},
   "outputs": [
    {
     "name": "stdout",
     "output_type": "stream",
     "text": [
      "0 1 2 3\n"
     ]
    }
   ],
   "source": [
    "#unpacking\n",
    "#시퀀스 자료형의 개수만큼 좌측에 변수 맞춰줘서 한번 할당\n",
    "\n",
    "a, b, c, d = [i for i in range(4)] #range를 통해 변수만듬\n",
    "\n",
    "print(a, b, c, d)."
   ]
  },
  {
   "cell_type": "code",
   "execution_count": 34,
   "id": "f264c3ec-9266-4b24-9a8c-66a0d008158e",
   "metadata": {},
   "outputs": [
    {
     "name": "stdout",
     "output_type": "stream",
     "text": [
      "21.11111111111111\n"
     ]
    }
   ],
   "source": [
    "#연습\n",
    "#화씨(인수로하고),섭씨(리턴)\n",
    "\n",
    "\n",
    "# tahrenheit  : 화씨온도\n",
    "#tahrengieit = 60\n",
    "\n",
    "def to_celsius(fahrenheit):\n",
    "    return (fahrenheit - 32) * 5/9\n",
    "    \n",
    "print(to_celsius(70))    \n",
    " \n",
    "\n",
    "# print(\"반환값 : \" , to_celsius )"
   ]
  },
  {
   "cell_type": "code",
   "execution_count": 84,
   "id": "2e560ee6-5836-45c8-96c0-863c31147bd4",
   "metadata": {},
   "outputs": [
    {
     "name": "stdout",
     "output_type": "stream",
     "text": [
      " num이 짝수면 \"짝수\", 홀수면 \"홀수\" 출력하기 \n",
      "None\n",
      "짝수\n",
      "홀수\n"
     ]
    },
    {
     "ename": "TypeError",
     "evalue": "'>' not supported between instances of 'int' and 'str'",
     "output_type": "error",
     "traceback": [
      "\u001b[1;31m---------------------------------------------------------------------------\u001b[0m",
      "\u001b[1;31mTypeError\u001b[0m                                 Traceback (most recent call last)",
      "\u001b[1;32m~\\AppData\\Local\\Temp\\ipykernel_1096\\2581197918.py\u001b[0m in \u001b[0;36m<module>\u001b[1;34m\u001b[0m\n\u001b[0;32m     21\u001b[0m \u001b[0mprint\u001b[0m\u001b[1;33m(\u001b[0m\u001b[0modd_even\u001b[0m\u001b[1;33m(\u001b[0m\u001b[1;36m10\u001b[0m\u001b[1;33m)\u001b[0m\u001b[1;33m)\u001b[0m\u001b[1;33m\u001b[0m\u001b[1;33m\u001b[0m\u001b[0m\n\u001b[0;32m     22\u001b[0m \u001b[0mprint\u001b[0m\u001b[1;33m(\u001b[0m\u001b[0modd_even\u001b[0m\u001b[1;33m(\u001b[0m\u001b[1;36m9\u001b[0m\u001b[1;33m)\u001b[0m\u001b[1;33m)\u001b[0m\u001b[1;33m\u001b[0m\u001b[1;33m\u001b[0m\u001b[0m\n\u001b[1;32m---> 23\u001b[1;33m \u001b[0mprint\u001b[0m\u001b[1;33m(\u001b[0m\u001b[0modd_even\u001b[0m\u001b[1;33m(\u001b[0m\u001b[1;34m\"가\"\u001b[0m\u001b[1;33m)\u001b[0m\u001b[1;33m)\u001b[0m\u001b[1;33m\u001b[0m\u001b[1;33m\u001b[0m\u001b[0m\n\u001b[0m",
      "\u001b[1;32m~\\AppData\\Local\\Temp\\ipykernel_1096\\2581197918.py\u001b[0m in \u001b[0;36modd_even\u001b[1;34m(num)\u001b[0m\n\u001b[0;32m      7\u001b[0m \u001b[1;32mdef\u001b[0m \u001b[0modd_even\u001b[0m\u001b[1;33m(\u001b[0m\u001b[0mnum\u001b[0m\u001b[1;33m)\u001b[0m\u001b[1;33m:\u001b[0m\u001b[1;33m\u001b[0m\u001b[1;33m\u001b[0m\u001b[0m\n\u001b[0;32m      8\u001b[0m     \u001b[1;34m\"\"\" num이 짝수면 \"짝수\", 홀수면 \"홀수\" 출력하기 \"\"\"\u001b[0m\u001b[1;33m\u001b[0m\u001b[1;33m\u001b[0m\u001b[0m\n\u001b[1;32m----> 9\u001b[1;33m     \u001b[1;32mif\u001b[0m \u001b[1;36m0\u001b[0m \u001b[1;33m>\u001b[0m \u001b[0mnum\u001b[0m\u001b[1;33m:\u001b[0m\u001b[1;33m\u001b[0m\u001b[1;33m\u001b[0m\u001b[0m\n\u001b[0m\u001b[0;32m     10\u001b[0m         \u001b[1;32mreturn\u001b[0m\u001b[1;33m\u001b[0m\u001b[1;33m\u001b[0m\u001b[0m\n\u001b[0;32m     11\u001b[0m     \u001b[1;32melif\u001b[0m \u001b[0mnum\u001b[0m \u001b[1;33m%\u001b[0m \u001b[1;36m2\u001b[0m \u001b[1;33m==\u001b[0m \u001b[1;36m0\u001b[0m \u001b[1;33m:\u001b[0m\u001b[1;33m\u001b[0m\u001b[1;33m\u001b[0m\u001b[0m\n",
      "\u001b[1;31mTypeError\u001b[0m: '>' not supported between instances of 'int' and 'str'"
     ]
    }
   ],
   "source": [
    "#연습\n",
    "\n",
    "#함수에선 return이 함수를 나간다고 생각\n",
    "#return에 바로 문자열을 쓸 수 있음\n",
    "#반환하는게 없으면 생략 가능\n",
    "#break는 반복문에서만 가능, if처럼 조건문에는 불가능\n",
    "\n",
    "def odd_even(num):\n",
    "    \"\"\" num이 짝수면 \"짝수\", 홀수면 \"홀수\" 출력하기 \"\"\"\n",
    "    if 0 > num:\n",
    "        return #print로 찍으면 안됨\n",
    "    elif num % 2 == 0 :\n",
    "        return \"짝수\"\n",
    "    else:\n",
    "        return \"홀수\"\n",
    "\n",
    "# odd_even(10)\n",
    "# odd_even(9)\n",
    "print(odd_even.__doc__)\n",
    "print(odd_even(-1))\n",
    "print(odd_even(10))\n",
    "print(odd_even(9))\n",
    "print(odd_even(\"가\")) #얜 왜 논값 안나오고 오류나는지 질문\n",
    "\n",
    "\n",
    "\n",
    "\n",
    "\n",
    "\n",
    "\n",
    "#선생님코드\n",
    "if type(num) is int and num > 0: #is는 말 그대로 앞에있는 것이 뒤에 있는 것이라는 뜻\n",
    "    return \"짝수\" * (num % 2 == 0) or \"홀수\" #or은 앞 조건이 트루면 다음껀 실행 안됨\n",
    "else:\n",
    "    return"
   ]
  },
  {
   "cell_type": "code",
   "execution_count": 93,
   "id": "88cb2bee-cbc8-4724-a928-9ce93c838c9c",
   "metadata": {},
   "outputs": [
    {
     "name": "stdout",
     "output_type": "stream",
     "text": [
      "반환값 : 윤년\n",
      "반환값 : 윤년\n",
      "반환값 : 평년\n"
     ]
    }
   ],
   "source": [
    "#연습\n",
    "\n",
    "def check_leap_year(year):\n",
    "    if year % 100 == 0 and year % 400 != 0:\n",
    "        return \"평년\"\n",
    "    elif year % 4 == 0:\n",
    "        return \"윤년\"\n",
    "    else:\n",
    "        return \"평년\"\n",
    "    \n",
    "print(f\"반환값 : {check_leap_year(2004)}\")\n",
    "print(f\"반환값 : {check_leap_year(2000)}\")\n",
    "print(f\"반환값 : {check_leap_year(1900)}\")\n",
    "\n",
    "\n",
    "#선생님코드\n",
    "if year % 4 == 0 and (year % 100 != 0 or year % 400 == 0):\n",
    "    return \"윤년\"\n",
    "else:\n",
    "    return \"평년\""
   ]
  },
  {
   "cell_type": "code",
   "execution_count": 99,
   "id": "a2cc834c-fde9-4334-9125-d68fc086f758",
   "metadata": {},
   "outputs": [
    {
     "name": "stdout",
     "output_type": "stream",
     "text": [
      "반환값 : 30\n"
     ]
    }
   ],
   "source": [
    "#연습\n",
    "# 흠🤔🤔🤔🤔🤔🤔🤔🤔🤔🤔🤔🤔🤔🤔🤔🤔🤔🤔🤔🤔\n",
    "def days(day):\n",
    "    if day == 2:\n",
    "        return 28\n",
    "    elif day == 4 or day == 6 or day == 9 or day == 11:\n",
    "        return 30\n",
    "    else:\n",
    "        return 31    \n",
    "    \n",
    "print(f\"반환값 : {days(11)}\")\n",
    "# 1. year 평년일때\n",
    "# 2. 1 3 5 7 8 10 12월 -> 31일\n",
    "# 3. 4 6  9 11월 -> 30일\n",
    "# 4. 2월 -> 28일\n",
    "# -월이 들어가면 며칠까지 있는지가 반환 "
   ]
  },
  {
   "cell_type": "code",
   "execution_count": null,
   "id": "20ece5dc-465f-4bf7-b5e2-e46ae3283c8d",
   "metadata": {},
   "outputs": [],
   "source": [
    "#연습\n",
    "\n",
    "def days(year, day):\n",
    "    \n",
    "    \n",
    "    \n",
    "    if year % 4 == 0 and (year % 100 != 0 or year % 400 == 0):\n",
    "        return \n",
    "    \n",
    "    \"윤년\"\n",
    "    else:\n",
    "    return \"평년\"\n",
    "    \n",
    "    \n",
    "    \n",
    "    elif day == 4 or day == 6 or day == 9 or day == 11:\n",
    "        return 30\n",
    "    else:\n",
    "        return 31    \n",
    "    \n",
    "    \n",
    "print(f\"반환값 : {days(1900, 11)}\")\n",
    "\n",
    "연도가 먼저 돌고 그다음 월\n",
    "2월만 마지막날 2개\n",
    "\n",
    "\n",
    "\n",
    "#도움받은 코드\n",
    "def days(year, day):\n",
    "    if day == 2:\n",
    "        if year % 100 == 0 and year % 400 != 0:\n",
    "            return \"29(윤년)\"\n",
    "        elif year % 4 == 0:\n",
    "            return \"29(윤년)\"\n",
    "        else:\n",
    "            return \"28(평년)\"\n",
    "    elif day == 4 or day == 6 or day == 9 or day == 11: #여기서 연도를 2월처럼 안해주는 이유는 얘네는 윤년/평년 상관없이 30, 31일까지 존재하기 때문\n",
    "        return 30\n",
    "    else:\n",
    "        return 31   \n",
    "    \n",
    "days(2000, 2)"
   ]
  },
  {
   "cell_type": "code",
   "execution_count": 112,
   "id": "69d2e506-4c19-47b6-8344-0042e1ed789d",
   "metadata": {},
   "outputs": [
    {
     "name": "stdout",
     "output_type": "stream",
     "text": [
      "몫 : 3, 나머지 : 1\n"
     ]
    }
   ],
   "source": [
    "#연습\n",
    "#도움받은거\n",
    "\n",
    "x = 10\n",
    "y = 3\n",
    "\n",
    "def get_quotiont_remainder(x, y):\n",
    "    quitient = x // y #변수로 설정안하고 return 식, 식해도 됨 -> 바로 return x // y, x % y\n",
    "    remainder = x % y\n",
    "    return quitient, remainder\n",
    "    \n",
    "    \n",
    "quitient, remainder = get_quotiont_remainder(x, y)\n",
    "\n",
    "\n",
    "print(f\"몫 : {quitient}, 나머지 : {remainder}\")\n",
    "\n"
   ]
  },
  {
   "cell_type": "code",
   "execution_count": 1,
   "id": "ba411c77-3380-4ef0-a5c5-9beae82c1728",
   "metadata": {},
   "outputs": [],
   "source": [
    "#global(전역변수를 로컬로 가져오고싶을때)\n",
    "#nonlocal(로컬안 로컬변수를 가져오고싶을때)"
   ]
  },
  {
   "cell_type": "code",
   "execution_count": null,
   "id": "27b4be97-ee91-46d8-b03a-973e0d32918b",
   "metadata": {},
   "outputs": [],
   "source": []
  },
  {
   "cell_type": "code",
   "execution_count": 10,
   "id": "010b8246-da58-4ef5-b9c4-6f521741ace3",
   "metadata": {},
   "outputs": [
    {
     "name": "stdout",
     "output_type": "stream",
     "text": [
      "젼역 변수입니다.\n",
      "젼역 변수입니다.\n",
      "바깥 지역 범위입니다.\n",
      "바깥 지역 범위입니다.\n",
      "안쪽 지역 범위입니다.\n"
     ]
    }
   ],
   "source": [
    "# 지역 범위(local scope) 전역 변수(global variable)에 접근 출력(변경X)\n",
    "global_v = \"젼역 변수입니다.\"\n",
    "\n",
    "def local_scope():\n",
    "    print(global_v)\n",
    "    \n",
    "local_scope\n",
    "\n",
    "\n",
    "\n",
    "\n",
    "\n",
    "# 지역 범위(local scope) 전역 변수(global variable)에 접근 출력(재할당)\n",
    "global_v2 = \"젼역 변수입니다.\"\n",
    "\n",
    "def local_scope2():\n",
    "    global_v2 = \"지역 변수입니다.\"\n",
    "    \n",
    "local_scope2()\n",
    "print(global_v2)\n",
    "# 사실은 전역 범위에서 global_v2를 만들어 할당한 것과\n",
    "# 로컬 범위에서 global_v2를 만들어 할당한 것\n",
    "# 두가지 일을 각각 독립적으로 실행한 결과를 확인했다.\n",
    "\n",
    "\n",
    "\n",
    "\n",
    "\n",
    "# 지역 범위(local scope) 전역 변수(global variable)에 접근 출력(재할당)\n",
    "global_v3 = \"젼역 변수입니다.\"\n",
    "\n",
    "def local_scope3():\n",
    "    global global_v3 #전역 범위에 있는 전역 변수인 global_v3를 사용하겠다.\n",
    "    \n",
    "    \n",
    "local_scope3()\n",
    "print(global_v3)\n",
    "#golbal키워드를 활용하면 지역 범위에 있어도 전역 변수에 대한 변경이 가능하도록 할 수 있었다.\n",
    "\n",
    "\n",
    "\n",
    "#지역 범위(local scope) 안에 지역 범위가 중첩되어 있을 경우\n",
    "# 비교적 바깥에 있는 지역 범위의 지역 변수에 접근하여 출력\n",
    "def local_scope4():\n",
    "    global_v4 = \"바깥 지역 범위입니다.\"\n",
    "    def local_scope5():\n",
    "        print(global_v4)\n",
    "    local_scope5()\n",
    "\n",
    "# print(global_v4) #로컬 범위 밖에 있어서 찾을 수 없다 오류\n",
    "local_scope4()\n",
    "#지역 범위 안에 있는 지역 변수는 그 함수 실행과 반환 사이 동안만 살아있었다\n",
    "\n",
    "\n",
    "\n",
    "\n",
    "\n",
    "\n",
    "#지역 범위(local scope) 안에 지역 범위가 중첩되어 있을 경우\n",
    "# 비교적 바깥에 있는 지역 범위의 지역 변수에 접근하여 출력\n",
    "def local_scope6():\n",
    "    global_v5 = \"바깥 지역 범위입니다.\" # 더 넓은 범위의 로컬 변수로 선언\n",
    "    def local_scope7():\n",
    "        global_v5 = \"바깥 지역 범위입니다.\" #더 좁은 범위의 로컬 변수로 선언\n",
    "    local_scope7()\n",
    "    print(global_v5)\n",
    "\n",
    "local_scope6()\n",
    "#그래서 local_scope6범위의 global_v5는  \n",
    "# local_scope7 범위의 global_v5와 각각 독립적으로 생성이 된 것을 봤다.\n",
    "\n",
    "\n",
    "\n",
    "\n",
    "#지역 범위(local scope) 안에 지역 범위가 중첩되어 있을 경우\n",
    "# 비교적 바깥에 있는 지역 범위의 지역 변수에 접근하여 출력\n",
    "def local_scope8():\n",
    "    global_v6 = \"바깥 지역 범위입니다.\" \n",
    "    def local_scope9():\n",
    "        nonlocal global_v6 #현 영역(지금의 로컬 영역 바깥의 변수 global_v6를 찾아서 그 변수를 사용하겠다.)\n",
    "        global_v6 = \"안쪽 지역 범위입니다.\" \n",
    "    local_scope9() #바뀌는 행위를 여기서 실행\n",
    "    print(global_v6)\n",
    "\n",
    "local_scope8()\n"
   ]
  },
  {
   "cell_type": "code",
   "execution_count": 14,
   "id": "aad62e4d-f587-4f2c-94ef-c5e038efc600",
   "metadata": {},
   "outputs": [
    {
     "ename": "SyntaxError",
     "evalue": "invalid syntax (3570996115.py, line 15)",
     "output_type": "error",
     "traceback": [
      "\u001b[1;36m  File \u001b[1;32m\"C:\\Users\\playdata\\AppData\\Local\\Temp\\ipykernel_15664\\3570996115.py\"\u001b[1;36m, line \u001b[1;32m15\u001b[0m\n\u001b[1;33m    (lambda x : y=10; x+y)(1)\u001b[0m\n\u001b[1;37m                 ^\u001b[0m\n\u001b[1;31mSyntaxError\u001b[0m\u001b[1;31m:\u001b[0m invalid syntax\n"
     ]
    }
   ],
   "source": [
    "#lamda\n",
    "#lamda[parameters(받는변수)]:expression(예를들면 제곱), 여긴 영어로 람다가 써져 있지만 실제로 쓸땐 형체가 없다 생각하고 쓰지 않는다\n",
    "# def func_name(parameter):\n",
    "#     return expression\n",
    "\n",
    "\n",
    "#(lambda[parameters]:expression~~~~~~~~)\n",
    "(lambda x : x + 10)(10) #소괄호를 바로 옆에 붙여서 인수(넣어줄 값)를 넣어준다.\n",
    "\n",
    "#변수에 lambda담기\n",
    "twice = lambda x: x*2\n",
    "print(twice(10))\n",
    "\n",
    "#exprssion부분은 변수없이 한줄로만 표현가능(인라인)\n",
    "(lambda x : y=10; x+y)(1) #오류날거임, y값에 변수 선언해서"
   ]
  },
  {
   "cell_type": "code",
   "execution_count": 15,
   "id": "ab9506ed-7e4f-4d3e-a776-a229be9685c6",
   "metadata": {},
   "outputs": [
    {
     "data": {
      "text/plain": [
       "'B'"
      ]
     },
     "execution_count": 15,
     "metadata": {},
     "output_type": "execute_result"
    }
   ],
   "source": [
    "#조건표현식.inline if else (if, else를 꼭한번씩 써야함 / 둘이 한세트라서 어쩔 수 없음)\n",
    "#ex\n",
    "#True일때 값 if 조건식 else False일 때 값 -> True일 때 앞에꺼(if)실행,  False일 때 뒤에꺼(else실행)\n",
    "#elif는 없음, else로 중첩가능\n",
    "#if조건을 한줄로 쓰는 방법\n",
    "\n",
    "score = 90\n",
    "'A' if 90 < score <= 100 else 'B' if 80 < score else 'C'\n",
    "\n",
    "\n"
   ]
  },
  {
   "cell_type": "code",
   "execution_count": 19,
   "id": "5f5b203a-b401-4e4b-8112-e0a2535f7e73",
   "metadata": {},
   "outputs": [
    {
     "name": "stdout",
     "output_type": "stream",
     "text": [
      "[2, 8, 18, 32, 50]\n",
      "[2, 8, 18, 32, 50]\n",
      "100\n"
     ]
    }
   ],
   "source": [
    "#lambda feat.map()\n",
    "#map(lambda parameter1, parameter2, ....(여러개 가능) : expression, iterable1, iterable2 ....(iterable여러개 가능))\n",
    "a = [i for i in range(1, 6)] #0 1 2 3 4 \n",
    "b = [i for i in range(2, 11, 2)] #2 4 6 8 10\n",
    "print(list(map(lambda x, y: x * y, a, b))) # iterable1자리가 -> a, iterable2자리가 -> b \n",
    "\n",
    "\n",
    "\n",
    "#예시\n",
    "a = [i for i in range(1, 6)]\n",
    "b = [i for i in range(2, 11, 2)]\n",
    "\n",
    "c = list(map(lambda x, y: x * y, a, b))\n",
    "\n",
    "print(c)\n",
    "\n",
    "print((lambda x: x **2)(10))\n"
   ]
  },
  {
   "cell_type": "code",
   "execution_count": null,
   "id": "a133d172-970e-48b1-becb-a8d888531222",
   "metadata": {},
   "outputs": [],
   "source": []
  },
  {
   "cell_type": "code",
   "execution_count": 22,
   "id": "661409b3-7408-477d-acb7-5e76e308f229",
   "metadata": {},
   "outputs": [
    {
     "data": {
      "text/plain": [
       "[3, 9, 9]"
      ]
     },
     "execution_count": 22,
     "metadata": {},
     "output_type": "execute_result"
    }
   ],
   "source": [
    "#lambda feat.filter()\n",
    "#map(lambda parameter:expression, iterable)\n",
    "# ->True일때만 expression요소 가져옴\n",
    "\n",
    "a = [3, 2, 8, 22, 10 , 7, 0, 11, 9, 9]\n",
    "list(filter(lambda x: x % 3 == 0 and 0 < x < 10, a))"
   ]
  },
  {
   "cell_type": "code",
   "execution_count": null,
   "id": "c1004be3-2962-4069-a945-8a3a465fa4c3",
   "metadata": {},
   "outputs": [],
   "source": []
  },
  {
   "cell_type": "code",
   "execution_count": 23,
   "id": "b6d86689-b7bd-42a1-886f-a167389294f2",
   "metadata": {},
   "outputs": [],
   "source": [
    "#객체지향 프로그래밍\n",
    "#복잡한 문제를 잘게 나누어 객체로 만들고 객체를 조합해서 문제해결\n",
    "\n",
    "#클래스의 속성은 변수로 만들면 되고 객체가 갖는 기능은 클래스안에 함수로  ~~~\n",
    "\n",
    "\n",
    "#구조\n",
    "# class CalssName: #클래스명을 주로 PascalCase를 씀\n",
    "#     def method_name(self):\n",
    "#         method_body\n",
    "#     class_body"
   ]
  },
  {
   "cell_type": "code",
   "execution_count": 26,
   "id": "7ac6af7c-34f0-4d00-833c-874d2288e30d",
   "metadata": {},
   "outputs": [
    {
     "name": "stdout",
     "output_type": "stream",
     "text": [
      "<class 'int'>\n"
     ]
    }
   ],
   "source": [
    "#객체? 인스턴스?\n",
    "#둘이 같은말\n",
    "instance_variable = ClassName()\n",
    "\n",
    "\n",
    "\n",
    "#메서드 : 인스턴스들이 각각 가질 수 있는 함수\n",
    "class ClassName:\n",
    "    def method_name(self): #self는 첫번째 인자이고 안쓰면 오류남\n",
    "        method_body\n",
    "        \n",
    "    class_body"
   ]
  },
  {
   "cell_type": "code",
   "execution_count": 34,
   "id": "02292357-38d1-4534-a383-bdf919df8978",
   "metadata": {},
   "outputs": [
    {
     "name": "stdout",
     "output_type": "stream",
     "text": [
      "안녕하세요\n"
     ]
    }
   ],
   "source": [
    "#예시\n",
    "class Student():\n",
    "    pass #이 안에 속성들이 들어가는 거임\n",
    "#이렇게만 해도 class객체 만들어진거임\n",
    "\n",
    "ih = Student() #()만 붙여주면 독립적인 값을 보장하는 인스턴스로 생성됨\n",
    "\n",
    "\n",
    "\n",
    "\n",
    "#다른거\n",
    "#class ClassName:\n",
    "#def __init__(self):\n",
    "#    self.속성값\n",
    "class Student:\n",
    "    def __init__(self):\n",
    "        self.hello = \"안녕하세요\"\n",
    "        \n",
    "    def greeting(self):\n",
    "        print(self.hello)\n",
    "\n",
    "\n",
    "ih = Student()\n",
    "ih.greeting()\n",
    "\n",
    "#self는 인스턴스 자기자신임\n",
    "#인스턴스가 생성될때 자기 자신에 속성을 추가해 사용\n",
    "#위에서는 __init__의 앞에 self에 들어가는 값은 Student()의 인스턴스라고 생각하기\n",
    "#인스턴스가 만들어진 이후에 ~"
   ]
  },
  {
   "cell_type": "code",
   "execution_count": null,
   "id": "43e30203-d91e-4829-add3-0cd5ecda2eba",
   "metadata": {},
   "outputs": [],
   "source": []
  },
  {
   "cell_type": "code",
   "execution_count": null,
   "id": "0d5775ed-5024-4cf6-8b0f-bff348844405",
   "metadata": {},
   "outputs": [],
   "source": []
  }
 ],
 "metadata": {
  "kernelspec": {
   "display_name": "Python 3 (ipykernel)",
   "language": "python",
   "name": "python3"
  },
  "language_info": {
   "codemirror_mode": {
    "name": "ipython",
    "version": 3
   },
   "file_extension": ".py",
   "mimetype": "text/x-python",
   "name": "python",
   "nbconvert_exporter": "python",
   "pygments_lexer": "ipython3",
   "version": "3.9.13"
  }
 },
 "nbformat": 4,
 "nbformat_minor": 5
}
