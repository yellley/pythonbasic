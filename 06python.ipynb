{
 "cells": [
  {
   "cell_type": "markdown",
   "id": "540c7fa5-c48e-469d-97d3-7ff250d60a49",
   "metadata": {},
   "source": [
    "# 23/1/9(월요일)"
   ]
  },
  {
   "cell_type": "code",
   "execution_count": null,
   "id": "8b52edeb-f456-4c1d-b2ca-1c661c05facb",
   "metadata": {},
   "outputs": [],
   "source": [
    "a = 0\n",
    "b=2\n",
    "\n",
    "if a == 0:\n",
    "    print(\"a\")\n",
    "elif a+b !=1 :\n",
    "    print(\"b\")"
   ]
  },
  {
   "cell_type": "code",
   "execution_count": 35,
   "id": "fafa07fd-b72e-4ef5-a755-ae289ce73e1a",
   "metadata": {},
   "outputs": [
    {
     "name": "stdout",
     "output_type": "stream",
     "text": [
      "A\n",
      "A\n",
      "A\n",
      "A\n",
      "A\n"
     ]
    }
   ],
   "source": [
    "#for i in rnage(len(문자열)):\n",
    "#     명령어~\n",
    "for i in range(len(\"Pyaaa\")):#문자열(단어알파벳의 개수 만큼 프린트안 문장 반복\n",
    "    print(\"A\")"
   ]
  },
  {
   "cell_type": "code",
   "execution_count": 46,
   "id": "6afdc192-943e-4e7e-ae38-a0e350f2fdb9",
   "metadata": {},
   "outputs": [
    {
     "name": "stdout",
     "output_type": "stream",
     "text": [
      "오\n",
      "삼\n",
      "육\n",
      "사\n",
      "이\n",
      "일\n"
     ]
    }
   ],
   "source": [
    "for i in reversed(\"일이사육삼오\"): \n",
    "    #reversed도 역순으로 재배치해서 순서(차례)대로 나열이 아니라 원래 있던 순서에서 역순으로 바꿔주는 것 뿐임 \n",
    "    print(i)"
   ]
  },
  {
   "cell_type": "markdown",
   "id": "f9892c90-bdc8-4441-9e55-d8b0581e7144",
   "metadata": {},
   "source": [
    "#### for"
   ]
  },
  {
   "cell_type": "code",
   "execution_count": 91,
   "id": "e5ab5ba3-3211-4ff3-964b-80ed65e77c35",
   "metadata": {},
   "outputs": [
    {
     "name": "stdout",
     "output_type": "stream",
     "text": [
      "*\n",
      "*\n",
      "*\n",
      "*\n",
      "*\n",
      "\n",
      "*\n",
      "*\n",
      "*\n",
      "*\n",
      "*\n",
      "\n",
      "*\n",
      "*\n",
      "*\n",
      "*\n",
      "*\n",
      "\n",
      "*\n",
      "*\n",
      "*\n",
      "*\n",
      "*\n",
      "\n",
      "*\n",
      "*\n",
      "*\n",
      "*\n",
      "*\n",
      "\n",
      "*\n",
      "*\n",
      "*\n",
      "*\n",
      "*\n",
      "*****\n",
      "*****\n",
      "*****\n",
      "*****\n",
      "*****\n"
     ]
    }
   ],
   "source": [
    "#연습\n",
    "#1)내가 시도해본거(세로로 나옴)\n",
    "for i in range(1, 6):\n",
    "    for j in range(5):\n",
    "        print(\"*\")\n",
    "    print(sep=\"\")\n",
    "    \n",
    "#2)전에 별네모 만들기 참고해서\n",
    "for i in range(1):\n",
    "    for j in range(5):\n",
    "        print('*') #한줄로 나옴\n",
    "        \n",
    "#선생님 코드\n",
    "for i in range(5):\n",
    "    for j in range(5):\n",
    "        print(\"*\", end = \"\")\n",
    "    print()\n",
    "    \n",
    "#for문 한개로\n",
    "for i in range(5):\n",
    "    print('* ' * 5)"
   ]
  },
  {
   "cell_type": "code",
   "execution_count": 23,
   "id": "eb4b7ae4-0350-4834-b6fb-b9ee95303cc5",
   "metadata": {},
   "outputs": [
    {
     "name": "stdout",
     "output_type": "stream",
     "text": [
      "22222\n",
      "22222\n",
      "22222\n",
      "22222\n",
      "22222\n",
      "22222\n",
      "22222\n",
      "22222\n"
     ]
    }
   ],
   "source": [
    "for i in range(8): #얘가 세로\n",
    "    for j in range(5): #얘가 가로라고 생각하기\n",
    "        print(2, end =\"\")\n",
    "    print()#꼭 써야 칸수에 맞게 나열됨"
   ]
  },
  {
   "cell_type": "markdown",
   "id": "7a9c9f9a-5fb8-4441-ad3e-2ee0e3f836b3",
   "metadata": {},
   "source": [
    "#### while"
   ]
  },
  {
   "cell_type": "code",
   "execution_count": 4,
   "id": "8e2a83c8-2a74-4259-844a-05532f7f6ac7",
   "metadata": {},
   "outputs": [
    {
     "name": "stdout",
     "output_type": "stream",
     "text": [
      "D\n",
      "D\n",
      "D\n",
      "D\n",
      "D\n",
      "D\n",
      "D\n",
      "D\n",
      "D\n",
      "D\n"
     ]
    }
   ],
   "source": [
    "i = 0 #초기식\n",
    "while i < 10: #while조건식\n",
    "    print(\"D\") #반복할 코드\n",
    "    i = i+1 #변화식"
   ]
  },
  {
   "cell_type": "code",
   "execution_count": 8,
   "id": "440ce1a3-b7aa-40fc-8953-c1ed900dd459",
   "metadata": {},
   "outputs": [
    {
     "name": "stdin",
     "output_type": "stream",
     "text": [
      "반복할 횟수를 입력: 3\n"
     ]
    },
    {
     "name": "stdout",
     "output_type": "stream",
     "text": [
      "H W 3\n",
      "H W 2\n",
      "H W 1\n"
     ]
    }
   ],
   "source": [
    "#예제\n",
    "count = int(input(\"반복할 횟수를 입력:\"))\n",
    "\n",
    "while count > 0:\n",
    "    print(\"H W\", count)\n",
    "    count = count-1"
   ]
  },
  {
   "cell_type": "code",
   "execution_count": 26,
   "id": "f7fb76b3-4fa7-46ac-bc50-cab0333f97e5",
   "metadata": {},
   "outputs": [
    {
     "name": "stdout",
     "output_type": "stream",
     "text": [
      "2\t4\t6\t8\t10\t12\t14\t16\t18\t20\t22\t24\t26\t28\t30\t32\t34\t36\t38\t40\t42\t44\t46\t48\t50\t52\t54\t56\t58\t60\t62\t64\t66\t68\t70\t72\t74\t76\t78\t80\t82\t84\t86\t88\t90\t92\t94\t96\t98\t"
     ]
    }
   ],
   "source": [
    "#연습\n",
    "a = 2\n",
    "while a < 100:\n",
    "    print(a, end = \"\\t\")\n",
    "    a = a + 2\n",
    "    \n",
    "#선생님 코드\n",
    "i = 1\n",
    "while  i > 100:\n",
    "    print(i * 2, end = '\\t')\n",
    "    i += 1"
   ]
  },
  {
   "cell_type": "code",
   "execution_count": 28,
   "id": "1e4c6db4-04b5-4930-9c49-664ebc32e7ef",
   "metadata": {},
   "outputs": [
    {
     "name": "stdin",
     "output_type": "stream",
     "text": [
      "구구단 숫자 입력: 9\n"
     ]
    },
    {
     "name": "stdout",
     "output_type": "stream",
     "text": [
      "9 * 1 = 9\n",
      "9 * 2 = 18\n",
      "9 * 3 = 27\n",
      "9 * 4 = 36\n",
      "9 * 5 = 45\n",
      "9 * 6 = 54\n",
      "9 * 7 = 63\n",
      "9 * 8 = 72\n",
      "9 * 9 = 81\n"
     ]
    }
   ],
   "source": [
    "#연습\n",
    "a = int(input(\"구구단 숫자 입력:\"))\n",
    "b = 1\n",
    "\n",
    "while b < 10:\n",
    "    print(a, \"*\", b, \"=\", a*b)\n",
    "    b = b + 1\n",
    "    \n",
    "#선생님 코드\n"
   ]
  },
  {
   "cell_type": "code",
   "execution_count": 67,
   "id": "cfb85c5a-50b9-4deb-b205-ade548d6ad83",
   "metadata": {},
   "outputs": [
    {
     "name": "stdin",
     "output_type": "stream",
     "text": [
      "학생의 수 :  3\n",
      "1학생의 점수: 77\n",
      "2학생의 점수: 88\n",
      "3학생의 점수: 99\n"
     ]
    },
    {
     "name": "stdout",
     "output_type": "stream",
     "text": [
      "평균 :  88.0 점\n"
     ]
    }
   ],
   "source": [
    "#연습\n",
    "a = int(input(\"학생의 수 : \"))\n",
    "b = 1 #i로 많이 씀\n",
    "d = 0 #0을 변수로 받아준거는 학생의 점수를 받아서 d안에 넣어주기 위해서\n",
    "\n",
    "while b <= a :#b는 a까지 순서대로 올라가야 하니까 a와 같거나 커야함\n",
    "    c = int(input(str(b)+\"학생의 점수:\")) \n",
    "    b += 1 #b에 1씩 더해서 a까지 갈 수 있게\n",
    "    d = d+c #d와 c(점수)를 다 더해줌\n",
    "print(\"평균 : \", d/a,\"점\") #아까 더해서 값을 넣어준 d를 불러오기만 하면됨        \n"
   ]
  },
  {
   "cell_type": "markdown",
   "id": "cb0ae562-c37e-4d82-8c66-a8b06bfa3110",
   "metadata": {},
   "source": [
    "#### len활용 (while문)"
   ]
  },
  {
   "cell_type": "code",
   "execution_count": 81,
   "id": "2aceed67-4ecf-46ef-92af-93e449dcc1bd",
   "metadata": {},
   "outputs": [
    {
     "name": "stdout",
     "output_type": "stream",
     "text": [
      "97\n",
      "100\n",
      "77\n"
     ]
    }
   ],
   "source": [
    "#예제 다시보고 다시해보기\n",
    "\n",
    "scores = (97, 100, 77)\n",
    "\n",
    "i = 0\n",
    "\n",
    "while i < len(socres):\n",
    "    print(scores[i])\n",
    "    i += 1"
   ]
  },
  {
   "cell_type": "code",
   "execution_count": 115,
   "id": "d5b1531f-7d54-4204-abcd-56ed60d2973b",
   "metadata": {},
   "outputs": [
    {
     "name": "stdout",
     "output_type": "stream",
     "text": [
      "70\n",
      "60\n",
      "55\n",
      "75\n",
      "95\n",
      "90\n",
      "80\n",
      "85\n",
      "100\n",
      "(70, 60, 55, 75, 95, 90, 80, 85, 100)\n",
      "78.88888888888889\n"
     ]
    }
   ],
   "source": [
    "class_a = (70, 60, 55, 75, 95, 90, 80, 85, 100)\n",
    "\n",
    "i = 0\n",
    "\n",
    "while i < len(class_a):\n",
    "    print(class_a[i])\n",
    "    i += 1\n",
    "\n",
    "print((class_a))\n",
    "   \n",
    "\n",
    "#선생님 코드\n",
    "class_a = (70, 60, 55, 75, 95, 90, 80, 85, 100)\n",
    "\n",
    "total = 0\n",
    "\n",
    "i = 0\n",
    "\n",
    "while i < len(class_a):\n",
    "    total += class_a[i]\n",
    "    i += 1\n",
    "    \n",
    "ave = total / len(class_a)\n",
    "print(ave)"
   ]
  },
  {
   "cell_type": "markdown",
   "id": "40d6c8d6-5327-4866-aa81-55eb0c1ce09e",
   "metadata": {},
   "source": [
    "#### break"
   ]
  },
  {
   "cell_type": "code",
   "execution_count": 102,
   "id": "70c21227-8368-4ae2-9336-ced138bffeda",
   "metadata": {},
   "outputs": [
    {
     "name": "stdout",
     "output_type": "stream",
     "text": [
      "0\n",
      "1\n",
      "2\n",
      "3\n",
      "4\n",
      "5\n",
      "6\n",
      "7\n",
      "8\n",
      "9\n",
      "10\n"
     ]
    }
   ],
   "source": [
    "#예제 for일때\n",
    "for i in range(10000):\n",
    "    print(i)\n",
    "    if i == 10: #10까지 가면 반복종료해줘\n",
    "        break #반복종료"
   ]
  },
  {
   "cell_type": "code",
   "execution_count": 105,
   "id": "040c3619-2d03-4b14-84ec-c5d37b1de222",
   "metadata": {},
   "outputs": [
    {
     "name": "stdout",
     "output_type": "stream",
     "text": [
      "HI\n",
      "HI\n",
      "HI\n",
      "HI\n",
      "HI\n",
      "HI\n",
      "HI\n",
      "HI\n",
      "HI\n",
      "HI\n"
     ]
    }
   ],
   "source": [
    "# 예제 while 일때\n",
    "i = 0\n",
    "\n",
    "while True:\n",
    "    print(\"HI\")\n",
    "    i += 1\n",
    "    if i == 10:\n",
    "        break"
   ]
  },
  {
   "cell_type": "code",
   "execution_count": 137,
   "id": "b0550863-692d-4662-9da6-02c3a600d684",
   "metadata": {},
   "outputs": [
    {
     "name": "stdout",
     "output_type": "stream",
     "text": [
      "3\n"
     ]
    }
   ],
   "source": [
    "#연습\n",
    "i = 0\n",
    "\n",
    "total = 0\n",
    "\n",
    "while True:\n",
    "    i += 1\n",
    "    total += i\n",
    "    if i == 2:\n",
    "        break\n",
    "\n",
    "print(total)\n",
    "\n",
    "#선생님 코드\n",
    "\n"
   ]
  },
  {
   "cell_type": "code",
   "execution_count": 116,
   "id": "dd7ddf28-a54c-47c5-89de-5be725588b68",
   "metadata": {},
   "outputs": [
    {
     "name": "stdin",
     "output_type": "stream",
     "text": [
      "q를 입력하면 종료됩니다 w\n",
      "q를 입력하면 종료됩니다 e\n",
      "q를 입력하면 종료됩니다 r\n",
      "q를 입력하면 종료됩니다 t\n",
      "q를 입력하면 종료됩니다 y\n",
      "q를 입력하면 종료됩니다 q\n"
     ]
    },
    {
     "name": "stdout",
     "output_type": "stream",
     "text": [
      "프로그램을 종료합니다.\n"
     ]
    }
   ],
   "source": [
    "#while 무한루프\n",
    "#예제\n",
    "while True:\n",
    "    input_value = input(\"q를 입력하면 종료됩니다\")\n",
    "    if input_value == \"q\" : \n",
    "        break\n",
    "print(\"프로그램을 종료합니다.\")"
   ]
  },
  {
   "cell_type": "markdown",
   "id": "ddc687b3-57cf-4f7c-83c1-e914da6a9f0c",
   "metadata": {},
   "source": [
    "#### continue"
   ]
  },
  {
   "cell_type": "code",
   "execution_count": 117,
   "id": "d14c265c-eae1-499a-a5fb-eca816a61991",
   "metadata": {},
   "outputs": [
    {
     "name": "stdout",
     "output_type": "stream",
     "text": [
      "1\t3\t5\t7\t9\t11\t13\t15\t17\t19\t21\t23\t25\t27\t29\t31\t33\t35\t37\t39\t41\t43\t45\t47\t49\t51\t53\t55\t57\t59\t61\t63\t65\t67\t69\t71\t73\t75\t77\t79\t81\t83\t85\t87\t89\t91\t93\t95\t97\t99\t"
     ]
    }
   ],
   "source": [
    "#예제\n",
    "for i in range(100): #0부터 99까지 증가하면서 100번 반복\n",
    "    if i % 2 == 0: #i를 2로 나누었을 때 나머지가 0이면 짝수\n",
    "        continue #위 조건에 부합 시 아래 코드를 실행하지 않고 건너뜀\n",
    "    print(i, end = \"\\t\")"
   ]
  },
  {
   "cell_type": "code",
   "execution_count": null,
   "id": "b978c0a4-521a-4acb-8208-bb1e93934969",
   "metadata": {},
   "outputs": [],
   "source": [
    "#예제\n",
    "i = 0\n",
    "while i < 100: #i가 100보다 작을 떄 반복, 0~99까지 증가하면서 100번 반복\n",
    "    i += 1 #i를 \n",
    "    if i % 2 == 0:\n",
    "        continue\n",
    "    print(i, end = \"\\t\")"
   ]
  },
  {
   "cell_type": "code",
   "execution_count": 21,
   "id": "c3070055-db31-4e70-8925-78259611c225",
   "metadata": {},
   "outputs": [
    {
     "name": "stdout",
     "output_type": "stream",
     "text": [
      "3 13 23 33 43 53 63 73 83 93 "
     ]
    }
   ],
   "source": [
    "#연습\n",
    "i = 0\n",
    "while True:\n",
    "    if i % 10 != 3:\n",
    "        i += 1\n",
    "        continue\n",
    " \n",
    "    if i > 100:\n",
    "        break\n",
    "    print(i, end = \" \")\n",
    "    i += 1\n",
    "   "
   ]
  },
  {
   "cell_type": "code",
   "execution_count": 22,
   "id": "8f2e65f3-c84f-4960-8362-cadeee385880",
   "metadata": {},
   "outputs": [
    {
     "name": "stdout",
     "output_type": "stream",
     "text": [
      "1 2 3 4 5 6 7 8 9 10 1 2 3 4 5 6 7 8 9 10 "
     ]
    }
   ],
   "source": [
    "#연습 for문\n",
    "for i in range(1, 11):\n",
    "    for j in range(1):\n",
    "        print(i, end = ' ')\n",
    "        \n",
    "#연습 while문\n",
    "i = 1\n",
    "\n",
    "while i < 11:\n",
    "    print(i, end =\" \")\n",
    "    i += 1"
   ]
  },
  {
   "cell_type": "code",
   "execution_count": 86,
   "id": "6b8815b6-6f18-4995-9149-9e1316f723b3",
   "metadata": {},
   "outputs": [
    {
     "name": "stdin",
     "output_type": "stream",
     "text": [
      "첫 숫자 1\n",
      "끝 숫자 10\n"
     ]
    },
    {
     "name": "stdout",
     "output_type": "stream",
     "text": [
      "1 부터 10 까지의 합은 55 입니다.\n"
     ]
    },
    {
     "name": "stdin",
     "output_type": "stream",
     "text": [
      "첫 숫자 1\n",
      "끝 숫자 10\n"
     ]
    },
    {
     "name": "stdout",
     "output_type": "stream",
     "text": [
      "1 부터 10 까지의 합은 55 입니다.\n"
     ]
    }
   ],
   "source": [
    "#연습for문\n",
    "a = int(input(\"첫 숫자\"))\n",
    "b = int(input(\"끝 숫자\"))\n",
    "s = 0 #다 더해주는 변수 밖으로 뺴줘야함\n",
    "\n",
    "for i in range(a, b+1):\n",
    "    s += i\n",
    "print(a, \"부터\", b,\"까지의 합은\", s,\"입니다.\")\n",
    "\n",
    "\n",
    "\n",
    "#연습 while문\n",
    "a = int(input(\"첫 숫자\"))\n",
    "b = int(input(\"끝 숫자\"))\n",
    "s = 0 #다 더해주는 변수 밖으로 뺴줘야함\n",
    "a_in = 0 #a를 바로 넣어버리면 a값이 바뀌는 거니까 변수하나 지정해서 수 커지게 해주기\n",
    "\n",
    "while a_in < b:\n",
    "    a_in += 1 \n",
    "    s += a_in\n",
    "    \n",
    "print(a, \"부터\", b,\"까지의 합은\", s,\"입니다.\")\n",
    "    "
   ]
  },
  {
   "cell_type": "code",
   "execution_count": 141,
   "id": "3c5a81cc-fbeb-4ebc-ae48-e12fd7b4225f",
   "metadata": {},
   "outputs": [
    {
     "name": "stdin",
     "output_type": "stream",
     "text": [
      "첫 숫자 4\n",
      "끝 숫자 7\n"
     ]
    },
    {
     "name": "stdout",
     "output_type": "stream",
     "text": [
      "52\n"
     ]
    },
    {
     "name": "stdin",
     "output_type": "stream",
     "text": [
      "첫 숫자 47\n",
      "끝 숫자 88\n"
     ]
    },
    {
     "name": "stdout",
     "output_type": "stream",
     "text": [
      "100184\n"
     ]
    }
   ],
   "source": [
    "#연습 for문\n",
    "n = int(input(\"첫 숫자\"))\n",
    "m = int(input(\"끝 숫자\"))\n",
    "s = 0\n",
    "\n",
    "for i in range(n, m+1):\n",
    "    if i % 2 == 0:\n",
    "        s += i ** 2\n",
    "        \n",
    "print(s)\n",
    "    \n",
    "\n",
    "#연습 while문\n",
    "n = int(input(\"첫 숫자\"))\n",
    "m = int(input(\"끝 숫자\"))\n",
    "s = 0\n",
    "n_in = n\n",
    "\n",
    "\n",
    "while n_in <= m: #조건들이 들어가는 순서는 실행이 되었을 때 실행이되고 되돌아가는 순서를 잘 생각해보기\n",
    "    if n_in % 2 == 0:\n",
    "        s += n_in ** 2\n",
    "    n_in += 1\n",
    "    \n",
    "print(s)"
   ]
  },
  {
   "cell_type": "code",
   "execution_count": 148,
   "id": "2834ead1-29a1-4086-9b1a-cbb000d6927f",
   "metadata": {},
   "outputs": [
    {
     "name": "stdout",
     "output_type": "stream",
     "text": [
      "평균 79.0\n",
      "평균 79.0\n"
     ]
    }
   ],
   "source": [
    "#연습\n",
    "\n",
    "#for문(range(시작, 끝)때문에 범위가 지정되어있음)\n",
    "Kor = [70, 60, 55, 75, 95, 90, 80, 80, 85, 100]\n",
    "\n",
    "total = 0\n",
    "\n",
    "for i in range(len(Kor)): #앞에 0은 생략가능\n",
    "    total += Kor[i]\n",
    "    \n",
    "print(\"평균\",total/len(Kor))#for문을 나오면 위에 둔 i는 잊어야함, 끝난거임\n",
    "    \n",
    "\n",
    "\n",
    "\n",
    "#while문(for문과 다르게 while은 범위가 지정되어 있지 않아 i가 하나씩 높아진다는 것을 알려줘야함 i+=1처럼, while i < 10처럼 i를 더해 나갈 범위 지정해주고)\n",
    "Kor = [70, 60, 55, 75, 95, 90, 80, 80, 85, 100]\n",
    "\n",
    "\n",
    "total = 0\n",
    "i = 0\n",
    "\n",
    "while i < len(Kor):\n",
    "    total += Kor[i]\n",
    "    i += 1\n",
    "    \n",
    "avg = total / len(Kor)\n",
    "print(\"평균\",avg)\n",
    "    "
   ]
  },
  {
   "cell_type": "code",
   "execution_count": 166,
   "id": "e93ac217-2210-41f6-bff0-609debde8e5d",
   "metadata": {},
   "outputs": [
    {
     "name": "stdout",
     "output_type": "stream",
     "text": [
      "23\n",
      "233168\n"
     ]
    }
   ],
   "source": [
    "#연습\n",
    "#for문\n",
    "#1) 10미만\n",
    "sum = 0\n",
    "\n",
    "for i in range(1, 10):\n",
    "    if  i % 5 == 0 or i % 3 == 0:\n",
    "        sum += i\n",
    "    \n",
    "print(sum)\n",
    "#2)1000미만\n",
    "sum = 0\n",
    "\n",
    "for i in range(1, 1000):\n",
    "    if  i % 5 == 0 or i % 3 == 0:\n",
    "        sum += i\n",
    "    \n",
    "print(sum)\n",
    "\n",
    "\n",
    "#while(다시해보기)"
   ]
  },
  {
   "cell_type": "code",
   "execution_count": null,
   "id": "8b86e5ef-e472-4f11-93f3-0fa5c8f392bf",
   "metadata": {},
   "outputs": [],
   "source": []
  }
 ],
 "metadata": {
  "kernelspec": {
   "display_name": "Python 3 (ipykernel)",
   "language": "python",
   "name": "python3"
  },
  "language_info": {
   "codemirror_mode": {
    "name": "ipython",
    "version": 3
   },
   "file_extension": ".py",
   "mimetype": "text/x-python",
   "name": "python",
   "nbconvert_exporter": "python",
   "pygments_lexer": "ipython3",
   "version": "3.9.13"
  }
 },
 "nbformat": 4,
 "nbformat_minor": 5
}
