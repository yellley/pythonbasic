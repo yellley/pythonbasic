{
 "cells": [
  {
   "cell_type": "code",
   "execution_count": 5,
   "id": "0237bada-2f1b-4fab-83fa-ef721f83d424",
   "metadata": {},
   "outputs": [
    {
     "name": "stdout",
     "output_type": "stream",
     "text": [
      "[1, 2, 3, 4, 5, 6, 7, 8]\n"
     ]
    }
   ],
   "source": [
    "#append는 맨뒤에 추가\n",
    "numbers = [1,2,3,4,5,6,7]\n",
    "\n",
    "numbers.append(8)\n",
    "\n",
    "print(numbers)"
   ]
  },
  {
   "cell_type": "code",
   "execution_count": 6,
   "id": "69d0a475-d012-4682-ab59-7a77b8cf9ef6",
   "metadata": {},
   "outputs": [
    {
     "name": "stdout",
     "output_type": "stream",
     "text": [
      "[0, 1, 2, 3, 0, 4, 0, 5, 6, 7, 8, 0]\n"
     ]
    }
   ],
   "source": [
    "#insert는 원하는 인덱스 위치에 원하는 값 추가\n",
    "numbers.insert(0, 0)\n",
    "numbers.insert(4, 0)\n",
    "numbers.insert(6, 0)\n",
    "numbers.insert(len(numbers), 0)\n",
    "print(numbers)"
   ]
  },
  {
   "cell_type": "code",
   "execution_count": 7,
   "id": "72927c3d-8122-4bd9-90c9-e84870aeacc7",
   "metadata": {},
   "outputs": [
    {
     "name": "stdout",
     "output_type": "stream",
     "text": [
      "[0, 1, 2, 3, 0, 4, 0, 5, 6, 7, 8, 0, 9, 10, 11]\n"
     ]
    }
   ],
   "source": [
    "#expend는 리스트1뒤에 리스트2 값을 맨뒤에 추가\n",
    "numbers.extend([9,10,11])\n",
    "print(numbers)"
   ]
  },
  {
   "cell_type": "code",
   "execution_count": 8,
   "id": "c643b633-7872-4cc9-b44d-5cd2bbdc6ace",
   "metadata": {},
   "outputs": [
    {
     "name": "stdout",
     "output_type": "stream",
     "text": [
      "[1, 2, 3, 0, 4, 0, 5, 6, 7, 8, 0, 9, 10, 11]\n"
     ]
    }
   ],
   "source": [
    "#remove는 ()안의 값과 같은 첫번째 값을 제거\n",
    "numbers.remove(0)\n",
    "print(numbers)"
   ]
  },
  {
   "cell_type": "code",
   "execution_count": 9,
   "id": "91a1f126-2ee2-45f9-80ae-87ce64c7558c",
   "metadata": {},
   "outputs": [
    {
     "name": "stdout",
     "output_type": "stream",
     "text": [
      "[2, 3, 0, 4, 0, 5, 6, 7, 8, 0, 9, 10, 11]\n"
     ]
    }
   ],
   "source": [
    "#del은 []안의 인덱스 값 제거\n",
    "del numbers[0]\n",
    "print(numbers)"
   ]
  },
  {
   "cell_type": "code",
   "execution_count": 10,
   "id": "b7c66fd5-1c1e-4abf-91a4-34defec5d196",
   "metadata": {},
   "outputs": [
    {
     "name": "stdout",
     "output_type": "stream",
     "text": [
      "11\n",
      "[2, 3, 0, 4, 0, 5, 6, 7, 8, 0, 9, 10]\n"
     ]
    }
   ],
   "source": [
    "#pop은 리스트 제일 마지막[-1] 요소를 제거, 제거한 요소는 반환(출력은)해줌\n",
    "print(numbers.pop())\n",
    "print(numbers)"
   ]
  },
  {
   "cell_type": "code",
   "execution_count": 13,
   "id": "30fd1474-1063-4f83-bfe3-b81a0e7910f5",
   "metadata": {},
   "outputs": [
    {
     "name": "stdout",
     "output_type": "stream",
     "text": [
      "0\n",
      "2\n"
     ]
    }
   ],
   "source": [
    "#index는 ()안의 값과 같은 숫자가 리스트에서 몇 번째 인덱스인지 찾아줌, 같은 숫자가 리스트 내에 여러개면 맨 처음 찾는 인덱스 값으로 출력\n",
    "print(numbers.index(2))\n",
    "print(numbers.index(0))"
   ]
  },
  {
   "cell_type": "code",
   "execution_count": 15,
   "id": "8919c5fb-e4ff-4f9f-af97-019659b2f360",
   "metadata": {},
   "outputs": [
    {
     "name": "stdout",
     "output_type": "stream",
     "text": [
      "3\n",
      "1\n"
     ]
    }
   ],
   "source": [
    "#count는 ()안의 값과 같은 값이 몇 개 있는지 세어줌\n",
    "print(numbers.count(0))\n",
    "print(numbers.count(2))"
   ]
  },
  {
   "cell_type": "code",
   "execution_count": 19,
   "id": "e074ff75-d92b-4a69-be81-c0400cdd4ccd",
   "metadata": {},
   "outputs": [
    {
     "name": "stdout",
     "output_type": "stream",
     "text": [
      "None\n",
      "[0, 0, 0, 2, 3, 4, 5, 6, 7, 8, 9, 10]\n",
      "None\n",
      "[10, 9, 8, 7, 6, 5, 4, 3, 2, 0, 0, 0]\n"
     ]
    }
   ],
   "source": [
    "#sort는 리스트 요소를 오름차순 정렬\n",
    "#reverse는 리스트 요소 순서를 반대로\n",
    "#반환 값은 둘다 None\n",
    "print(numbers.sort())\n",
    "print(numbers)\n",
    "\n",
    "print(numbers.reverse())\n",
    "print(numbers)"
   ]
  },
  {
   "cell_type": "code",
   "execution_count": null,
   "id": "17f1b42a-575f-4b5d-aacb-1aaaea27e927",
   "metadata": {},
   "outputs": [],
   "source": [
    "#stack은 자료구조 - 선착순과는 반대되는 개념(마지막에 넣은 걸 먼저 빼는 구조(맨처음 넣은걸 맨 나중에)) = 후입선출구조, 산에 산다고 생각하기\n",
    "#append로 넣어주고 pop으로 빼내야함\n",
    "\n",
    "stack = [3,4,5]\n",
    "stack.append(6)\n",
    "staxk.append(7)\n",
    "\n",
    "....예시 다시 보기"
   ]
  },
  {
   "cell_type": "markdown",
   "id": "18a4ed17-c89e-431d-beaf-6b19c29e9552",
   "metadata": {},
   "source": [
    "## tuple"
   ]
  },
  {
   "cell_type": "code",
   "execution_count": 22,
   "id": "1474becd-67eb-478c-9b7b-807c63a36eff",
   "metadata": {},
   "outputs": [],
   "source": [
    "# list는 [~], 수정가능\n",
    "#tuple은 (~), 수정 불가능\n",
    "\n",
    "tuple_variable = (1,2,3,4,5,\"hello\")\n",
    "tuple_variable[0] = 0 #tuple이라 수정 불가능해서 오류남"
   ]
  },
  {
   "cell_type": "code",
   "execution_count": 23,
   "id": "0f716136-ee72-4d60-9d11-c5bb42037fe7",
   "metadata": {},
   "outputs": [
    {
     "name": "stdout",
     "output_type": "stream",
     "text": [
      "[0, 2, 3, 4, 5, 'hello']\n"
     ]
    }
   ],
   "source": [
    "list_variable = [1,2,3,4,5,\"hello\"]\n",
    "list_variable[0] = 0\n",
    "print(list_variable)"
   ]
  },
  {
   "cell_type": "code",
   "execution_count": 25,
   "id": "865121d1-feec-4432-8177-b21cdccf7502",
   "metadata": {},
   "outputs": [
    {
     "ename": "TypeError",
     "evalue": "'tuple' object does not support item assignment",
     "output_type": "error",
     "traceback": [
      "\u001b[1;31m---------------------------------------------------------------------------\u001b[0m",
      "\u001b[1;31mTypeError\u001b[0m                                 Traceback (most recent call last)",
      "\u001b[1;32m~\\AppData\\Local\\Temp\\ipykernel_8516\\1396660675.py\u001b[0m in \u001b[0;36m<module>\u001b[1;34m\u001b[0m\n\u001b[1;32m----> 1\u001b[1;33m \u001b[0mtuple_variable\u001b[0m\u001b[1;33m[\u001b[0m\u001b[1;36m1\u001b[0m\u001b[1;33m:\u001b[0m\u001b[1;36m3\u001b[0m\u001b[1;33m]\u001b[0m \u001b[1;33m=\u001b[0m \u001b[1;33m(\u001b[0m\u001b[1;34m\"dd\"\u001b[0m\u001b[1;33m,\u001b[0m \u001b[1;34m\"ee\"\u001b[0m\u001b[1;33m)\u001b[0m \u001b[1;31m#슬라이싱으로 하는 것도 수정 불가능\u001b[0m\u001b[1;33m\u001b[0m\u001b[1;33m\u001b[0m\u001b[0m\n\u001b[0m\u001b[0;32m      2\u001b[0m \u001b[1;32mdel\u001b[0m \u001b[0mtuple_variable\u001b[0m\u001b[1;33m[\u001b[0m\u001b[1;36m0\u001b[0m\u001b[1;33m]\u001b[0m \u001b[1;31m#삭제도 불가능\u001b[0m\u001b[1;33m\u001b[0m\u001b[1;33m\u001b[0m\u001b[0m\n",
      "\u001b[1;31mTypeError\u001b[0m: 'tuple' object does not support item assignment"
     ]
    }
   ],
   "source": [
    "tuple_variable[1:3] = (\"dd\", \"ee\") #슬라이싱으로 하는 것도 수정 불가능\n",
    "del tuple_variable[0] #삭제도 불가능"
   ]
  },
  {
   "cell_type": "code",
   "execution_count": 28,
   "id": "68623186-d2d4-4333-a9ca-4a8659109118",
   "metadata": {},
   "outputs": [
    {
     "name": "stdout",
     "output_type": "stream",
     "text": [
      "<class 'tuple'>\n",
      "('음', '오', '아', '예')\n"
     ]
    }
   ],
   "source": [
    "#tuple은 소괄호 생략 가능\n",
    "t_v2 = \"음\", \"오\", \"아\", \"예\"\n",
    "print(type(t_v2))\n",
    "print(t_v2)"
   ]
  },
  {
   "cell_type": "code",
   "execution_count": 29,
   "id": "c503097a-69c1-4fdc-b3b7-786c2549db68",
   "metadata": {},
   "outputs": [],
   "source": [
    "#tuple은 빠르게 생성 가능하고 리스트보다 메모리 부담이 적은 대신 내용 변경이 불가함"
   ]
  },
  {
   "cell_type": "markdown",
   "id": "1b4f065e-9de5-41cb-b7c0-a583212e86e2",
   "metadata": {},
   "source": [
    "#### tuple, list 소요시간 비교"
   ]
  },
  {
   "cell_type": "code",
   "execution_count": 34,
   "id": "32cd4e0c-6578-41e5-a081-a842b3feb04d",
   "metadata": {},
   "outputs": [
    {
     "name": "stdout",
     "output_type": "stream",
     "text": [
      "16.210597276687622\n"
     ]
    }
   ],
   "source": [
    "#tuple\n",
    "import time\n",
    "\n",
    "curr = time.time()\n",
    "total = []\n",
    "\n",
    "for i in range(10000):\n",
    "    for j in range(10000):\n",
    "        total.append((i, j))\n",
    "    \n",
    "last = time.time()\n",
    "     \n",
    "print(last - curr)\n",
    "        "
   ]
  },
  {
   "cell_type": "code",
   "execution_count": 35,
   "id": "1f6b3aab-db3e-4907-a7b2-003052cbbd9f",
   "metadata": {},
   "outputs": [
    {
     "name": "stdout",
     "output_type": "stream",
     "text": [
      "41.73381757736206\n"
     ]
    }
   ],
   "source": [
    "#list\n",
    "curr = time.time()\n",
    "total = []\n",
    "\n",
    "for i in range(10000):\n",
    "    for j in range(10000):\n",
    "        total.append([i, j])\n",
    "    \n",
    "last = time.time()\n",
    "     \n",
    "print(last - curr)\n",
    "        "
   ]
  },
  {
   "cell_type": "markdown",
   "id": "6b692bcf-2ead-481a-86be-55fe66dc3d7e",
   "metadata": {},
   "source": [
    "#### unpacking"
   ]
  },
  {
   "cell_type": "code",
   "execution_count": 36,
   "id": "aaaf27d9-f65a-4c87-8635-37459184b739",
   "metadata": {},
   "outputs": [
    {
     "name": "stdout",
     "output_type": "stream",
     "text": [
      "text1\n",
      "text2\n"
     ]
    }
   ],
   "source": [
    "s1, s2 = \"text1\", \"text2\" #각각 넣어줄 수 있음\n",
    "print(s1)\n",
    "print(s2)"
   ]
  },
  {
   "cell_type": "code",
   "execution_count": 37,
   "id": "461ca3cc-2e7f-4240-a537-601ef4c47324",
   "metadata": {},
   "outputs": [
    {
     "name": "stdout",
     "output_type": "stream",
     "text": [
      "이렇게 좋은 말\n"
     ]
    }
   ],
   "source": [
    "s3, s4, s5 = [\"이렇게\", \"좋은\", \"말\"]\n",
    "print(s3,s4,s5)"
   ]
  },
  {
   "cell_type": "code",
   "execution_count": 38,
   "id": "cd128c02-3fe0-4b0a-8ab5-97ed327494d2",
   "metadata": {},
   "outputs": [
    {
     "name": "stdout",
     "output_type": "stream",
     "text": [
      "문 자 열 도\n"
     ]
    }
   ],
   "source": [
    "s6,s7,s8,s9 = \"문자열도\"\n",
    "print(s6, s7, s8, s9)"
   ]
  },
  {
   "cell_type": "markdown",
   "id": "28c6c1d6-b1d7-45e4-966a-152500e7f9c3",
   "metadata": {},
   "source": [
    "#### input 사용 - 내가 입력하기"
   ]
  },
  {
   "cell_type": "code",
   "execution_count": 2,
   "id": "618a4d4e-ac60-4c61-9488-84cfbc513ed7",
   "metadata": {},
   "outputs": [
    {
     "name": "stdin",
     "output_type": "stream",
     "text": [
      "M 11\n"
     ]
    }
   ],
   "source": [
    "#input사용해 값 받아오기\n",
    "input_v = input(\"M\") #앤 아무거나 다\n",
    "#숫자만 허용하고 싶을때\n",
    "#정수 : int(input(\"입력:\"))\n",
    "#실수 : float(input(\"입력:\"))"
   ]
  },
  {
   "cell_type": "code",
   "execution_count": 3,
   "id": "d15f219e-8c07-4619-9581-69691c841063",
   "metadata": {},
   "outputs": [
    {
     "name": "stdout",
     "output_type": "stream",
     "text": [
      "input_v :  11 \n",
      "type_: <class 'str'>\n"
     ]
    }
   ],
   "source": [
    "print(\"input_v : \", input_v, \"\\ntype_:\", type(input_v))"
   ]
  },
  {
   "cell_type": "code",
   "execution_count": 7,
   "id": "3230d7d3-b013-443f-9993-ec37498b13bb",
   "metadata": {},
   "outputs": [
    {
     "name": "stdin",
     "output_type": "stream",
     "text": [
      "이름 :  ㅇ\n"
     ]
    },
    {
     "name": "stdout",
     "output_type": "stream",
     "text": [
      "ㅇ 씨, 안녕하세요.\n",
      "파이썬에 오신것을 환영합니다.\n"
     ]
    },
    {
     "name": "stdin",
     "output_type": "stream",
     "text": [
      "첫 번째 정수를 입력하세요: 300\n",
      "두 번째 정수를 입력하세요: 400\n"
     ]
    },
    {
     "name": "stdout",
     "output_type": "stream",
     "text": [
      "300 과 400 의 합은 700 입니다.\n"
     ]
    }
   ],
   "source": [
    "#연습\n",
    "name = input(\"이름 : \")\n",
    "print(name,\"씨, 안녕하세요.\\n파이썬에 오신것을 환영합니다.\")\n",
    "j1 = int(input(\"첫 번째 정수를 입력하세요:\"))\n",
    "j2 = int(input(\"두 번째 정수를 입력하세요:\"))\n",
    "print(j1, \"과\", j2,\"의 합은\", j1+j2, \"입니다.\")"
   ]
  },
  {
   "cell_type": "code",
   "execution_count": 3,
   "id": "1fe6d429-d47b-4230-8584-2eb32f33e3b2",
   "metadata": {},
   "outputs": [
    {
     "name": "stdin",
     "output_type": "stream",
     "text": [
      "경기장은 어디입니까? 0\n",
      "이긴 팀은 어디입니까? 0\n",
      "진 팀은 어디입니까? 0\n",
      "우수 선수는 누구입니까? 0\n",
      "스코어는 몇대몇입니까? 0\n"
     ]
    },
    {
     "name": "stdout",
     "output_type": "stream",
     "text": [
      "[속보] 0 가 0 로 승리...\n",
      "오늘 0 경기장에서 야구 경기가 있었습니다.\n",
      " 0 와 0 는 치열한 공방전을 펼쳤습니다.\n",
      "이 경기에서 0 가 맹활약을 했습니다.\n",
      "그 끝내 0 가 0 를 0 로 승리하였습니다.\n",
      "기사 끝.\n"
     ]
    }
   ],
   "source": [
    "#연습\n",
    "st = input(\"경기장은 어디입니까?\")\n",
    "w = input(\"이긴 팀은 어디입니까?\")\n",
    "l = input(\"진 팀은 어디입니까?\")\n",
    "v = input(\"우수 선수는 누구입니까?\")\n",
    "score = input(\"스코어는 몇대몇입니까?\")\n",
    "\n",
    "print(\"[속보]\", w,\"가\", score,\"로 승리...\\n오늘\",st,\"경기장에서 야구 경기가 있었습니다.\\n\",w,\"와\", l,\"는 치열한 공방전을 펼쳤습니다.\\n이 경기에서\", v,\"가 맹활약을 했습니다.\\n그 끝내\",w,\"가\",l,\"를\",score,\"로 승리하였습니다.\\n기사 끝.\")"
   ]
  },
  {
   "cell_type": "markdown",
   "id": "55dc4fed-c54a-4ba5-9355-729062ff3c29",
   "metadata": {},
   "source": [
    "#### split"
   ]
  },
  {
   "cell_type": "code",
   "execution_count": 4,
   "id": "985201e5-a37d-4008-ae2f-499088fa7fc9",
   "metadata": {},
   "outputs": [
    {
     "name": "stdout",
     "output_type": "stream",
     "text": [
      "<class 'list'>\n",
      "['1', '2', '3']\n"
     ]
    }
   ],
   "source": [
    "#split은 문자열 쪼개기\n",
    "result = '1,2,3'.split(',') #쉼표 기준으로 띄울게\n",
    "\n",
    "print(type(result))\n",
    "print(result)\n",
    "#list자료형으로 반환됨"
   ]
  },
  {
   "cell_type": "code",
   "execution_count": 13,
   "id": "f2f1f523-9eac-4207-9363-adc2a173b4cf",
   "metadata": {},
   "outputs": [
    {
     "name": "stdin",
     "output_type": "stream",
     "text": [
      "hh:mm:ss의 형태로 시간을 입력해주세요 11:22:#3\n"
     ]
    },
    {
     "name": "stdout",
     "output_type": "stream",
     "text": [
      "['11', '22', '#3']\n",
      "시 : 11\n",
      "분 : 22\n",
      "초 : #3\n"
     ]
    }
   ],
   "source": [
    "#연습\n",
    "clock = input(\"hh:mm:ss의 형태로 시간을 입력해주세요\").split(\":\")\n",
    "#or h,m,s = input(~).split(\":\")\n",
    "#c = clock.split(':')\n",
    "#print(c)\n",
    "print(clock)\n",
    "print(\"시 :\",clock[0])\n",
    "print(\"분 :\",clock[1])\n",
    "print(\"초 :\",clock[2])"
   ]
  },
  {
   "cell_type": "markdown",
   "id": "fea51339-3d1f-4901-a970-21ca7b87835c",
   "metadata": {},
   "source": [
    "#### map"
   ]
  },
  {
   "cell_type": "code",
   "execution_count": 17,
   "id": "6e268730-10f1-452e-a30a-7727ebb3befa",
   "metadata": {},
   "outputs": [
    {
     "name": "stdout",
     "output_type": "stream",
     "text": [
      "[1, 2, 3, 4]\n"
     ]
    }
   ],
   "source": [
    "#리스트 한번에 int만들어 줄때 map사용\n",
    "a = [1.2, 2.3, 3.5, 4.7]\n",
    "a = list(map(int, a))\n",
    "print(a)"
   ]
  },
  {
   "cell_type": "code",
   "execution_count": 36,
   "id": "220d2569-36f8-4d50-80b9-42902744f334",
   "metadata": {},
   "outputs": [
    {
     "name": "stdin",
     "output_type": "stream",
     "text": [
      "국,영,수,과 점수 입력 1,1,1,1\n"
     ]
    },
    {
     "name": "stdout",
     "output_type": "stream",
     "text": [
      "평균 점수는 1.0 입니다.\n"
     ]
    }
   ],
   "source": [
    "#연습\n",
    "kor,eng,mat,sci = map(int, input(\"국,영,수,과 점수 입력\").split(\",\")) #내가 짠건 list도 써줬었는데 여기 코드에서는 list로 만들 필요가 없어서 안써도 상관 없음\n",
    "avg = (kor+eng+mat+sci)/4\n",
    "\n",
    "print(\"평균 점수는\", avg,\"입니다.\")\n"
   ]
  },
  {
   "cell_type": "markdown",
   "id": "9faf6169-b468-4aec-9fd8-a45e3970b80c",
   "metadata": {},
   "source": [
    "#### sep"
   ]
  },
  {
   "cell_type": "code",
   "execution_count": 42,
   "id": "e5d872ff-cd28-4edc-a7fb-1a9fc7f7c878",
   "metadata": {},
   "outputs": [],
   "source": [
    "#'sep = 구분기호'로 쓰이고 맨뒤에 써줘야한다 == end\n",
    "#sep : 어떤 기호로 구분해줄건지/end : 다음프린트 구문하고 한줄로 쓰게 해줄건지 "
   ]
  },
  {
   "cell_type": "code",
   "execution_count": 41,
   "id": "4262f88d-9e5d-4610-b21a-664f8d9db7c3",
   "metadata": {},
   "outputs": [
    {
     "name": "stdout",
     "output_type": "stream",
     "text": [
      "2021/02/03 18:33:23\n"
     ]
    }
   ],
   "source": [
    "year = '2021'\n",
    "month = '02'\n",
    "day = '03'\n",
    "hour = '18'\n",
    "minute = '33'\n",
    "second = '23'\n",
    "\n",
    "print(year, month, day, sep ='/', end=\" \")\n",
    "print(hour, minute, second, sep=':')"
   ]
  },
  {
   "cell_type": "code",
   "execution_count": 63,
   "id": "3797d3d4-7cf7-4e33-812d-d82bfcbf4fc0",
   "metadata": {},
   "outputs": [
    {
     "name": "stdin",
     "output_type": "stream",
     "text": [
      "사과와 귤을 몇개 드릴까요? 10,20\n"
     ]
    },
    {
     "name": "stdout",
     "output_type": "stream",
     "text": [
      "총 가격은 14000원 입니다.\n"
     ]
    }
   ],
   "source": [
    "#연습\n",
    "ap, gu = map(int, input(\"사과와 귤을 몇개 드릴까요?\").split(\",\"))\n",
    "t = ap*1000+gu*200\n",
    "\n",
    "print(\"총 가격은\", str(t)+\"원 입니다.\")#나는 '14000 원'이떨어져서 나오는걸 str() 즉, 문자열로 변환해서 더해줌"
   ]
  },
  {
   "cell_type": "markdown",
   "id": "d6e938dd-1232-4155-92e7-7720e9ae9880",
   "metadata": {},
   "source": [
    "#### if"
   ]
  },
  {
   "cell_type": "code",
   "execution_count": 67,
   "id": "c03fc2e6-1ebc-433e-b8f0-02df9d65ed20",
   "metadata": {},
   "outputs": [
    {
     "name": "stdout",
     "output_type": "stream",
     "text": [
      "input_value4는 정수입니다.\n"
     ]
    }
   ],
   "source": [
    "#input_value4 타입이 int면 True -> is사용해서 판별\n",
    "input_value4 = 3\n",
    "type(input_value4) is int\n",
    "\n",
    "#input_value4가 int일 때 프린트 문구 출력해줌\n",
    "if type(input_value4) is int:\n",
    "    print(\"input_value4는 정수입니다.\")"
   ]
  },
  {
   "cell_type": "markdown",
   "id": "6fbc6440-9a17-4ff7-bcd0-27801e3d7b99",
   "metadata": {},
   "source": [
    "##### if와 elif"
   ]
  },
  {
   "cell_type": "code",
   "execution_count": 68,
   "id": "7e3fb453-e74b-449a-942c-3a00495a53a5",
   "metadata": {},
   "outputs": [
    {
     "name": "stdout",
     "output_type": "stream",
     "text": [
      "30대 입니다\n",
      "감사합니다.\n"
     ]
    }
   ],
   "source": [
    "age = 39\n",
    "\n",
    "if 20 <= age <30: #다른 언어에서는 and,or같은 논리연산자를 하나하나 써줘야함\n",
    "    print(\"20대 입니다\")\n",
    "elif 30 <= age < 40:\n",
    "    print(\"30대 입니다\")\n",
    "    \n",
    "print(\"감사합니다.\")\n",
    "\n",
    "#순서는 '30<=age'먼저 나와도 됨, 하지만 2,3배수처럼 겹치는 것이 있으면 순서 바꾸면 값이 달라짐"
   ]
  },
  {
   "cell_type": "markdown",
   "id": "328ee9e6-5b37-49f1-9aa7-d19f0a3064dc",
   "metadata": {},
   "source": [
    "##### if, elif, else"
   ]
  },
  {
   "cell_type": "code",
   "execution_count": null,
   "id": "9c8b6c73-f12c-4d0e-a28b-32f0bd772b32",
   "metadata": {},
   "outputs": [],
   "source": [
    "#3개 이상 조건문일 때\n",
    "age = 40\n",
    "\n",
    "if 20 <= age <30:\n",
    "    print(\"20대입니다.\")\n",
    "elif"
   ]
  },
  {
   "cell_type": "code",
   "execution_count": 74,
   "id": "507df921-ef77-412b-ba2d-23c556736138",
   "metadata": {},
   "outputs": [
    {
     "name": "stdin",
     "output_type": "stream",
     "text": [
      "아이디를 입력하세요 h\n",
      "회원 등급을 입력해주세요 6\n"
     ]
    },
    {
     "name": "stdout",
     "output_type": "stream",
     "text": [
      "권한이 없습니다\n"
     ]
    }
   ],
   "source": [
    "#연습\n",
    "u_id = input(\"아이디를 입력하세요\")\n",
    "u_ra = int(input(\"회원 등급을 입력해주세요\"))\n",
    "\n",
    "if u_id == 'admin':\n",
    "    print(\"최고 관리자, 모든 권한을 갖습니다.\")\n",
    "elif u_ra <= 3 :\n",
    "    print(\"제한적인 권한을 갖습니다\")\n",
    "else :\n",
    "    print(\"권한이 없습니다\")"
   ]
  },
  {
   "cell_type": "code",
   "execution_count": null,
   "id": "373a1f74-a475-4172-ad01-2be3b6c219bb",
   "metadata": {},
   "outputs": [],
   "source": []
  }
 ],
 "metadata": {
  "kernelspec": {
   "display_name": "Python 3 (ipykernel)",
   "language": "python",
   "name": "python3"
  },
  "language_info": {
   "codemirror_mode": {
    "name": "ipython",
    "version": 3
   },
   "file_extension": ".py",
   "mimetype": "text/x-python",
   "name": "python",
   "nbconvert_exporter": "python",
   "pygments_lexer": "ipython3",
   "version": "3.9.13"
  }
 },
 "nbformat": 4,
 "nbformat_minor": 5
}
