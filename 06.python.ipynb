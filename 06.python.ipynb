{
 "cells": [
  {
   "cell_type": "markdown",
   "id": "4663ea7c-cfa3-42d1-b8f0-813df184b76a",
   "metadata": {},
   "source": [
    "# 23/1/11(수요일)"
   ]
  },
  {
   "cell_type": "markdown",
   "id": "0d13d124-1d4d-4846-8367-b29f30ce8627",
   "metadata": {},
   "source": [
    "### for, while"
   ]
  },
  {
   "cell_type": "code",
   "execution_count": 30,
   "id": "01a4cfaf-d1f9-4a38-a79f-d58d94d4e01a",
   "metadata": {},
   "outputs": [
    {
     "name": "stdout",
     "output_type": "stream",
     "text": [
      "[0, 2, 1, 2, 1, 4]\n",
      "최고득표 4\n",
      "index: 5\n",
      "당선자: 김태형\n",
      "후보가 총 0표를 받아 당선되었습니다.\n"
     ]
    }
   ],
   "source": [
    "#연습\n",
    "#내가한거\n",
    "# votes = [2, 5, 3, 4, 1, 5, 1, 5, 5, 3] # 숫자 1~5까지\n",
    "# candidates = [\"\", \"전정국\", \"김남준\", \"박지민\", \"정호석\", \"김태형\"] # index 0~5까지\n",
    "# #숫자리스트가 돌면서 사람인덱스와 부합하면 +1\n",
    "\n",
    "# for i in votes: #i는 votes를 반복하기 위한아이\n",
    "#     print(i, end = \" \")\n",
    "\n",
    "#     for j in if candiates[]\n",
    "\n",
    "# 1. 사람은 인덱스를 활용,  카운트할 담을 상자 하나 만들기? ,투표 리스트가 돌면서 각 인덱스 수에 부합하면 상자에 누적되게하기?\n",
    "# print(캔디 보트)\n",
    "\n",
    "\n",
    "\n",
    "#선생님코드\n",
    "#1)for문\n",
    "votes = [2, 5, 3, 4, 1, 5, 1, 5, 5, 3] \n",
    "candidates = [\"\", \"전정국\", \"김남준\", \"박지민\", \"정호석\", \"김태형\"]\n",
    "counts = [0] * len(candidates)\n",
    "\n",
    "\n",
    "for vote in votes:\n",
    "    counts[vote] += 1\n",
    "print(counts)\n",
    "\n",
    "max_counts = max(counts) #4\n",
    "elected_person = counts.index(max_count) #5\n",
    "print(\"최고득표\", max_counts)\n",
    "print(\"index:\", elected_person)\n",
    "print(\"당선자:\", candidates[elected_person])\n",
    "\n",
    "\n",
    "\n",
    "#2)while문\n",
    "i = 1\n",
    "max_count = 0\n",
    "elected_person = 0\n",
    "#0,1,2,3,4,5\n",
    "\n",
    "while i < len(counts) : #Len(counts => 6)\n",
    "    if max_count < counts[i]:\n",
    "        max_count = counts[i]\n",
    "        elected_person = i\n",
    "    i += 1\n",
    "        \n",
    "print(f\"{candidates[elected_person]}후보가 총 {max_count}표를 받아 당선되었습니다.\")\n"
   ]
  },
  {
   "cell_type": "markdown",
   "id": "8b26a06d-8c8e-477c-b96c-06cf5b081893",
   "metadata": {},
   "source": [
    "#### dictionary"
   ]
  },
  {
   "cell_type": "code",
   "execution_count": 35,
   "id": "ccbe60d0-cbaa-4ecd-8faa-63c6e73550a6",
   "metadata": {},
   "outputs": [
    {
     "name": "stdout",
     "output_type": "stream",
     "text": [
      "[1, 2, 3, 4, 5, 6, 7, 8, 9]\n"
     ]
    }
   ],
   "source": [
    "#리스트 컴프리헨션\n",
    "list_c = [i for i in range(1, 10)] #1~9를 한번에만드는게아니라 필요할떄마다 그때그때 만듦\n",
    "print(list_c)"
   ]
  },
  {
   "cell_type": "code",
   "execution_count": 37,
   "id": "4a5743e7-731e-4e7e-9906-35c892dd6b0f",
   "metadata": {},
   "outputs": [
    {
     "name": "stdout",
     "output_type": "stream",
     "text": [
      "[1, 3, 5, 7, 9]\n"
     ]
    }
   ],
   "source": [
    "#연습 \n",
    "prac_result2 = [i for i in range(1, 10, 2)]\n",
    "print(prac_result2)"
   ]
  },
  {
   "cell_type": "code",
   "execution_count": 43,
   "id": "c3d241bb-a9c9-40c7-8e55-cdb7ea97827a",
   "metadata": {},
   "outputs": [
    {
     "name": "stdout",
     "output_type": "stream",
     "text": [
      "['a', 'b', 'c', 'd', 'e', 'f', 'g', 'h', 'i', 'j', 'k', 'l', 'm', 'n', 'o', 'p', 'q', 'r', 's', 't', 'u', 'v', 'w', 'x', 'y', 'z']\n"
     ]
    }
   ],
   "source": [
    "#연습\n",
    "abc = 'abcdefghijklmnopqrstuvwxyz'\n",
    "\n",
    "prac_result3 = [i for i in abc]\n",
    "print(prac_result3)"
   ]
  },
  {
   "cell_type": "code",
   "execution_count": 81,
   "id": "c062f9b2-2963-4b13-8310-a383d7a367b6",
   "metadata": {},
   "outputs": [
    {
     "name": "stdout",
     "output_type": "stream",
     "text": [
      "['2', '3', '4', '5', '6', '7', '8', '9', '10', 'J', 'Q', 'K', 'A']\n"
     ]
    }
   ],
   "source": [
    "#연습\n",
    "\n",
    "\n",
    "\n",
    "#선생님코드\n",
    "prac_result4 = [str(i) for i in range(2, 11)] + [i for i in 'JQKA']\n",
    "#print()\n",
    "\n",
    "#prac_result4 \n",
    "\n",
    "\n",
    "print(prac_result4)"
   ]
  },
  {
   "cell_type": "code",
   "execution_count": 80,
   "id": "68d9c87b-d3e6-40b9-94ac-c9116c5b53a3",
   "metadata": {},
   "outputs": [
    {
     "ename": "SyntaxError",
     "evalue": "invalid syntax (3098406746.py, line 3)",
     "output_type": "error",
     "traceback": [
      "\u001b[1;36m  File \u001b[1;32m\"C:\\Users\\playdata\\AppData\\Local\\Temp\\ipykernel_15968\\3098406746.py\"\u001b[1;36m, line \u001b[1;32m3\u001b[0m\n\u001b[1;33m    prac_result5 = ([str(i) for i in range(1, 11)] + [i for i in 'JQKA']) range(4)\u001b[0m\n\u001b[1;37m                                                                          ^\u001b[0m\n\u001b[1;31mSyntaxError\u001b[0m\u001b[1;31m:\u001b[0m invalid syntax\n"
     ]
    }
   ],
   "source": [
    "#연습\n",
    "#내코드\n",
    "prac_result5 = ([str(i) for i in range(1, 11)] + [i for i in 'JQKA']) range(4) #틀림\n",
    "print(prac_result5) \n",
    "\n",
    "#선생님 코드\n",
    "prac_result5 = [([str(i) for i in range(2, 11)] + [i for i in \"JQKA\"]) for i in range(4)]\n",
    "print(prac_result5)"
   ]
  },
  {
   "cell_type": "code",
   "execution_count": null,
   "id": "80c25ed6-eede-49bd-9219-2ef06a1affbf",
   "metadata": {},
   "outputs": [],
   "source": []
  },
  {
   "cell_type": "code",
   "execution_count": 86,
   "id": "8693265f-b657-4e39-80a8-b9e3caafadf9",
   "metadata": {},
   "outputs": [
    {
     "name": "stdout",
     "output_type": "stream",
     "text": [
      "['2', '3', '4', '5', '6', '7', '8', '9', '10', 'J', 'Q', 'K', 'A']\n",
      "[['2', '3', '4', '5', '6', '7', '8', '9', '10', 'J', 'Q', 'K', 'A'], ['2', '3', '4', '5', '6', '7', '8', '9', '10', 'J', 'Q', 'K', 'A'], ['2', '3', '4', '5', '6', '7', '8', '9', '10', 'J', 'Q', 'K', 'A'], ['2', '3', '4', '5', '6', '7', '8', '9', '10', 'J', 'Q', 'K', 'A']]\n",
      "prac_result4의 id: 2753198569152\n",
      "prac_result5 [0]: :2753200358848\n",
      "prac_result5 [1]: :2753200357632\n",
      "prac_result5 [2]: :2753199383552\n",
      "prac_result5 [3]: :2753199033920\n",
      "prac_result4의 id :  2753198569152\n",
      "prac_result6[0] : 2753199064128\n",
      "prac_result6[1] : 2753199379968\n",
      "prac_result6[2] : 2753199380992\n",
      "prac_result6[3] : 2753199370496\n"
     ]
    }
   ],
   "source": [
    "#예제\n",
    "prac_result4 = [str(i) for i in range(2, 11)] + [i for i in \"JQKA\"]\n",
    "print(prac_result4)\n",
    "\n",
    "prac_result5 = [([str(i) for i in range(2, 11)] + [i for i in \"JQKA\"]) for i in range(4)]\n",
    "print(prac_result5)\n",
    "#이때 range를 돌렸을 때 result4의 요소만 바꿨는데 다 바뀐이유는 result4의 주소가 여러군데 들어갔다고 생각해야함\n",
    "\n",
    "\n",
    "\n",
    "#이 메모리 주소를 조회할 수 있는 함수는 \"id()\"\n",
    "print(\"prac_result4의 id:\", id(prac_result4))\n",
    "\n",
    "for i, v in enumerate(prac_result5):\n",
    "    print(\"prac_result5 [\", i, \"]: :\", id(v), sep = \"\")\n",
    "    \n",
    "\n",
    "    \n",
    "#슬라이싱으로 반복해주기    \n",
    "prac_result6 = [prac_result4[:] for i in range(4)]\n",
    "\n",
    "print(\"prac_result4의 id : \", id(prac_result4))\n",
    "for i, v in enumerate(prac_result6):\n",
    "    print(\"prac_result6[\", i, \"] : \", id(v), sep =\"\") #얜 슬라이싱해서 메모리상에 새롭게 만들어 나온 결과고 메모리 주소를 새롭게 받아서 출력했을 때 위의 결과와 다르게 나오는 것임\n"
   ]
  },
  {
   "cell_type": "code",
   "execution_count": 87,
   "id": "3509f277-b344-4d4a-9098-ce9fa991a738",
   "metadata": {},
   "outputs": [
    {
     "name": "stdout",
     "output_type": "stream",
     "text": [
      "2753200263040\n",
      "2753200283968\n",
      "False\n",
      "True\n"
     ]
    }
   ],
   "source": [
    "#예제(연습문제)\n",
    "\n",
    "#[1,2,3,4,5,6,7,8,9]\n",
    "old_list = list(range(10))\n",
    "new_list = old_list[:]#슬라이싱은 복사가됨\n",
    "\n",
    "print(id(old_list))\n",
    "print(id(new_list))\n",
    "print(old_list is new_list) #id와 id를 비교했을 때 다르면 Fasle\n",
    "print(old_list == new_list)#출력된 값만 맞으면 True, 위의 예시로는 [1,2,3,4,5,6,7,8,9]이 값이 동일하게 출력됨\n"
   ]
  },
  {
   "cell_type": "code",
   "execution_count": 90,
   "id": "e7f19375-b0bb-443c-b623-f0136c324d95",
   "metadata": {},
   "outputs": [
    {
     "name": "stdout",
     "output_type": "stream",
     "text": [
      "2753199051248\n",
      "2753199051248\n"
     ]
    }
   ],
   "source": [
    "str_sample = \"This is str.\"\n",
    "str2 = str_sample[:]\n",
    "\n",
    "print(id(str_sample))\n",
    "print(id(str2)) #list처럼 가변적일 때는 주소를 복사하게 되어있음, 문자열/튜플등은 변하지 않아 슬라이싱등을 사용해도 복사하지 않고 원래 쓰던 id값을 사용"
   ]
  },
  {
   "cell_type": "code",
   "execution_count": 92,
   "id": "d29e3e5c-0984-472a-b6cd-32e0e1785eb1",
   "metadata": {},
   "outputs": [
    {
     "name": "stdout",
     "output_type": "stream",
     "text": [
      "2753200230064\n",
      "2753200230064\n"
     ]
    }
   ],
   "source": [
    "#list처럼 가변적일 때는 주소를 복사하게 되어있음, 문자열/튜플등은 변하지 않아 슬라이싱등을 사용해도 복사하지 않고 원래 쓰던 id값을 사용\n",
    "#java는 ==가 python의 is역할함(즉 python하고 반대임)\n",
    "\n",
    "#문자열일 때\n",
    "str_a = \"HH\"\n",
    "str_b = \"HH\"\n",
    "print(id(str_a))\n",
    "print(id(str_b))"
   ]
  },
  {
   "cell_type": "code",
   "execution_count": 96,
   "id": "c713f339-f323-469d-a443-52a1e19b96eb",
   "metadata": {},
   "outputs": [
    {
     "name": "stdin",
     "output_type": "stream",
     "text": [
      "순환할 숫자 :  10\n"
     ]
    },
    {
     "name": "stdout",
     "output_type": "stream",
     "text": [
      "[1, 2, 3, 4, 5, 6, 7, 8, 9, 10]\n"
     ]
    }
   ],
   "source": [
    "#연습\n",
    "a = int(input(\"순환할 숫자 : \"))\n",
    "\n",
    "tv = [i for i in range(1, a+1)]\n",
    "\n",
    "print(tv)\n",
    "\n",
    "#a의 숫자를 인덱스를 활용해 숫자를 빼주거나\n",
    "#append이용해서 첫번째를 맨뒤로 보내주기"
   ]
  },
  {
   "cell_type": "code",
   "execution_count": 121,
   "id": "aa649be0-e38c-4bc7-a395-66d035e64267",
   "metadata": {},
   "outputs": [
    {
     "name": "stdout",
     "output_type": "stream",
     "text": [
      "1\t1\t1\t1\t1\t1\t1\t1\t1\t2\t2\t2\t2\t2\t2\t2\t2\t2\t3\t3\t3\t3\t3\t3\t3\t3\t3\t4\t4\t4\t4\t4\t4\t4\t4\t4\t5\t5\t5\t5\t5\t5\t5\t5\t5\t6\t6\t6\t6\t6\t6\t6\t6\t6\t7\t7\t7\t7\t7\t7\t7\t7\t7\t8\t8\t8\t8\t8\t8\t8\t8\t8\t9\t9\t9\t9\t9\t9\t9\t9\t9\t10\t10\t10\t10\t10\t10\t10\t10\t10\t"
     ]
    },
    {
     "name": "stdin",
     "output_type": "stream",
     "text": [
      "순환할 숫자를 입력하세요 :  10\n"
     ]
    },
    {
     "name": "stdout",
     "output_type": "stream",
     "text": [
      "1 2 3 4 5 6 7 8 9 10 \n",
      "2 3 4 5 6 7 8 9 10 1 \n",
      "3 4 5 6 7 8 9 10 1 2 \n",
      "4 5 6 7 8 9 10 1 2 3 \n",
      "5 6 7 8 9 10 1 2 3 4 \n",
      "6 7 8 9 10 1 2 3 4 5 \n",
      "7 8 9 10 1 2 3 4 5 6 \n",
      "8 9 10 1 2 3 4 5 6 7 \n",
      "9 10 1 2 3 4 5 6 7 8 \n",
      "10 1 2 3 4 5 6 7 8 9 \n"
     ]
    },
    {
     "name": "stdin",
     "output_type": "stream",
     "text": [
      "순환할 숫자를 입력하세요: 10\n"
     ]
    },
    {
     "name": "stdout",
     "output_type": "stream",
     "text": [
      "1 2 3 4 5 6 7 8 9 10 \n",
      "2 3 4 5 6 7 8 9 10 1 \n",
      "3 4 5 6 7 8 9 10 1 2 \n",
      "4 5 6 7 8 9 10 1 2 3 \n",
      "5 6 7 8 9 10 1 2 3 4 \n",
      "6 7 8 9 10 1 2 3 4 5 \n",
      "7 8 9 10 1 2 3 4 5 6 \n",
      "8 9 10 1 2 3 4 5 6 7 \n",
      "9 10 1 2 3 4 5 6 7 8 \n",
      "10 1 2 3 4 5 6 7 8 9 \n"
     ]
    }
   ],
   "source": [
    "#연습\n",
    "#내코드\n",
    "# for i in range(1, 11):\n",
    "#     for j in range(9):\n",
    "#         print(i, end =\"\\t\")\n",
    " \n",
    "\n",
    "#선생님 코드\n",
    "n = int(input(\"순환할 숫자를 입력하세요 : \"))\n",
    "\n",
    "for i in range(1, n + 1):\n",
    "        for j in range(i, n + i):\n",
    "            if j % n == 0:\n",
    "                print(n, end = \" \")\n",
    "            else:\n",
    "                print(j % n, end = \" \")\n",
    "        print()\n",
    "        \n",
    "#다른방법\n",
    "num = int(input(\"순환할 숫자를 입력하세요:\"))\n",
    "\n",
    "e = [i for i in range(1, num+1)]\n",
    "for j in range(len(e)):\n",
    "    j = 0\n",
    "    for i in e:\n",
    "        print(i,end=\" \")\n",
    "    print()\n",
    "    e.append(e[j])\n",
    "    e.remove(e[j])"
   ]
  },
  {
   "cell_type": "code",
   "execution_count": 114,
   "id": "fa642810-3d8c-41fe-9715-909f862b1075",
   "metadata": {},
   "outputs": [
    {
     "name": "stdin",
     "output_type": "stream",
     "text": [
      "순환할 숫자를 입력하세요 :  10\n"
     ]
    },
    {
     "name": "stdout",
     "output_type": "stream",
     "text": [
      "1 2 3 4 5 6 7 8 9 10 \n",
      "2 3 4 5 6 7 8 9 10 1 \n",
      "3 4 5 6 7 8 9 10 1 2 \n",
      "4 5 6 7 8 9 10 1 2 3 \n",
      "5 6 7 8 9 10 1 2 3 4 \n",
      "6 7 8 9 10 1 2 3 4 5 \n",
      "7 8 9 10 1 2 3 4 5 6 \n",
      "8 9 10 1 2 3 4 5 6 7 \n",
      "9 10 1 2 3 4 5 6 7 8 \n",
      "10 1 2 3 4 5 6 7 8 9 \n"
     ]
    }
   ],
   "source": [
    "n = int(input(\"순환할 숫자를 입력하세요 : \"))\n",
    "\n",
    "for i in range(1, n + 1):\n",
    "        for j in range(i, n + i):\n",
    "            if j % n == 0:\n",
    "                print(n, end = \" \")\n",
    "            else:\n",
    "                print(j % n, end = \" \")\n",
    "        print()\n",
    "        \n",
    "#다른방법\n",
    "num = int(input(\"순환할 숫자를 입력하세요:\"))\n",
    "e = [i for i in range(1, num+1)]\n",
    "for j in range(len(e)):\n",
    "    j = 0\n",
    "    for i in e:\n",
    "        print(i,end=\" \")\n",
    "    print()\n",
    "    e.append(e[j])\n",
    "    e.remove(e[j])"
   ]
  },
  {
   "cell_type": "markdown",
   "id": "863694e4-81f8-49d4-a07a-7d6a25f8aa9c",
   "metadata": {},
   "source": [
    "#### copy"
   ]
  },
  {
   "cell_type": "code",
   "execution_count": 123,
   "id": "a12c59ec-0acb-4aa6-b759-8df5f44b351f",
   "metadata": {},
   "outputs": [
    {
     "name": "stdout",
     "output_type": "stream",
     "text": [
      "2753200283904\n",
      "2753200311104\n",
      "False\n",
      "[999, 1, 2, 3, 4, 5, 6, 7, 8, 9]\n",
      "[0, 1, 2, 3, 4, 5, 6, 7, 8, 9]\n"
     ]
    }
   ],
   "source": [
    "#리스트복사\n",
    "# .copy()\n",
    "\n",
    "#예제\n",
    "list_g = list(range(10))\n",
    "list_h = list_g.copy()\n",
    "\n",
    "print(id(list_g))\n",
    "print(id(list_h))\n",
    "\n",
    "print(list_g is list_h)\n",
    "\n",
    "#예제\n",
    "list_g[0] = 999\n",
    "print(list_g)\n",
    "print(list_h) #서로 다른 객체이기 때문에 서로간 영향이 없음"
   ]
  },
  {
   "cell_type": "code",
   "execution_count": 144,
   "id": "4d2a9236-71f4-49a0-9228-2d50aec66b30",
   "metadata": {},
   "outputs": [
    {
     "name": "stdout",
     "output_type": "stream",
     "text": [
      "[[0], [0], [0]]\n",
      "[[999], [999], [999]]\n",
      "True\n",
      "[[1, 4], [3, 4]]\n",
      "True\n",
      "[[5, 999], [7, 8]]\n",
      "[[5, 999], [7, 8]]\n"
     ]
    }
   ],
   "source": [
    "#예제\n",
    "#shallow copy\n",
    "\n",
    "list_i = [[0]] * 3 #예를 들면 [{0}] * 3곱하면 [{0}, {0}, {0}]이런 결과가 나옴\n",
    "print(list_i)\n",
    "\n",
    "list_i[0][0] = 999 #[0][0]에서 첫번쨰 [0]은 전체리스트의 인덱스 0인애, 두번째[0]는 첫번쨰값의 0번쨰 인덱스\n",
    "print(list_i)\n",
    "\n",
    "list_i[0][0] is list_i[1][0]\n",
    "list_i[1][0] is list_i[2][0]\n",
    "list_i[0][0] is list_i[2][0]\n",
    "#슬라이싱, *, copy() 을 이용한 것도 얕은 복사임\n",
    "\n",
    "\n",
    "\n",
    "#슬라이싱 복사\n",
    "#1)\n",
    "list_j = [[1,2], [3,4]]\n",
    "list_k = list_j[:]\n",
    "print(list_k[0] is list_j[0])\n",
    "#2)위예제적용\n",
    "list_j[0][1] = 2 ** 2\n",
    "print(list_j)\n",
    "list(list_k)\n",
    "\n",
    "#copy()복사\n",
    "#1)\n",
    "list_l = [[5,6],[7,8]]\n",
    "list_m = list_l.copy()\n",
    "print(list_l[0] is list_m[0])\n",
    "#2)위예제적용\n",
    "list_l[0][1] = 999\n",
    "print(list_l)\n",
    "print(list_m)"
   ]
  },
  {
   "cell_type": "code",
   "execution_count": 157,
   "id": "ebf6f829-f382-4c39-b827-447385b0e1c7",
   "metadata": {},
   "outputs": [
    {
     "name": "stdout",
     "output_type": "stream",
     "text": [
      "False\n",
      "False\n",
      "11\n",
      "11\n",
      "[[9, 10], [30, 12]]\n",
      "[[9, 10], [11, 12]]\n"
     ]
    }
   ],
   "source": [
    "#깊은복사(deepcopy : 완전히 새로운 객체로 반환)\n",
    "#예제\n",
    "#copy라이브러리 필요\n",
    "import copy\n",
    "\n",
    "list_n = [[9,10], [11, 12]]\n",
    "list_o = copy.deepcopy(list_n)\n",
    "\n",
    "print(list_n is list_o)\n",
    "print(list_n[0] is list_o[0])\n",
    "\n",
    "print(list_n[1][0])\n",
    "print([11,12][0])\n",
    "#11값 변경하기\n",
    "list_n[1][0] = 30\n",
    "print(list_n)\n",
    "print(list_o)#이제 둘이 같지 않음"
   ]
  },
  {
   "cell_type": "code",
   "execution_count": 158,
   "id": "9a5ca1b6-e58c-42e2-a13e-d6d50dc2dc5e",
   "metadata": {},
   "outputs": [
    {
     "name": "stdout",
     "output_type": "stream",
     "text": [
      "[0, 3, 6, 9]\n"
     ]
    }
   ],
   "source": [
    "#리스트컴프리헨션( [expression for 변수 in iterable if 조건식]\n",
    "list_p = [i for i in range(10) if i % 3 == 0]\n",
    "print(list_p)\n",
    "\n",
    "#중첩해서도 사용가능\n",
    "       # [expression for 변수 in iterable for 변수 in iterable]\n",
    "       #   = for 변수 in iterable:\n",
    "       #         for 변수1 in iterable:\n",
    "       #               expression\n",
    "#\n",
    "#또 다른 방법(얘는 이렇게 여러 문단으로 나누어서 쓸 수 있음)\n",
    "      # [expression for 변수 in iterable\n",
    "      #             for 변수 in iterable\n",
    "      #            for 변수 in iterable\n",
    "      #            for 변수 in iterable]"
   ]
  },
  {
   "cell_type": "code",
   "execution_count": 160,
   "id": "b15323e7-4d51-4ee3-91d5-fb6aaa6791c6",
   "metadata": {},
   "outputs": [
    {
     "name": "stdout",
     "output_type": "stream",
     "text": [
      "1\n",
      "2\n",
      "3\n",
      "4\n",
      "5\n",
      "3\n",
      "4\n",
      "1\n",
      "2\n",
      "3\n",
      "4\n",
      "5\n",
      "3\n",
      "4\n"
     ]
    }
   ],
   "source": [
    "#중첩리스트 사용\n",
    "\n",
    "#1)for문\n",
    "easy_list = [[1,2,3,4,5], [3,4]] #[][]으로 나타내면 1~5가[0], 3~4가[1]/그 안에서 3이[0] 4가[1]\n",
    "\n",
    "for item in easy_list:\n",
    "    for i in item:\n",
    "        print(i)\n",
    "        \n",
    "#2)while문\n",
    "easy_list = [[1,2,3,4,5], [3,4]]\n",
    "\n",
    "i = 0 #east_list 인덱스 용\n",
    "\n",
    "while i < len(easy_list):\n",
    "    j = 0 #이 위치에 있으면 값을 넣는게 초기화라고 봐야함(이 자리에 와야 0~4까지 돌고 다음 리스트의 인덱스 0,1로 넘어갈 수 있음), easy_list[0], easy_list[1]용\n",
    "    while j < len(easy_list[i]):\n",
    "        print(easy_list[i][j])\n",
    "        j += 1\n",
    "    i += 1"
   ]
  },
  {
   "cell_type": "code",
   "execution_count": 163,
   "id": "e312dfed-9ed5-4d82-b016-1c926ab324a5",
   "metadata": {},
   "outputs": [
    {
     "name": "stdout",
     "output_type": "stream",
     "text": [
      "<generator object <genexpr> at 0x00000281078A3740>\n",
      "<class 'generator'>\n"
     ]
    },
    {
     "data": {
      "text/plain": [
       "True"
      ]
     },
     "execution_count": 163,
     "metadata": {},
     "output_type": "execute_result"
    }
   ],
   "source": [
    "#제너레이터 컴프리헨션\n",
    "#예제\n",
    "generator_variable = (i for i in range(10))\n",
    "\n",
    "print(generator_variable)\n",
    "print(type(generator_variable))\n",
    "\n",
    "#iterable\n",
    "#tuple(인수), list(인수)\n",
    "hasattr(generator_variable, \"__iter__\") #반복가능한게 있어? 물어보는애"
   ]
  },
  {
   "cell_type": "code",
   "execution_count": 171,
   "id": "87daae66-8d24-41fe-a4dd-59fc583e383d",
   "metadata": {},
   "outputs": [
    {
     "name": "stdout",
     "output_type": "stream",
     "text": [
      "['alpha', 'bravo', 'charlie', 'delta', 'india']\n",
      "['alpha', 'bravo', 'delta', 'hotel', 'india']\n"
     ]
    }
   ],
   "source": [
    "#연습\n",
    "a = ['alpha', 'bravo', 'charlie', 'delta', 'echo', 'foxtrot', 'golf', 'hotel', 'india']\n",
    "b = [i for i in a if \"a\" in i]\n",
    "print(b)\n",
    "#내가 문제를 잘못봄, a가 들어간게 아니라 a리스트에서 길이가 5인 것들만 출력하는 거임\n",
    "\n",
    "\n",
    "#선생님코드\n",
    "a = ['alpha', 'bravo', 'charlie', 'delta', 'echo', 'foxtrot', 'golf', 'hotel', 'india']\n",
    "b = [s for s in a if len(s) == 5]\n",
    "print(b)"
   ]
  },
  {
   "cell_type": "code",
   "execution_count": 185,
   "id": "2a054158-910a-47d6-a749-386e418f9726",
   "metadata": {},
   "outputs": [
    {
     "name": "stdin",
     "output_type": "stream",
     "text": [
      "숫자띄어쓰기로 구분하여 여럿 1 16\n"
     ]
    },
    {
     "name": "stdout",
     "output_type": "stream",
     "text": [
      "\n"
     ]
    }
   ],
   "source": [
    "#연습\n",
    "# n = list(map(int, input(\"정수 두 개 입력 :\")).split())\n",
    "n = list(map(int, input(\"숫자띄어쓰기로 구분하여 여럿\").split()))\n",
    "# print(n)\n",
    "\n",
    "for i in range(1, 11):\n",
    "    \n",
    "\n",
    "if 1 <= n[0] <= 20 and  n[0] < n[1]:\n",
    "    print()\n",
    "elif 10 <= n[1] <=30:\n",
    "    print(\"2\")"
   ]
  },
  {
   "cell_type": "code",
   "execution_count": 211,
   "id": "e3118715-9dae-4cd5-bc82-2ddb1d4eb49a",
   "metadata": {},
   "outputs": [
    {
     "name": "stdin",
     "output_type": "stream",
     "text": [
      "숫자띄어쓰기로 구분하여 여럿 1 10\n"
     ]
    },
    {
     "name": "stdout",
     "output_type": "stream",
     "text": [
      "1\n",
      "2\n",
      "3\n",
      "4\n",
      "5\n",
      "6\n",
      "7\n",
      "8\n",
      "9\n",
      "10\n"
     ]
    }
   ],
   "source": [
    "n = list(map(int, input(\"숫자띄어쓰기로 구분하여 여럿\").split()))\n",
    "star = [2**i for i in range(a,b+1)]\n",
    "\n",
    "for i in range(0, n[1]) :\n",
    "    i += 1\n",
    "    if 1 <= n[0] <= 20 and  n[0] < n[1]:\n",
    "        print(i)\n",
    "    elif 10 <= n[1] <=30:\n",
    "        print(i)\n",
    "           \n",
    "    # if\n"
   ]
  },
  {
   "cell_type": "code",
   "execution_count": 228,
   "id": "174f2a5f-73bd-4b9a-8187-7d73aad7d10f",
   "metadata": {},
   "outputs": [
    {
     "name": "stdin",
     "output_type": "stream",
     "text": [
      "정수 두 개 입력하세요.: 1 10\n"
     ]
    },
    {
     "name": "stdout",
     "output_type": "stream",
     "text": [
      "i\n",
      "[2, 8, 16, 32, 64, 128, 256, 1024]\n"
     ]
    },
    {
     "name": "stdin",
     "output_type": "stream",
     "text": [
      "정수 두 개 입력하세요.: 1 10\n"
     ]
    },
    {
     "name": "stdout",
     "output_type": "stream",
     "text": [
      "[2, 4, 8, 16, 32, 64, 128, 256, 512, 1024]\n"
     ]
    }
   ],
   "source": [
    "#연습\n",
    "a, b = map(int,input(\"정수 두 개 입력하세요.:\").split())\n",
    "\n",
    "if a < b:\n",
    "    if 1 <= a <= 20 :\n",
    "        if 10 <= b <= 30 :\n",
    "            print(\"i\")\n",
    "                        \n",
    "star = [2**i for i in range(a,b+1)]\n",
    "\n",
    "del star[1]\n",
    "del star[-2]\n",
    "\n",
    "print(star)\n",
    "\n",
    "#다릌 코드\n",
    "a, b = map(int,input(\"정수 두 개 입력하세요.:\").split())\n",
    "\n",
    "star = [2**i for i in range(a,b+1)]\n",
    "\n",
    "if a < b:\n",
    "    if 1 <= a <= 20 :\n",
    "        if 10 <= b <= 30 :\n",
    "            print(nu)\n",
    "        else :\n",
    "            print(\"두 번째 값의 범위는 10 ~ 30입니다.\")\n",
    "    else :\n",
    "        print(\"첫 번째 값의 범위는 1 ~ 20입니다.\")\n",
    "else:\n",
    "\n",
    "    print(\"첫 번째 입력 값은 두 번째 입력값보다 작게 입력하세요\")"
   ]
  },
  {
   "cell_type": "code",
   "execution_count": 250,
   "id": "6521b02d-3f6e-4c0b-8c9b-174417e4b655",
   "metadata": {},
   "outputs": [
    {
     "name": "stdout",
     "output_type": "stream",
     "text": [
      "- 1 + 4 - 9 + 16 - 25 + 36 - 49 + 64 - 81 + 100 \n",
      "- 121 + 144 - 169 + 196 - 225 + 256 - 289 + 324 - 361 + 400 \n",
      "- 441 + 484 - 529 + 576 - 625 + 676 - 729 + 784 - 841 + 900 \n",
      "- 961 + 1024 - 1089 + 1156 - 1225 + 1296 - 1369 + 1444 - 1521 + 1600 \n",
      "- 1681 + 1764 - 1849 + 1936 - 2025 + 2116 - 2209 + 2304 - 2401 + 2500 \n",
      "- 2601 + 2704 - 2809 + 2916 - 3025 + 3136 - 3249 + 3364 - 3481 + 3600 \n",
      "- 3721 + 3844 - 3969 + 4096 - 4225 + 4356 - 4489 + 4624 - 4761 + 4900 \n",
      "- 5041 + 5184 - 5329 + 5476 - 5625 + 5776 - 5929 + 6084 - 6241 + 6400 \n",
      "- 6561 + 6724 - 6889 + 7056 - 7225 + 7396 - 7569 + 7744 - 7921 + 8100 \n",
      "- 8281 + 8464 - 8649 + 8836 - 9025 + 9216 - 9409 + 9604 - 9801 + 10000 \n",
      "= 338350 입니다.\n"
     ]
    }
   ],
   "source": [
    "#선생님코드\n",
    "i = 1\n",
    "line = 0\n",
    "total = 0\n",
    "\n",
    "while i <= 100:\n",
    "    if i % 2 == 0:\n",
    "        total += i * i\n",
    "        print(\"+\", i*i, end = \" \")\n",
    "    else:\n",
    "        total += i * i\n",
    "        print(\"-\", i*i, end = \" \")\n",
    "    i += 1\n",
    "    line += 1\n",
    "    if line == 10:\n",
    "        line = 0\n",
    "        print()\n",
    "        \n",
    "        \n",
    "print(\"=\", total, \"입니다.\")\n",
    "        "
   ]
  },
  {
   "cell_type": "code",
   "execution_count": 247,
   "id": "ed978b45-da5f-4a2f-9074-783583dedf0e",
   "metadata": {},
   "outputs": [
    {
     "name": "stdout",
     "output_type": "stream",
     "text": [
      "- 1\t+ 4\t- 9\t+ 16\t- 25\t+ 36\t- 49\t+ 64\t- 81\t+ 100\t- 121\t+ 144\t- 169\t+ 196\t- 225\t+ 256\t- 289\t+ 324\t- 361\t+ 400\t- 441\t+ 484\t- 529\t+ 576\t- 625\t+ 676\t- 729\t+ 784\t- 841\t+ 900\t- 961\t+ 1024\t- 1089\t+ 1156\t- 1225\t+ 1296\t- 1369\t+ 1444\t- 1521\t+ 1600\t- 1681\t+ 1764\t- 1849\t+ 1936\t- 2025\t+ 2116\t- 2209\t+ 2304\t- 2401\t+ 2500\t- 2601\t+ 2704\t- 2809\t+ 2916\t- 3025\t+ 3136\t- 3249\t+ 3364\t- 3481\t+ 3600\t- 3721\t+ 3844\t- 3969\t+ 4096\t- 4225\t+ 4356\t- 4489\t+ 4624\t- 4761\t+ 4900\t- 5041\t+ 5184\t- 5329\t+ 5476\t- 5625\t+ 5776\t- 5929\t+ 6084\t- 6241\t+ 6400\t- 6561\t+ 6724\t- 6889\t+ 7056\t- 7225\t+ 7396\t- 7569\t+ 7744\t- 7921\t+ 8100\t- 8281\t+ 8464\t- 8649\t+ 8836\t- 9025\t+ 9216\t- 9409\t+ 9604\t- 9801\t+ 10000\t- 1 + 4 - 9 + 16 - 25 + 36 - 49 + 64 - 81 + 100 \n",
      "- 121 + 144 - 169 + 196 - 225 + 256 - 289 + 324 - 361 + 400 \n",
      "- 441 + 484 - 529 + 576 - 625 + 676 - 729 + 784 - 841 + 900 \n",
      "- 961 + 1024 - 1089 + 1156 - 1225 + 1296 - 1369 + 1444 - 1521 + 1600 \n",
      "- 1681 + 1764 - 1849 + 1936 - 2025 + 2116 - 2209 + 2304 - 2401 + 2500 \n",
      "- 2601 + 2704 - 2809 + 2916 - 3025 + 3136 - 3249 + 3364 - 3481 + 3600 \n",
      "- 3721 + 3844 - 3969 + 4096 - 4225 + 4356 - 4489 + 4624 - 4761 + 4900 \n",
      "- 5041 + 5184 - 5329 + 5476 - 5625 + 5776 - 5929 + 6084 - 6241 + 6400 \n",
      "- 6561 + 6724 - 6889 + 7056 - 7225 + 7396 - 7569 + 7744 - 7921 + 8100 \n",
      "- 8281 + 8464 - 8649 + 8836 - 9025 + 9216 - 9409 + 9604 - 9801 + 10000 \n",
      "= 338350 입니다.\n"
     ]
    }
   ],
   "source": [
    "#연습\n",
    "#10개당 줄바꿈 이뤄져야하고\n",
    "#While문에 if 조건이 들어가야함, \n",
    "\n",
    "#내가한거\n",
    "i = 0\n",
    "\n",
    "while i < 100:\n",
    "    i +=1 \n",
    "    if i % 2 == 0:\n",
    "        print(\"+\",i ** 2, end =\"\\t\")\n",
    "    else:\n",
    "        print(\"-\",i ** 2, end = \"\\t\") \n",
    "        # print()\n",
    "# x**2하고 나서 + - 붙여주기\n",
    "# print()\n",
    "\n",
    "\n",
    "\n",
    "\n",
    "\n",
    "\n",
    "#선생님코드\n",
    "i = 1\n",
    "line = 0\n",
    "total = 0\n",
    "\n",
    "while i <= 100:\n",
    "    \n",
    "    if i % 2 == 0:\n",
    "        total += i * i\n",
    "        print(\"+\", i*i, end = \" \")\n",
    "    else:\n",
    "        total += i * i\n",
    "        print(\"-\", i*i, end = \" \")\n",
    "        \n",
    "    i += 1\n",
    "    line += 1\n",
    "    \n",
    "    if line == 10:\n",
    "        line = 0\n",
    "        print()\n",
    "        \n",
    "        \n",
    "print(\"=\", total, \"입니다.\")\n",
    "        "
   ]
  },
  {
   "cell_type": "code",
   "execution_count": null,
   "id": "487ad098-22cb-48e7-b41e-311bfb2d331a",
   "metadata": {},
   "outputs": [],
   "source": []
  },
  {
   "cell_type": "code",
   "execution_count": null,
   "id": "013f39b3-4943-4abb-b46a-72bfaf87cd6f",
   "metadata": {},
   "outputs": [],
   "source": []
  },
  {
   "cell_type": "code",
   "execution_count": null,
   "id": "b24ba176-8f8a-423c-97e1-c888772689f4",
   "metadata": {},
   "outputs": [],
   "source": []
  },
  {
   "cell_type": "code",
   "execution_count": null,
   "id": "c4f051ae-ee61-4141-9f58-f1fdb324b16a",
   "metadata": {},
   "outputs": [],
   "source": []
  },
  {
   "cell_type": "code",
   "execution_count": null,
   "id": "bcfb7bdb-d60c-4618-9040-80e8994d8aef",
   "metadata": {},
   "outputs": [],
   "source": []
  },
  {
   "cell_type": "code",
   "execution_count": null,
   "id": "591e4397-a847-4ff1-bd34-d834caab935d",
   "metadata": {},
   "outputs": [],
   "source": []
  }
 ],
 "metadata": {
  "kernelspec": {
   "display_name": "Python 3 (ipykernel)",
   "language": "python",
   "name": "python3"
  },
  "language_info": {
   "codemirror_mode": {
    "name": "ipython",
    "version": 3
   },
   "file_extension": ".py",
   "mimetype": "text/x-python",
   "name": "python",
   "nbconvert_exporter": "python",
   "pygments_lexer": "ipython3",
   "version": "3.9.13"
  }
 },
 "nbformat": 4,
 "nbformat_minor": 5
}
