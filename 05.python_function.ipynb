{
 "cells": [
  {
   "cell_type": "markdown",
   "id": "608b2c08-9968-46e8-8c94-79878122c1dd",
   "metadata": {},
   "source": [
    "# 23/1/10 (화요일)"
   ]
  },
  {
   "cell_type": "code",
   "execution_count": 42,
   "id": "71de242a-a6bb-46a6-ae98-0669707a2223",
   "metadata": {},
   "outputs": [
    {
     "name": "stdin",
     "output_type": "stream",
     "text": [
      "실기 점수 입력 1 2 3 4 5\n"
     ]
    },
    {
     "name": "stdout",
     "output_type": "stream",
     "text": [
      "5 1\n",
      "최대최소 제외 평균은 3.0입니다\n"
     ]
    }
   ],
   "source": [
    "#연습 \n",
    "#for문\n",
    "\n",
    "score = list(map(int,input(\"실기 점수 입력\").split()))\n",
    "\n",
    "ma = -1\n",
    "mi = 101\n",
    "sum = 0\n",
    "#total = 합계\n",
    "\n",
    "for i_t in score:\n",
    "    if i_t > ma:\n",
    "        ma = i_t\n",
    "        #print(\"max\", ma)\n",
    "    if i_t < mi:\n",
    "        mi = i_t\n",
    "        #print(\"min\", mi)\n",
    "print(ma,mi) \n",
    "\n",
    "for i in score:\n",
    "    if i != ma and i != mi:\n",
    "        sum += i\n",
    "        \n",
    "print(f\"최대최소 제외 평균은 {sum/3}입니다\")"
   ]
  },
  {
   "cell_type": "code",
   "execution_count": 43,
   "id": "d78192f3-7d8d-48fe-85c9-65e54e9c476f",
   "metadata": {},
   "outputs": [
    {
     "name": "stdout",
     "output_type": "stream",
     "text": [
      "[2, 1, 1, 1, 0]\n"
     ]
    }
   ],
   "source": [
    "#연습\n",
    "score = [86, 72, 98, 60, 45]\n",
    "grade_counter = [0, 0, 0, 0, 0]\n",
    "\n",
    "for i in score:\n",
    "    if 85 <= i <= 100:\n",
    "        grade_counter[0] += 1\n",
    "    elif 70 <= i <= 84:\n",
    "        grade_counter[1] += 1\n",
    "    elif 55 <= i <= 69:\n",
    "        grade_counter[2] += 1\n",
    "    elif 40 <= i <= 54 :\n",
    "        grade_counter[3] += 1\n",
    "    else:\n",
    "        grade_counter[4] += 1\n",
    "\n",
    "print(grade_counter)\n",
    "#range문에서 인덱스값을 이용한 작업이 필요할때 사용되며 i로 많이쓰임 또는 리스트가 아닐 때 / ex)순서대로 정렬할 때, 값을 비교할 때\n",
    "#in list를 쓸 때는 score(i라고 보면되고) 리스트이름을 scores라고 함 -> for socre in socres, 리스트 값만 사용할 땐 in list명을 씀"
   ]
  },
  {
   "cell_type": "code",
   "execution_count": 63,
   "id": "fda4d41e-8964-44c2-a75c-ff14d560c843",
   "metadata": {},
   "outputs": [
    {
     "name": "stdout",
     "output_type": "stream",
     "text": [
      "1\t2\tFizz\t4\tBuzz\tFizz\t7\t8\tFizz\tBuzz\t11\tFizz\t13\t14\tFizzBuzz\t16\t17\tFizz\t19\tBuzz\tFizz\t22\t23\tFizz\tBuzz\t26\tFizz\t28\t29\tFizzBuzz\t31\t32\tFizz\t34\tBuzz\tFizz\t37\t38\tFizz\tBuzz\t41\tFizz\t43\t44\tFizzBuzz\t46\t47\tFizz\t49\tBuzz\tFizz\t52\t53\tFizz\tBuzz\t56\tFizz\t58\t59\tFizzBuzz\t61\t62\tFizz\t64\tBuzz\tFizz\t67\t68\tFizz\tBuzz\t71\tFizz\t73\t74\tFizzBuzz\t76\t77\tFizz\t79\tBuzz\tFizz\t82\t83\tFizz\tBuzz\t86\tFizz\t88\t89\tFizzBuzz\t91\t92\tFizz\t94\tBuzz\tFizz\t97\t98\tFizz\tBuzz\t100\n"
     ]
    }
   ],
   "source": [
    "#연습\n",
    "#1)\n",
    "for i in range(1, 101):\n",
    "    if i % 3 == 0 and i % 5 == 0:\n",
    "        print(\"FizzBuzz\", end = \"\\t\")\n",
    "    elif i % 3 == 0:\n",
    "        print(\"Fizz\", end = \"\\t\")\n",
    "    elif i % 5 == 0:\n",
    "        print(\"Buzz\", end = \"\\t\")\n",
    "    else:\n",
    "        print(i, end = \"\\t\")\n",
    "print(i)\n",
    "\n",
    "#2)Ture == 1, False == 0으로 해보기\n",
    "\n",
    "#선생님꺼\n",
    "#1)\n",
    "for i in range(1, 101):\n",
    "    print(\"Fizz\"*(i % 3 == 0) + \"Buzz\"*(i % 5 ==0) or i)\n",
    "#2)\n"
   ]
  },
  {
   "cell_type": "code",
   "execution_count": null,
   "id": "d52689cd-0af0-4dd3-93aa-29e922472c52",
   "metadata": {},
   "outputs": [
    {
     "name": "stdout",
     "output_type": "stream",
     "text": [
      "m 또는 h가 이름에 포함된 사람은 3명 입니다.\n",
      "m 또는 h가 이름에 포함된 사람은 3명 입니다.\n"
     ]
    }
   ],
   "source": [
    "#연습\n",
    "#1)\n",
    "name_list = ['matthew', 'mark', 'luke', 'john', 'paul', 'peter']\n",
    "\n",
    "count = 0 #값을 넣어줄 주머니라 생각하기, 리스트로 받고 싶어서 []라 안쓰고 0만 쓰면 아무것도 없다고 생각하면 된.\n",
    "\n",
    "for i_t in name_list:\n",
    "    if \"m\" in i_t :\n",
    "        count += 1\n",
    "    elif \"h\" in i_t:\n",
    "        count += 1\n",
    "\n",
    "print(f\"m 또는 h가 이름에 포함된 사람은 {count}명 입니다.\")\n",
    "\n",
    "\n",
    "\n",
    "#2)다른방법\n",
    "name_list = ['matthew', 'mark', 'luke', 'john', 'paul', 'peter']\n",
    "\n",
    "count = 0\n",
    "\n",
    "for i_t in name_list:\n",
    "    if (\"m\" in i_t) or (\"h\" in i_t):\n",
    "        count += 1\n",
    "        \n",
    "print(f\"m 또는 h가 이름에 포함된 사람은 {count}명 입니다.\")\n",
    "\n",
    "\n",
    "\n",
    "#선생님 for문\n",
    "for name in list:\n",
    "    for n in name:\n",
    "        if n == \"m\" or n == \"h\":\n",
    "            count += 1\n",
    "            break #continue vs break!\n",
    "\n",
    "            "
   ]
  },
  {
   "cell_type": "code",
   "execution_count": 6,
   "id": "65d41199-5576-4339-9b42-afa80f639a77",
   "metadata": {},
   "outputs": [
    {
     "name": "stdout",
     "output_type": "stream",
     "text": [
      "1번 학생 축하합니다.\n",
      "3번 학생 축하합니다.\n",
      "5번 학생 축하합니다.\n",
      "1\n",
      "3\n",
      "5\n"
     ]
    }
   ],
   "source": [
    "#연습\n",
    "#1)for문\n",
    "marks = [90, 25, 67, 45, 80]\n",
    "\n",
    "\n",
    "for i in range(len(marks)):\n",
    "    # print('i', i)\n",
    "    # print('marks[i]', marks[i])\n",
    "    if marks[i] < 60:\n",
    "        continue\n",
    "    print(f\"{i+1}번 학생 축하합니다.\")\n",
    "\n",
    "    \n",
    "#2)while문\n",
    "marks = [90, 25, 67, 45, 80]\n",
    "\n",
    "i = 0\n",
    "\n",
    "while i < len(marks) : #i가 marks의 인덱스 값보다 크거나 같으면 계속 굴러감, 그래서 i보다 marks의 인덱스 수가 더 커야함\n",
    "    if marks[i] < 60:\n",
    "        i += 1 #i가 하나씩 증가해야함\n",
    "        continue\n",
    "    i += 1 #얜 for문에서 {i+1}에 해당됨 continue써서 2,4출력하게 해준걸 걸려진 애들로만 뽑게 해줌\n",
    "    print(i)#여기선 i만 출력해줬는데 for문에서 i+1해준걸 while문 바로위 'i += 1'로 미리 해줘서 i만 출력한거임\n"
   ]
  },
  {
   "cell_type": "code",
   "execution_count": 13,
   "id": "1713c4d7-f92a-4467-b203-c979fdc07938",
   "metadata": {},
   "outputs": [
    {
     "name": "stdout",
     "output_type": "stream",
     "text": [
      "변환된 arr 은 [3, 2, 4, 1]입니다.\n"
     ]
    }
   ],
   "source": [
    "#연습\n",
    "arr = [1, 4, 2, 3]\n",
    "\n",
    "left, right = 0, len(arr) - 1\n",
    "\n",
    "while left < (len(arr) // 2): #또는 left < right:\n",
    "    arr[left], arr[right] = arr[right], arr[left]\n",
    "    left += 1\n",
    "    right -= 1\n",
    "\n",
    "print(f\"변환된 arr 은 {arr}입니다.\")"
   ]
  },
  {
   "cell_type": "code",
   "execution_count": 94,
   "id": "d0c850ac-1dec-42fb-932d-87e6c2d5a8f3",
   "metadata": {},
   "outputs": [
    {
     "name": "stdout",
     "output_type": "stream",
     "text": [
      "2 * 1 = 2\t3 * 1 = 3\t4 * 1 = 4\t5 * 1 = 5\t6 * 1 = 6\t7 * 1 = 7\t8 * 1 = 8\t9 * 1 = 9\t\n",
      "2 * 2 = 4\t3 * 2 = 6\t4 * 2 = 8\t5 * 2 = 10\t6 * 2 = 12\t7 * 2 = 14\t8 * 2 = 16\t9 * 2 = 18\t\n",
      "2 * 3 = 6\t3 * 3 = 9\t4 * 3 = 12\t5 * 3 = 15\t6 * 3 = 18\t7 * 3 = 21\t8 * 3 = 24\t9 * 3 = 27\t\n",
      "2 * 4 = 8\t3 * 4 = 12\t4 * 4 = 16\t5 * 4 = 20\t6 * 4 = 24\t7 * 4 = 28\t8 * 4 = 32\t9 * 4 = 36\t\n",
      "2 * 5 = 10\t3 * 5 = 15\t4 * 5 = 20\t5 * 5 = 25\t6 * 5 = 30\t7 * 5 = 35\t8 * 5 = 40\t9 * 5 = 45\t\n",
      "2 * 6 = 12\t3 * 6 = 18\t4 * 6 = 24\t5 * 6 = 30\t6 * 6 = 36\t7 * 6 = 42\t8 * 6 = 48\t9 * 6 = 54\t\n",
      "2 * 7 = 14\t3 * 7 = 21\t4 * 7 = 28\t5 * 7 = 35\t6 * 7 = 42\t7 * 7 = 49\t8 * 7 = 56\t9 * 7 = 63\t\n",
      "2 * 8 = 16\t3 * 8 = 24\t4 * 8 = 32\t5 * 8 = 40\t6 * 8 = 48\t7 * 8 = 56\t8 * 8 = 64\t9 * 8 = 72\t\n",
      "2 * 9 = 18\t3 * 9 = 27\t4 * 9 = 36\t5 * 9 = 45\t6 * 9 = 54\t7 * 9 = 63\t8 * 9 = 72\t9 * 9 = 81\t\n",
      "2x1=2\t3x1=3\t4x1=4\t5x1=5\t6x1=6\t7x1=7\t8x1=8\t9x1=9\t\n",
      "\n",
      "\n",
      "\n",
      "\n",
      "\n",
      "\n",
      "\n",
      "\n"
     ]
    }
   ],
   "source": [
    "#연습 구구단전체\n",
    "#1)for문\n",
    "for i in range(1, 10):\n",
    "    for j in range(2, 10):\n",
    "        print(f\"{j} * {i} = {j*i}\", end = \"\\t\")\n",
    "    print() #중첩for문 밖에 프린트()안에 아무것도 안넣으면 줄바꿈\n",
    "\n",
    "#print( j, \"*\", i, \"=\", j*i)\n",
    "\n",
    "\n",
    "#2)while문(while안에 또 while쓸 수 있음)\n",
    "\n",
    "i = 1\n",
    "j = 2\n",
    "\n",
    "while i < 10:\n",
    "    while j < 10:\n",
    "        print(j, \"x\", i, \"=\", j*i, sep=\"\", end = \"\\t\")\n",
    "        j += 1\n",
    "    i += 1\n",
    "    print()\n",
    "    "
   ]
  },
  {
   "cell_type": "markdown",
   "id": "01a7aed1-0993-4e62-8d1e-fc4a740342f9",
   "metadata": {},
   "source": [
    "### Dictionary"
   ]
  },
  {
   "cell_type": "code",
   "execution_count": null,
   "id": "fcf946f4-4e8e-437e-8023-0cb179f20649",
   "metadata": {},
   "outputs": [],
   "source": [
    "#key는 시퀀스 자료형의 index와 비슷함, key는 value를 찾기 위해 존재, key/value는 1개:1개-한쌍으로 움직이고 한쌍의 집합이 딕셔너리\n",
    "#value에는 어떤 값이든 올 수 있음, str()타입이 아니어도 됨, dic는 dictionary의 앞글자를 딴거임\n",
    "#key값이 같고 value값이 다를 땐 제일 나중에 쓴 값만 남는다.\n",
    "#앞에 dict(키값 = \"벨류\" ~)이렇게 하면 키값이 \"\"안써도 되고 출력될땐 따옴표들이 알아서 나옴\n",
    "#zip()함수 사용할 때  벨류가 키값보다 적으면 벨류 수만큼만 합쳐짐"
   ]
  },
  {
   "cell_type": "code",
   "execution_count": 52,
   "id": "3a705f76-691f-452b-bcc9-9ab50219ccf9",
   "metadata": {},
   "outputs": [
    {
     "name": "stdout",
     "output_type": "stream",
     "text": [
      "[<class 'str'>, <class 'int'>, <class 'float'>, <class 'tuple'>]\n"
     ]
    }
   ],
   "source": [
    "#예제\n",
    "dic_var = {\"key\" : \"value\",\n",
    "           1 : \"value2\",\n",
    "           1.1 : \"value3\",\n",
    "           True : \"value4\",\n",
    "           (\"key\", 1, 1.1, True): \"value2\"}\n",
    "print(list(map(type, dic_var.keys())))"
   ]
  },
  {
   "cell_type": "code",
   "execution_count": null,
   "id": "7e3b141d-6272-4b52-a704-c1261db22cf5",
   "metadata": {},
   "outputs": [],
   "source": [
    "#예제\n",
    "dic_var = {\"key\" : \"value\"}~~~~~~~~~"
   ]
  },
  {
   "cell_type": "code",
   "execution_count": 73,
   "id": "a5cbab93-f7ef-496d-861b-23e97538587a",
   "metadata": {},
   "outputs": [
    {
     "name": "stdin",
     "output_type": "stream",
     "text": [
      "과일 이름 :  사과\n"
     ]
    },
    {
     "name": "stdout",
     "output_type": "stream",
     "text": [
      "1000원\n"
     ]
    },
    {
     "name": "stdin",
     "output_type": "stream",
     "text": [
      "과일 이름 :  사과\n"
     ]
    },
    {
     "name": "stdout",
     "output_type": "stream",
     "text": [
      "사과의 가격은 1000원원 입니다.\n"
     ]
    }
   ],
   "source": [
    "#연습\n",
    "a = input(\"과일 이름 : \")\n",
    "\n",
    "dic_f = dict(사과 = \"1000원\", 바나나 = \"700원\", 오렌지 = \"1500원\", 파인애플 = \"2000원\")  \n",
    "\n",
    "print(dic_f[a])#list의 인덱스처럼, print(dic_f[\"사과\"])로 하면 사과의 값(value)가 나옴\n",
    "\n",
    "#선생님코드\n",
    "dic_f = {\"사과\" : \"1000원\", \"바나나\" : \"700원\", \"오렌지\" : \"1500원\", \"파인애플\" : \"2000원\"}\n",
    "\n",
    "f_input = input(\"과일 이름 : \")\n",
    "\n",
    "print(f\"{f_input}의 가격은 {dic_f[f_input]}원 입니다.\")"
   ]
  },
  {
   "cell_type": "code",
   "execution_count": 88,
   "id": "675e2a18-c231-4e62-ab1c-af8267b376a7",
   "metadata": {},
   "outputs": [
    {
     "name": "stdin",
     "output_type": "stream",
     "text": [
      "이름 입력 :  뽀로로 루피 크롱 에디\n",
      "몸무게 입력 :  20.4 16.2 22.3 5.2\n"
     ]
    },
    {
     "name": "stdout",
     "output_type": "stream",
     "text": [
      "{'뽀로로': 20.4, '루피': 16.2, '크롱': 22.3, '에디': 5.2}\n"
     ]
    }
   ],
   "source": [
    "#연습\n",
    "name = list(input(\"이름 입력 : \").split()) #스플릿->리스트로 씌우기(리스트를 씌우는 이유는 스플릿으로 난눈 값들을 한번에 모으기 위해서)\n",
    "we = list(map(float, input(\"몸무게 입력 : \").split())) #스플릿 -> 맵 -> 리스트로 씌우기\n",
    "\n",
    "# print(name, we) : 중간에 프린트 넣어서 리스트로 잘 만들어 졌는지 확인\n",
    "\n",
    "dic_p = dict(zip(name, we)) #dict(zip([키],[벨류]))이걸써야 매칭이 되는데, 이미 리스트 상태일땐 리스트로 보여준다는 []를 삭제해줘야함\n",
    "print(dic_p)\n",
    "\n",
    "\n",
    "\n",
    "#선생님 코드\n",
    "names = input(\"이름\").split()\n",
    "weights = map(float, input(\"몸무게\").split())\n",
    "\n",
    "dict_info = dict(zip(names, weights))\n",
    "print(dict_info)\n",
    "\n",
    "\n",
    "\n",
    "\n",
    "#for문 사용하는 코드\n",
    "\n",
    "#뽀로로 크롱 루피 스누피\n",
    "names = input(\"이름\").split()\n",
    "#20.1 16.2 25.2 5.3\n",
    "weights = list(map(float, input(\"몸무게를 입력하세요:\").split()))\n",
    "\n",
    "dict_mm = {}\n",
    "# dict_mm = dict()\n",
    "# len(names) --> 4\n",
    "# range(4) --> 0, 1, 2, 3\n",
    "# i --> i = 1 반복, i = 2 반복, i = 3 반복, i = 4 반복\n",
    "for i in range(len(names)):\n",
    "    dict_mm[name[i]] = weights[i]\n",
    "    \n",
    "print(dict_mm)"
   ]
  },
  {
   "cell_type": "code",
   "execution_count": null,
   "id": "78ffb464-9639-44f2-9b25-eaa774804f34",
   "metadata": {},
   "outputs": [],
   "source": []
  },
  {
   "cell_type": "code",
   "execution_count": 90,
   "id": "14665b79-fafc-4039-a638-39f8d894303a",
   "metadata": {},
   "outputs": [
    {
     "name": "stdin",
     "output_type": "stream",
     "text": [
      "이름 뽀로로 크롱 루피 스누피\n",
      "몸무게를 입력하세요: 20.1 16.2 25.2 5.3\n"
     ]
    },
    {
     "name": "stdout",
     "output_type": "stream",
     "text": [
      "{'뽀로로': 20.1, '루피': 16.2, '크롱': 25.2, '에디': 5.3}\n"
     ]
    }
   ],
   "source": [
    "#for문 사용하는 코드\n",
    "#뽀로로 크롱 루피 스누피\n",
    "names = input(\"이름\").split()\n",
    "#20.1 16.2 25.2 5.3\n",
    "weights = list(map(float, input(\"몸무게를 입력하세요:\").split()))\n",
    "\n",
    "dict_mm = {}\n",
    "# dict_mm = dict()\n",
    "# len(names) --> 4\n",
    "# range(4) --> 0, 1, 2, 3\n",
    "# i --> i = 1 반복, i = 2 반복, i = 3 반복, i = 4 반복\n",
    "for i in range(len(names)):\n",
    "    dict_mm[name[i]] = weights[i]\n",
    "    \n",
    "print(dict_mm)"
   ]
  },
  {
   "cell_type": "code",
   "execution_count": 91,
   "id": "e1857bf9-fb7a-4caf-8e9e-9d2e74c84476",
   "metadata": {},
   "outputs": [
    {
     "name": "stdout",
     "output_type": "stream",
     "text": [
      "input_text = 20.4 16.2 22.3 5.2\n",
      "split() 결과 = ['20.4', '16.2', '22.3', '5.2']\n",
      "map 결과 = <map object at 0x000001FF801201F0>\n",
      "list 결과 = [20.4, 16.2, 22.3, 5.2]\n"
     ]
    }
   ],
   "source": [
    "#설명!!\n",
    "\n",
    "# 함수는 안쪽것부터 실행됨\n",
    "# weight = list(map(float, input('몸무게를 입력해주세요').split()))\n",
    "# input() 한거를 split() 한거를 map() 한거를 list()\n",
    "# 아래의 문자열을 input()으로 받았다고 가정\n",
    "input_text = '20.4 16.2 22.3 5.2'\n",
    "print('input_text =', input_text)\n",
    "# split()을 한다면 어떻게 바뀔까?\n",
    "input_text = input_text.split()\n",
    "print('split() 결과 =', input_text)\n",
    "# map을 쓰는 이유\n",
    "# 하나라면 float()으로 바꿔줄 수 있지만 split()한 결과처럼 여러개라면 map이 필요\n",
    "input_text = map(float, '20.4 16.2 22.3 5.2'.split())\n",
    "print('map 결과 =', input_text)\n",
    "# map한것들을 list()를 사용해 리스트로 만들어주자!\n",
    "input_text = list(input_text)\n",
    "print('list 결과 =', input_text)"
   ]
  },
  {
   "cell_type": "code",
   "execution_count": null,
   "id": "c6aff512-a5ff-4d0d-a5cb-d7a81d836235",
   "metadata": {},
   "outputs": [],
   "source": [
    "#예제\n",
    "list_b = list(map(int, input(\"숫자띄어쓰기로 구분하여 여럿\")"
   ]
  },
  {
   "cell_type": "code",
   "execution_count": 99,
   "id": "8e940c73-d5fa-4bcc-a5f0-60023f93b6aa",
   "metadata": {},
   "outputs": [
    {
     "name": "stdout",
     "output_type": "stream",
     "text": [
      "['a', 'b', 'c', 'd']\n"
     ]
    }
   ],
   "source": [
    "#예제 \n",
    "list_sample = \"a b c d\".split()\n",
    "print(list_sample)"
   ]
  },
  {
   "cell_type": "code",
   "execution_count": 3,
   "id": "af64444b-6e4c-4726-b6e2-2ccc79315866",
   "metadata": {},
   "outputs": [
    {
     "name": "stdout",
     "output_type": "stream",
     "text": [
      "[0, 1, 4, 9, 16, 25, 36, 49, 64, 81]\n",
      "Hello\n",
      "Hello\n",
      "Hello\n",
      "Hello\n",
      "Hello\n",
      "[None, None, None, None, None]\n"
     ]
    }
   ],
   "source": [
    "#예제\n",
    "\n",
    "#리스트 컴프리헨션(1.반복 2.변수활용 가능), 대괄호 꼭 사용,\n",
    "# -> list_variable = [expression for 변수 in iterable], iterable은 반복가능한 객체\n",
    "\n",
    "#range --> 0~9까지\n",
    "#i --> 0~i까지 = 9\n",
    "#list_a = [/i ** 2/-->expression for /i/-->변수 in /range(10)/-->iterable]\n",
    "list_a = [i ** 2 for i in range(10)]\n",
    "print(list_a)\n",
    "\n",
    "list_b = [print(\"Hello\") for i in range(5)]\n",
    "print(list_b)#list_b를 출력해도 뭐가 나오진 않음"
   ]
  },
  {
   "cell_type": "code",
   "execution_count": 1,
   "id": "0743773b-e60a-4b39-a591-582cb41b3b29",
   "metadata": {},
   "outputs": [
    {
     "name": "stdout",
     "output_type": "stream",
     "text": [
      "[1, 4, 9, 16, 25, 36, 49, 64, 81]\n",
      "[1, 4, 9, 16, 25, 36, 49, 64, 81]\n"
     ]
    }
   ],
   "source": [
    "#예제\n",
    "\n",
    "list_c = []\n",
    "for i in range(1, 10):\n",
    "    list_c.append(i ** 2)\n",
    "    \n",
    "print(list_c)\n",
    "\n",
    "\n",
    "#위에껄 한코드로\n",
    "list_d = [i ** 2 for i in range(1,10)] # 대괄호 끝에 ':' 사용안함\n",
    "\n",
    "print(list_d)"
   ]
  },
  {
   "cell_type": "code",
   "execution_count": 2,
   "id": "aee7650b-eaad-4759-bd58-5a4191f8d555",
   "metadata": {},
   "outputs": [
    {
     "name": "stdout",
     "output_type": "stream",
     "text": [
      "<class 'list'>\n",
      "[1, 4, 9, 16, 25, 36, 49, 64, 81]\n"
     ]
    }
   ],
   "source": [
    "#연습(위에꺼 응용)\n",
    "prac_result = [i ** 2 for i in range(1, 10)]\n",
    "\n",
    "print(type(prac_result))\n",
    "print(prac_result)"
   ]
  },
  {
   "cell_type": "code",
   "execution_count": null,
   "id": "5109796e-9c56-444f-88ba-0f18fb4cf6fb",
   "metadata": {},
   "outputs": [],
   "source": []
  }
 ],
 "metadata": {
  "kernelspec": {
   "display_name": "Python 3 (ipykernel)",
   "language": "python",
   "name": "python3"
  },
  "language_info": {
   "codemirror_mode": {
    "name": "ipython",
    "version": 3
   },
   "file_extension": ".py",
   "mimetype": "text/x-python",
   "name": "python",
   "nbconvert_exporter": "python",
   "pygments_lexer": "ipython3",
   "version": "3.9.13"
  }
 },
 "nbformat": 4,
 "nbformat_minor": 5
}
