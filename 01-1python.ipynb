{
 "cells": [
  {
   "cell_type": "markdown",
   "id": "9f423e18-fca6-4c93-8575-dcc18a62a28e",
   "metadata": {},
   "source": [
    "# 23/1/4(수요일)"
   ]
  },
  {
   "cell_type": "markdown",
   "id": "ab953dae-e732-4ff0-837c-5412f476e18b",
   "metadata": {},
   "source": [
    "## 1. version"
   ]
  },
  {
   "cell_type": "code",
   "execution_count": 1,
   "id": "83cf15a5-6fd4-4475-be32-6cd9eaff52bd",
   "metadata": {},
   "outputs": [
    {
     "name": "stdout",
     "output_type": "stream",
     "text": [
      "3.9.13 (main, Aug 25 2022, 23:51:50) [MSC v.1916 64 bit (AMD64)]\n"
     ]
    }
   ],
   "source": [
    "import sys\n",
    "print(sys.version)"
   ]
  },
  {
   "cell_type": "markdown",
   "id": "01880c8e-3e33-472a-9375-5e3350f94634",
   "metadata": {},
   "source": [
    "## 2. !dir"
   ]
  },
  {
   "cell_type": "code",
   "execution_count": 2,
   "id": "5f63d819-ae49-43a9-9811-30d77f7bce97",
   "metadata": {},
   "outputs": [
    {
     "name": "stdout",
     "output_type": "stream",
     "text": [
      " C 드라이브의 볼륨에는 이름이 없습니다.\n",
      " 볼륨 일련 번호: 7687-AB5B\n",
      "\n",
      " C:\\python 디렉터리\n",
      "\n",
      "2023-01-04  오전 10:15    <DIR>          .\n",
      "2023-01-04  오전 10:15    <DIR>          ..\n",
      "2023-01-04  오전 10:15    <DIR>          .ipynb_checkpoints\n",
      "2023-01-04  오전 10:14                72 01python.ipynb\n",
      "               1개 파일                  72 바이트\n",
      "               3개 디렉터리  176,548,872,192 바이트 남음\n"
     ]
    }
   ],
   "source": [
    "!dir"
   ]
  },
  {
   "cell_type": "code",
   "execution_count": null,
   "id": "0f7adcb2-a87c-425c-abcc-cb9084d450c0",
   "metadata": {},
   "outputs": [],
   "source": []
  }
 ],
 "metadata": {
  "kernelspec": {
   "display_name": "Python 3 (ipykernel)",
   "language": "python",
   "name": "python3"
  },
  "language_info": {
   "codemirror_mode": {
    "name": "ipython",
    "version": 3
   },
   "file_extension": ".py",
   "mimetype": "text/x-python",
   "name": "python",
   "nbconvert_exporter": "python",
   "pygments_lexer": "ipython3",
   "version": "3.9.13"
  }
 },
 "nbformat": 4,
 "nbformat_minor": 5
}
