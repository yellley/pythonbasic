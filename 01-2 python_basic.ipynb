{
 "cells": [
  {
   "cell_type": "markdown",
   "id": "b1be2539-57a6-44c5-b273-bbe7baf9dc99",
   "metadata": {},
   "source": [
    "## 23/1/4(수요일)"
   ]
  },
  {
   "cell_type": "markdown",
   "id": "6abb6cbe-d5ca-45ba-a07b-764bb9f703b6",
   "metadata": {},
   "source": [
    "## 1. 주석 사용 하기 "
   ]
  },
  {
   "cell_type": "code",
   "execution_count": 1,
   "id": "5fbef317-bbf5-4570-943d-a6d0e3433bff",
   "metadata": {},
   "outputs": [],
   "source": [
    "#주석 사용하기\n",
    "x = 1 #여기서 =(등호) 기호는 수학의 같다는 의미와는 다르다.\n",
    "      #...우측 변의 리터럴을 좌측 변의 변수에 대입한다는 의미다.\n",
    "\n",
    "text = \"#이것은 주석이 아닙니다. 따옴표 안은 문자열 리터럴입니다.\""
   ]
  },
  {
   "cell_type": "code",
   "execution_count": 4,
   "id": "3486e8ee-d95c-484a-b610-72d99eb75afc",
   "metadata": {},
   "outputs": [
    {
     "name": "stdout",
     "output_type": "stream",
     "text": [
      "1\n"
     ]
    }
   ],
   "source": [
    "print(x)"
   ]
  },
  {
   "cell_type": "code",
   "execution_count": 6,
   "id": "1e0ed233-2b6b-432c-8c6f-31db0eca367c",
   "metadata": {},
   "outputs": [
    {
     "name": "stdout",
     "output_type": "stream",
     "text": [
      "#이것은 주석이 아닙니다. 따옴표 안은 문자열 리터럴입니다.\n"
     ]
    }
   ],
   "source": [
    "print(text)"
   ]
  },
  {
   "cell_type": "markdown",
   "id": "3a52bb5b-3e1d-46d3-b6b0-404e3b6d02f2",
   "metadata": {},
   "source": [
    "## 2. 변수 활용한 print"
   ]
  },
  {
   "cell_type": "code",
   "execution_count": 19,
   "id": "ef56a45a-d3ab-4476-8e76-dd87d3f81723",
   "metadata": {},
   "outputs": [
    {
     "name": "stdout",
     "output_type": "stream",
     "text": [
      "Hello, world!\n",
      "Hello, world!\n",
      "Python Programming\n"
     ]
    }
   ],
   "source": [
    "a = \"Hello, world!\"\n",
    "b = \"Python Programming\"\n",
    "\n",
    "print(a)\n",
    "print(a)\n",
    "print(b)"
   ]
  },
  {
   "cell_type": "markdown",
   "id": "68342852-5a37-43a1-9c40-e1d484ad79ad",
   "metadata": {},
   "source": [
    "## 3. 연산(사칙,제곱,진법 등)"
   ]
  },
  {
   "cell_type": "code",
   "execution_count": 20,
   "id": "a46307e5-2125-4b59-857d-946b97fa342e",
   "metadata": {},
   "outputs": [
    {
     "data": {
      "text/plain": [
       "89"
      ]
     },
     "execution_count": 20,
     "metadata": {},
     "output_type": "execute_result"
    }
   ],
   "source": [
    "13+(22-3)*4"
   ]
  },
  {
   "cell_type": "code",
   "execution_count": 21,
   "id": "ad0de99e-c1bf-4339-96b0-90154523f946",
   "metadata": {},
   "outputs": [
    {
     "data": {
      "text/plain": [
       "28.2"
      ]
     },
     "execution_count": 21,
     "metadata": {},
     "output_type": "execute_result"
    }
   ],
   "source": [
    "13+((22-3)*4)/5"
   ]
  },
  {
   "cell_type": "code",
   "execution_count": 23,
   "id": "194e836a-1bcb-4c6a-a8a7-dded72a787c5",
   "metadata": {},
   "outputs": [
    {
     "data": {
      "text/plain": [
       "3"
      ]
     },
     "execution_count": 23,
     "metadata": {},
     "output_type": "execute_result"
    }
   ],
   "source": [
    "7//2 #몫구하기"
   ]
  },
  {
   "cell_type": "code",
   "execution_count": 25,
   "id": "3a8cb0f6-6b9b-4cea-b45b-7ace3cb64982",
   "metadata": {},
   "outputs": [
    {
     "data": {
      "text/plain": [
       "1"
      ]
     },
     "execution_count": 25,
     "metadata": {},
     "output_type": "execute_result"
    }
   ],
   "source": [
    "7%2 #나머지"
   ]
  },
  {
   "cell_type": "code",
   "execution_count": 28,
   "id": "3051d44f-ada3-4e98-b012-74e5d6d221f2",
   "metadata": {},
   "outputs": [
    {
     "data": {
      "text/plain": [
       "4"
      ]
     },
     "execution_count": 28,
     "metadata": {},
     "output_type": "execute_result"
    }
   ],
   "source": [
    "2**2 #거듭제곱"
   ]
  },
  {
   "cell_type": "code",
   "execution_count": 30,
   "id": "a74a63a2-a081-45ac-a4cb-0d6f0bca27b7",
   "metadata": {},
   "outputs": [
    {
     "data": {
      "text/plain": [
       "1.7320508075688772"
      ]
     },
     "execution_count": 30,
     "metadata": {},
     "output_type": "execute_result"
    }
   ],
   "source": [
    "3**(1/2) #제곱근"
   ]
  },
  {
   "cell_type": "code",
   "execution_count": 33,
   "id": "9ace917a-4d67-4cb4-aabf-1e931a2fdffd",
   "metadata": {},
   "outputs": [
    {
     "data": {
      "text/plain": [
       "104"
      ]
     },
     "execution_count": 33,
     "metadata": {},
     "output_type": "execute_result"
    }
   ],
   "source": [
    "int(3.3) #실수를 정수로 변환\n",
    "int(5/3) #실수를 정수로 변환\n",
    "int('104') #문자열을 실수로 변환\n",
    "#print안쓰면 마지막꺼 하나만 나옴, 각각 다써줘야 다나옴"
   ]
  },
  {
   "cell_type": "code",
   "execution_count": 34,
   "id": "357e0d3f-5334-431b-bdad-5172c335d436",
   "metadata": {},
   "outputs": [
    {
     "data": {
      "text/plain": [
       "16.0"
      ]
     },
     "execution_count": 34,
     "metadata": {},
     "output_type": "execute_result"
    }
   ],
   "source": [
    "float(3)#정수를 실수로 변환\n",
    "float(4*4) #정수를 실수로 변환"
   ]
  },
  {
   "cell_type": "code",
   "execution_count": 38,
   "id": "c75d1afc-a4fa-4da4-8142-7481ed1a4d0f",
   "metadata": {},
   "outputs": [
    {
     "name": "stdout",
     "output_type": "stream",
     "text": [
      "가장 시끄러운 층은 =  7 층\n"
     ]
    }
   ],
   "source": [
    "m = 12\n",
    "q = int(0.2467 * m + 4.159)\n",
    "\n",
    "print(\"가장 시끄러운 층은 = \", q, \"층\")"
   ]
  },
  {
   "cell_type": "code",
   "execution_count": 39,
   "id": "ce3c4cc8-6958-4511-b44f-b4f5fa93c7f7",
   "metadata": {},
   "outputs": [
    {
     "name": "stdout",
     "output_type": "stream",
     "text": [
      "이렇게 합치면 한 문장이 된다.\n"
     ]
    }
   ],
   "source": [
    "print(\"이렇게\", \"합치면\", \"한 문장이 된다.\")"
   ]
  },
  {
   "cell_type": "code",
   "execution_count": 40,
   "id": "8652684d-c2f6-4020-9955-0933b3a53a81",
   "metadata": {},
   "outputs": [
    {
     "name": "stdout",
     "output_type": "stream",
     "text": [
      "냉장고 가격은 1272000 원 입니다.\n"
     ]
    }
   ],
   "source": [
    "a = 53000*24\n",
    "\n",
    "print(\"냉장고 가격은\", a,\"원 입니다.\")"
   ]
  },
  {
   "cell_type": "code",
   "execution_count": 2,
   "id": "a474ebf7-f696-4630-8d3e-cb467fd3e437",
   "metadata": {},
   "outputs": [
    {
     "name": "stdout",
     "output_type": "stream",
     "text": [
      "총 지불 해야 할 금액은 150000000 원 입니다.\n",
      "총 지불해야 할 금액은 14999999 원 입니다.\n"
     ]
    }
   ],
   "source": [
    "people = 250\n",
    "tax = 0.1\n",
    "\n",
    "print(\"총 지불 해야 할 금액은\",int(((20000*3)*people)/tax) ,\"원 입니다.\")\n",
    "\n",
    "#답\n",
    "people = 250\n",
    "tax = 10/100\n",
    "\n",
    "print(\"총 지불해야 할 금액은\", int(people * (20000 * 3) / 1-tax),\"원 입니다.\") #다시해야함"
   ]
  },
  {
   "cell_type": "code",
   "execution_count": 45,
   "id": "9f8488de-b336-4e25-bea3-c9f1ea7fc818",
   "metadata": {},
   "outputs": [
    {
     "data": {
      "text/plain": [
       "12345000000.0"
      ]
     },
     "execution_count": 45,
     "metadata": {},
     "output_type": "execute_result"
    }
   ],
   "source": [
    "1.2345e10 #10진법표기"
   ]
  },
  {
   "cell_type": "code",
   "execution_count": 47,
   "id": "214d3252-691f-476f-ae96-082c134bbf4d",
   "metadata": {},
   "outputs": [
    {
     "data": {
      "text/plain": [
       "4069"
      ]
     },
     "execution_count": 47,
     "metadata": {},
     "output_type": "execute_result"
    }
   ],
   "source": [
    "#2진법 표기\n",
    "0b111111100101\n",
    "bin(4069)"
   ]
  },
  {
   "cell_type": "code",
   "execution_count": 68,
   "id": "9b7d7904-5227-4e1a-b61d-2d25cb51b056",
   "metadata": {},
   "outputs": [
    {
     "data": {
      "text/plain": [
       "'0b111111100101'"
      ]
     },
     "execution_count": 68,
     "metadata": {},
     "output_type": "execute_result"
    }
   ],
   "source": [
    "bin(4069)"
   ]
  },
  {
   "cell_type": "code",
   "execution_count": 69,
   "id": "a3ba1e3a-a5c8-4ef4-bb7b-a4170bf31014",
   "metadata": {},
   "outputs": [
    {
     "name": "stdout",
     "output_type": "stream",
     "text": [
      "17\n",
      "33\n"
     ]
    }
   ],
   "source": [
    "print(0o21) #8진수\n",
    "print(0x21) #16진수"
   ]
  },
  {
   "cell_type": "code",
   "execution_count": 73,
   "id": "f5581cd1-6034-417d-beea-43684e38e3b9",
   "metadata": {},
   "outputs": [
    {
     "data": {
      "text/plain": [
       "453.0"
      ]
     },
     "execution_count": 73,
     "metadata": {},
     "output_type": "execute_result"
    }
   ],
   "source": [
    "ap = 380\n",
    "ap * 0.6 + 225"
   ]
  },
  {
   "cell_type": "code",
   "execution_count": 74,
   "id": "d203b7f6-0b1e-4504-baad-4a5c560ca713",
   "metadata": {},
   "outputs": [
    {
     "name": "stdout",
     "output_type": "stream",
     "text": [
      "20\n"
     ]
    }
   ],
   "source": [
    "#a 변수 선언 후 숫자 리터럴 10값을 할당\n",
    "a = 10\n",
    "\n",
    "#a변수 값에 20을 더한 결과를 다시 a에 할당\n",
    "a = a + 10\n",
    "\n",
    "print(a)\n"
   ]
  },
  {
   "cell_type": "markdown",
   "id": "d1247626-5743-44d6-bd75-d34d93a12529",
   "metadata": {},
   "source": [
    "## 4. del"
   ]
  },
  {
   "cell_type": "code",
   "execution_count": 4,
   "id": "d6c63efc-7fd4-4f9a-a5d1-e5f54e045140",
   "metadata": {},
   "outputs": [
    {
     "ename": "NameError",
     "evalue": "name 'a' is not defined",
     "output_type": "error",
     "traceback": [
      "\u001b[1;31m---------------------------------------------------------------------------\u001b[0m",
      "\u001b[1;31mNameError\u001b[0m                                 Traceback (most recent call last)",
      "\u001b[1;32m~\\AppData\\Local\\Temp\\ipykernel_29844\\951160017.py\u001b[0m in \u001b[0;36m<module>\u001b[1;34m\u001b[0m\n\u001b[0;32m      4\u001b[0m \u001b[1;32mdel\u001b[0m \u001b[0ma\u001b[0m\u001b[1;33m\u001b[0m\u001b[1;33m\u001b[0m\u001b[0m\n\u001b[0;32m      5\u001b[0m \u001b[1;33m\u001b[0m\u001b[0m\n\u001b[1;32m----> 6\u001b[1;33m \u001b[0mprint\u001b[0m\u001b[1;33m(\u001b[0m\u001b[0ma\u001b[0m\u001b[1;33m)\u001b[0m \u001b[1;31m#del로 a를 삭제, 출력시 정의 된 것이 없다는 에러 뜸\u001b[0m\u001b[1;33m\u001b[0m\u001b[1;33m\u001b[0m\u001b[0m\n\u001b[0m",
      "\u001b[1;31mNameError\u001b[0m: name 'a' is not defined"
     ]
    }
   ],
   "source": [
    "#a변수 삭제 후 a 변수를 출력해보기\n",
    "a = 1\n",
    "\n",
    "del a\n",
    "\n",
    "print(a) #del로 a를 삭제, 출력시 정의 된 것이 없다는 에러 뜸"
   ]
  },
  {
   "cell_type": "code",
   "execution_count": 76,
   "id": "c2dde019-1673-48d9-a3e8-0cff2c31d04f",
   "metadata": {},
   "outputs": [
    {
     "name": "stdout",
     "output_type": "stream",
     "text": [
      "10\n",
      "20\n"
     ]
    }
   ],
   "source": [
    "a = 10\n",
    "\n",
    "#변수 a에 20값을 더하고 할당하지 않았을 때\n",
    "a + 20\n",
    "print(a) #10\n",
    "\n",
    "a += 10 # a = a+10과 같음\n",
    "print(a)"
   ]
  },
  {
   "cell_type": "code",
   "execution_count": 77,
   "id": "cef704c5-846e-4d22-9c5c-dd0cc9b3963f",
   "metadata": {},
   "outputs": [
    {
     "name": "stdout",
     "output_type": "stream",
     "text": [
      "None\n"
     ]
    }
   ],
   "source": [
    "a = None\n",
    "\n",
    "print(a)"
   ]
  },
  {
   "cell_type": "code",
   "execution_count": 78,
   "id": "06e8a26a-7886-4236-b05b-9dbfe0df4320",
   "metadata": {},
   "outputs": [
    {
     "data": {
      "text/plain": [
       "bool"
      ]
     },
     "execution_count": 78,
     "metadata": {},
     "output_type": "execute_result"
    }
   ],
   "source": [
    "type(True)"
   ]
  },
  {
   "cell_type": "code",
   "execution_count": 79,
   "id": "76e9b278-f858-4c41-b27b-7bb0793f95c9",
   "metadata": {},
   "outputs": [
    {
     "data": {
      "text/plain": [
       "bool"
      ]
     },
     "execution_count": 79,
     "metadata": {},
     "output_type": "execute_result"
    }
   ],
   "source": [
    "type(False)"
   ]
  },
  {
   "cell_type": "code",
   "execution_count": 80,
   "id": "3c849d75-3a9d-4c5f-adbc-4c41b89b645c",
   "metadata": {},
   "outputs": [
    {
     "ename": "NameError",
     "evalue": "name 'TRUE' is not defined",
     "output_type": "error",
     "traceback": [
      "\u001b[1;31m---------------------------------------------------------------------------\u001b[0m",
      "\u001b[1;31mNameError\u001b[0m                                 Traceback (most recent call last)",
      "\u001b[1;32m~\\AppData\\Local\\Temp\\ipykernel_13276\\2034992533.py\u001b[0m in \u001b[0;36m<module>\u001b[1;34m\u001b[0m\n\u001b[1;32m----> 1\u001b[1;33m \u001b[0mtype\u001b[0m\u001b[1;33m(\u001b[0m\u001b[0mTRUE\u001b[0m\u001b[1;33m)\u001b[0m\u001b[1;33m\u001b[0m\u001b[1;33m\u001b[0m\u001b[0m\n\u001b[0m",
      "\u001b[1;31mNameError\u001b[0m: name 'TRUE' is not defined"
     ]
    }
   ],
   "source": [
    "type(TRUE)"
   ]
  },
  {
   "cell_type": "code",
   "execution_count": 81,
   "id": "633ac4df-9fa9-4c0d-9590-e8e6b5d497f7",
   "metadata": {},
   "outputs": [
    {
     "data": {
      "text/plain": [
       "int"
      ]
     },
     "execution_count": 81,
     "metadata": {},
     "output_type": "execute_result"
    }
   ],
   "source": [
    "type(3)"
   ]
  },
  {
   "cell_type": "code",
   "execution_count": 82,
   "id": "6db1476e-ec59-4a62-ab26-b4db352a4f7d",
   "metadata": {},
   "outputs": [
    {
     "data": {
      "text/plain": [
       "float"
      ]
     },
     "execution_count": 82,
     "metadata": {},
     "output_type": "execute_result"
    }
   ],
   "source": [
    "type(3.3)"
   ]
  },
  {
   "cell_type": "code",
   "execution_count": 84,
   "id": "8bcba9a7-935b-4499-956c-fc052b9cd33b",
   "metadata": {},
   "outputs": [
    {
     "data": {
      "text/plain": [
       "int"
      ]
     },
     "execution_count": 84,
     "metadata": {},
     "output_type": "execute_result"
    }
   ],
   "source": [
    "TRUE = 3\n",
    "type(TRUE) #파이썬은 대소문자 구분해주기"
   ]
  },
  {
   "cell_type": "code",
   "execution_count": 86,
   "id": "0305a1b7-80be-4225-a40a-2fbd170cd254",
   "metadata": {},
   "outputs": [
    {
     "name": "stdout",
     "output_type": "stream",
     "text": [
      "이것은 문자열입니다.\n",
      "<class 'str'>\n",
      "이것은 문자열입니다\n",
      "<class 'str'>\n"
     ]
    }
   ],
   "source": [
    "text = '이것은 문자열입니다.'\n",
    "text2 = \"이것은 문자열입니다\"\n",
    "\n",
    "print(text)\n",
    "print(type(text))\n",
    "\n",
    "print(text2)\n",
    "print(type(text2))"
   ]
  },
  {
   "cell_type": "code",
   "execution_count": 87,
   "id": "1cc1e4ae-a8c7-4052-a2fa-9fc38231e6c5",
   "metadata": {},
   "outputs": [
    {
     "name": "stdout",
     "output_type": "stream",
     "text": [
      "don't do that\n",
      "don't do that\n"
     ]
    }
   ],
   "source": [
    "text3 = 'don\\'t do that' #역슬래시 또는 원화표시\n",
    "text4 = \"don't do that\"\n",
    "\n",
    "print(text3)\n",
    "print(text4)"
   ]
  },
  {
   "cell_type": "code",
   "execution_count": 89,
   "id": "ccdce141-1706-4701-9317-05acae4381ad",
   "metadata": {},
   "outputs": [
    {
     "name": "stdout",
     "output_type": "stream",
     "text": [
      "\"안녕?\"이라는 그 인사를 듣고 나는 '누구지?'라고 생각했다.\n"
     ]
    }
   ],
   "source": [
    "print(\"\\\"안녕?\\\"이라는 그 인사를 듣고 나는 '누구지?'라고 생각했다.\")"
   ]
  },
  {
   "cell_type": "code",
   "execution_count": 91,
   "id": "90a6dcec-668f-4ab8-8f97-1798b7a77dff",
   "metadata": {},
   "outputs": [
    {
     "name": "stdout",
     "output_type": "stream",
     "text": [
      "First line. \n",
      "Second line.\n"
     ]
    }
   ],
   "source": [
    "# \\n은 줄바꿈을 의미\n",
    "s = 'First line. \\nSecond line.'\n",
    "print(s)"
   ]
  },
  {
   "cell_type": "code",
   "execution_count": 92,
   "id": "48d2e037-a948-4a8d-81c8-479a0fa36a39",
   "metadata": {},
   "outputs": [
    {
     "name": "stdout",
     "output_type": "stream",
     "text": [
      "c:\\name c:\\name\n"
     ]
    }
   ],
   "source": [
    "s1 = r'c:\\name'#r붙이기\n",
    "s2 = 'c:\\\\name'#역슬래시 2개\n",
    "\n",
    "print(s1, s2)"
   ]
  },
  {
   "cell_type": "code",
   "execution_count": 94,
   "id": "296aa78a-161a-4648-a717-c86eeba67958",
   "metadata": {},
   "outputs": [
    {
     "name": "stdout",
     "output_type": "stream",
     "text": [
      "\n",
      "안녕하세요.\n",
      "나는 파이썬을 공부하고 있습니다.\n",
      "반갑습니다.\n",
      "\n"
     ]
    }
   ],
   "source": [
    "s3 = \"\"\"\n",
    "안녕하세요.\n",
    "나는 파이썬을 공부하고 있습니다.\n",
    "반갑습니다.\n",
    "\"\"\"\n",
    "\n",
    "print(s3) #\"\"\"치고 엔터하니까 공백이 생김, 마지막 줄도 마찬가지"
   ]
  },
  {
   "cell_type": "code",
   "execution_count": 104,
   "id": "46aeb853-7794-4ab1-9d05-0744f14d3853",
   "metadata": {},
   "outputs": [
    {
     "name": "stdout",
     "output_type": "stream",
     "text": [
      "\n",
      "안녕하세요.\n",
      "나는 파이썬을 공부하고 있습니다.\n",
      "반갑습니다.\n"
     ]
    }
   ],
   "source": [
    "s4 = \"\"\"\n",
    "안녕하세요.\n",
    "나는 파이썬을 공부하고 있습니다.\n",
    "반갑습니다.\\\n",
    "\"\"\" #역슬래시를 이용하면 공백생기지 않음, 둘다도 가능하고 한쪽만도 가능함\n",
    "\n",
    "print(s4)"
   ]
  },
  {
   "cell_type": "code",
   "execution_count": 107,
   "id": "121d1cd0-8ec5-459e-9ae2-b63e40ad3d0d",
   "metadata": {},
   "outputs": [
    {
     "name": "stdout",
     "output_type": "stream",
     "text": [
      "\"안녕하세요.\"\n",
      "나는 파이썬을 공부하고 있습니다.\n",
      "반갑습니다.\n"
     ]
    }
   ],
   "source": [
    "s5 = \"\"\"\\\n",
    "\"안녕하세요.\"\n",
    "나는 파이썬을 공부하고 있습니다.\n",
    "반갑습니다.\\\n",
    "\"\"\"\n",
    "\n",
    "print(s5)"
   ]
  },
  {
   "cell_type": "code",
   "execution_count": 112,
   "id": "08dc935a-a287-4010-a008-dfc82aeab66e",
   "metadata": {},
   "outputs": [
    {
     "name": "stdout",
     "output_type": "stream",
     "text": [
      "너무 너무 너무 너무 너무 너무 너무  파이썬 공부가 즐겁습니다.\n",
      "너무 너무 너무 너무 너무 너무 너무 너무 너무 너무 너무 너무 너무 너무 너무 너무 너무 너무 너무 너무 너무 너무 너무 너무 너무 너무 너무 너무 너무 너무 너무 너무 너무 너무 너무 너무 너무 너무 너무 너무 너무 너무 너무 너무 너무 너무 너무 너무 너무 너무 너무 너무 너무 너무 너무 너무 너무 너무 너무 너무 너무 너무 너무 너무 너무 너무 너무 너무 너무 너무 너무 너무 너무 너무 너무 너무 너무 너무 너무 너무 너무 너무 너무 너무 너무 너무 너무 너무 너무 너무 너무 너무 너무 너무 너무 너무 너무 너무 너무 너무 파이썬 공부가 즐겁습니다.\n"
     ]
    }
   ],
   "source": [
    "#내가 한 방법\n",
    "r = \"너무 \"\n",
    "print(r*7,\"파이썬 공부가 즐겁습니다.\")\n",
    "\n",
    "#다른 방법\n",
    "s6 = \"너무 \"*100 + \"파이썬 공부가 즐겁습니다.\"\n",
    "print(s6)"
   ]
  },
  {
   "cell_type": "code",
   "execution_count": 123,
   "id": "3a7f1220-60d2-4621-88cd-f15fec40ec74",
   "metadata": {},
   "outputs": [
    {
     "name": "stdout",
     "output_type": "stream",
     "text": [
      "P\n",
      "Py\n",
      "thon\n",
      "Pyt\n",
      "n\n",
      "hon\n",
      "Pyth\n"
     ]
    },
    {
     "ename": "IndexError",
     "evalue": "string index out of range",
     "output_type": "error",
     "traceback": [
      "\u001b[1;31m---------------------------------------------------------------------------\u001b[0m",
      "\u001b[1;31mIndexError\u001b[0m                                Traceback (most recent call last)",
      "\u001b[1;32m~\\AppData\\Local\\Temp\\ipykernel_13276\\3874346121.py\u001b[0m in \u001b[0;36m<module>\u001b[1;34m\u001b[0m\n\u001b[0;32m      9\u001b[0m \u001b[0mprint\u001b[0m\u001b[1;33m(\u001b[0m\u001b[0mword\u001b[0m\u001b[1;33m[\u001b[0m \u001b[1;33m:\u001b[0m\u001b[1;33m-\u001b[0m\u001b[1;36m2\u001b[0m\u001b[1;33m]\u001b[0m\u001b[1;33m)\u001b[0m\u001b[1;33m\u001b[0m\u001b[1;33m\u001b[0m\u001b[0m\n\u001b[0;32m     10\u001b[0m \u001b[1;33m\u001b[0m\u001b[0m\n\u001b[1;32m---> 11\u001b[1;33m \u001b[0mprint\u001b[0m\u001b[1;33m(\u001b[0m\u001b[0mword\u001b[0m\u001b[1;33m[\u001b[0m\u001b[1;36m6\u001b[0m\u001b[1;33m]\u001b[0m\u001b[1;33m)\u001b[0m\u001b[1;33m\u001b[0m\u001b[1;33m\u001b[0m\u001b[0m\n\u001b[0m",
      "\u001b[1;31mIndexError\u001b[0m: string index out of range"
     ]
    }
   ],
   "source": [
    "word = 'Python'\n",
    "print(word[0]) #인덱싱\n",
    "print(word[0:2]) #슬라이싱\n",
    "print(word[2: ])\n",
    "print(word[ :3])\n",
    "\n",
    "print(word[-1])\n",
    "print(word[-3: ])\n",
    "print(word[ :-2])\n",
    "\n",
    "print(word[6])"
   ]
  },
  {
   "cell_type": "code",
   "execution_count": 125,
   "id": "659e4f53-2855-47f6-976c-0bfc7fa275a8",
   "metadata": {},
   "outputs": [
    {
     "name": "stdout",
     "output_type": "stream",
     "text": [
      "꺾\n",
      "꺾\n"
     ]
    }
   ],
   "source": [
    "sentence = \"중요한 것은 꺾이지 않는 마음\"\n",
    "print(sentence[7])\n",
    "print(sentence[-9])"
   ]
  },
  {
   "cell_type": "code",
   "execution_count": 130,
   "id": "1fa6a486-f7b9-41e2-971e-4764ba986be9",
   "metadata": {},
   "outputs": [
    {
     "name": "stdout",
     "output_type": "stream",
     "text": [
      "Py\n",
      "Py\n",
      "Py\n",
      "on\n",
      "on\n",
      "on\n",
      "yt\n",
      "yt\n",
      "yhn\n"
     ]
    }
   ],
   "source": [
    "word = 'Python'\n",
    "\n",
    "print(word[0:2])\n",
    "print(word[ :2])\n",
    "print(word[ :-4])\n",
    "print(word[4:6])\n",
    "print(word[4: ])\n",
    "print(word[-2: ])\n",
    "print(word[1:3])\n",
    "print(word[-5:-3])\n",
    "print(word[1::2])#2개씩 뛰어넘기, 맨앞에 숫자가 기준 -> 변수명[시작숫자:끝숫자:증감크기]"
   ]
  },
  {
   "cell_type": "code",
   "execution_count": 148,
   "id": "49b92e06-918f-4991-af64-aba76882f983",
   "metadata": {},
   "outputs": [
    {
     "name": "stdout",
     "output_type": "stream",
     "text": [
      "\n",
      "한 것은 꺾이지 않는 마음\n",
      "꺾이지 않는 마음\n",
      "한요중\n",
      "한요중\n",
      "대단한 것은 꺾이지 않는 마음\n"
     ]
    }
   ],
   "source": [
    "sentence = \"중요한 것은 꺾이지 않는 마음\"\n",
    "print(sentence[42:]) #얜 출력 안됨\n",
    "print(sentence[2:42])\n",
    "print(sentence[7: ])\n",
    "print(sentence[-14::-1])#역순으로 가려면 -1씩 증가하게\n",
    "print(sentence[2::-1])#역순으로 가려면 -1씩 증가하게\n",
    "#sentence[0] = \"ㅎ\" --앤오류남\n",
    "#중요한을 대단한으로 바꾸고 싶으면 잘라서 더하면됨\n",
    "sentence = \"대단한\" + sentence[3: ]\n",
    "print(sentence)"
   ]
  },
  {
   "cell_type": "code",
   "execution_count": 150,
   "id": "35def7f3-3785-4b21-8999-81e71d7ba063",
   "metadata": {},
   "outputs": [
    {
     "name": "stdout",
     "output_type": "stream",
     "text": [
      "재밌어요재밌어요재밌어요재밌어요재밌어요재밌어요재밌어요재밌어요재밌어요재밌어요\n",
      "40\n"
     ]
    }
   ],
   "source": [
    "s7 = '재밌어요' * 10\n",
    "print(s7)\n",
    "print(len(s7)) #len을 사용하면 몇개인지(크기)알 수 있음//재밌어요 10번 곱하면 40글자"
   ]
  },
  {
   "cell_type": "code",
   "execution_count": 160,
   "id": "b93bbedd-f992-4ad7-a09b-4206e5767afd",
   "metadata": {},
   "outputs": [
    {
     "name": "stdout",
     "output_type": "stream",
     "text": [
      "[1, 4, 9, 16, 25]\n",
      "1\n",
      "25\n",
      "[9, 16, 25]\n",
      "[4, 9]\n",
      "[1, 4, 9, 16, 25, 36, 49, 64, 81, 100]\n",
      "['a', 'b', 'c', 'd', 'e', 'a', 'b', 'c', 'd', 'e', 'a', 'b', 'c', 'd', 'e']\n",
      "['a', 'b', 'C', 'D', 'E']\n",
      "5\n"
     ]
    }
   ],
   "source": [
    "squares = [1**2, 2**2, 3**2, 4**2, 5**2]\n",
    "print(squares)\n",
    "print(squares[0])\n",
    "print(squares[-1])\n",
    "print(squares[-3: ])\n",
    "print(squares[1:3])\n",
    "\n",
    "#+로 이어붙일 수 있음\n",
    "print(squares + [36, 49, 64, 81, 100])\n",
    "\n",
    "#리스트 여러번 반복하기\n",
    "letters = ['a', 'b', 'c', 'd', 'e']\n",
    "print(letters * 3)\n",
    "\n",
    "letters [2:5] = ['C', 'D', 'E']\n",
    "print(letters)\n",
    "\n",
    "print(len(letters))"
   ]
  },
  {
   "cell_type": "code",
   "execution_count": 157,
   "id": "6cef9a5d-2c13-41d2-9ba7-1e7164b23f4a",
   "metadata": {},
   "outputs": [
    {
     "name": "stdout",
     "output_type": "stream",
     "text": [
      "[1, 8, 27, 12, 125]\n"
     ]
    }
   ],
   "source": [
    "#리스트는 가변, 즉 내용을 변경할 수 있음\n",
    "cubes = [1, 8, 27, 65, 125]\n",
    "cubes[3] = 4 * 3\n",
    "print(cubes)"
   ]
  },
  {
   "cell_type": "code",
   "execution_count": 164,
   "id": "44750739-4813-4830-8e61-7b7f6c94fa56",
   "metadata": {},
   "outputs": [
    {
     "name": "stdout",
     "output_type": "stream",
     "text": [
      "[['a', 'b', 'c'], [1, 2, 3]]\n",
      "['a', 'b', 'c']\n",
      "b\n"
     ]
    }
   ],
   "source": [
    "a = ['a', 'b', 'c']\n",
    "n = [1,2,3]\n",
    "x = [a, n]\n",
    "print(x)\n",
    "print(x[0])#리스트가 합쳐지면 리스트 전체가 한개로 침\n",
    "print(x[0][1])#대괄호가 두개인건 0번 인덱스 안에서 1번을 골라줘"
   ]
  },
  {
   "cell_type": "code",
   "execution_count": 166,
   "id": "e5342dce-aef1-4493-8c5f-36f58038972f",
   "metadata": {},
   "outputs": [
    {
     "name": "stdout",
     "output_type": "stream",
     "text": [
      "True\n",
      "False\n"
     ]
    }
   ],
   "source": [
    "#\n",
    "numbers = [1, 2, 3, 4, 5, 6, 7]\n",
    "print(5 in numbers)\n",
    "print(10 in numbers)"
   ]
  },
  {
   "cell_type": "code",
   "execution_count": null,
   "id": "6bb1915f-a394-4b1b-ab1e-f0a57e59831b",
   "metadata": {},
   "outputs": [],
   "source": []
  }
 ],
 "metadata": {
  "kernelspec": {
   "display_name": "Python 3 (ipykernel)",
   "language": "python",
   "name": "python3"
  },
  "language_info": {
   "codemirror_mode": {
    "name": "ipython",
    "version": 3
   },
   "file_extension": ".py",
   "mimetype": "text/x-python",
   "name": "python",
   "nbconvert_exporter": "python",
   "pygments_lexer": "ipython3",
   "version": "3.9.13"
  }
 },
 "nbformat": 4,
 "nbformat_minor": 5
}
